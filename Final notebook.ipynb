{
 "cells": [
  {
   "cell_type": "markdown",
   "metadata": {
    "id": "lcydgFwCY1t3"
   },
   "source": [
    "# FLIPKART CUSTOMER SENTIMENT PROJECT\n",
    "\n",
    "**Presented by:**\n",
    "\n",
    "1. Pauline Ndungu\n",
    "2. Samuel Mbugua Igecha\n",
    "3. Leonard Rotich\n",
    "4. Samwel Muiru\n",
    "5. Maureen Anduuru\n",
    "6. Henry Mativo"
   ]
  },
  {
   "cell_type": "code",
   "execution_count": null,
   "metadata": {
    "colab": {
     "base_uri": "https://localhost:8080/"
    },
    "id": "s92_71Oc9HPa",
    "outputId": "c248aada-27d3-4461-ed7c-df0ea5907038"
   },
   "outputs": [
    {
     "name": "stdout",
     "output_type": "stream",
     "text": [
      "Drive already mounted at /content/drive; to attempt to forcibly remount, call drive.mount(\"/content/drive\", force_remount=True).\n"
     ]
    }
   ],
   "source": [
    "from google.colab import drive\n",
    "drive.mount('/content/drive')"
   ]
  },
  {
   "cell_type": "markdown",
   "metadata": {
    "id": "Wh1NiTSoY1t-"
   },
   "source": [
    "# 1.0 Business Understanding\n",
    "## 1.1 Overview\n",
    "\n",
    "Flipkart Private Limited is a prominent Indian e-commerce company headquartered in Bengaluru. Established in Singapore as a private limited company, Flipkart initially specialized in online book sales. Over time, the company expanded its offerings to encompass various product categories such as consumer electronics, fashion, home essentials, groceries, and lifestyle products.\n",
    "\n",
    "In the highly competitive Indian e-commerce landscape, Flipkart's key rivals include Amazon India, Alibaba and domestic contender Snapdeal. As of March 2017, Flipkart secured a substantial 39.5% market share in the Indian e-commerce industry. Notably, the company has established a dominant presence in the apparel segment, thanks to its strategic acquisition of Myntra. Furthermore, Flipkart competes head-to-head with Amazon in the sale of electronics and mobile phones, signifying its strength in those areas."
   ]
  },
  {
   "cell_type": "markdown",
   "metadata": {
    "id": "JZCrB4uzY1uA"
   },
   "source": [
    "## 1.2 Problem Statement\n",
    "The stakeholder for this project is Flipkart, a prominent Indian e-commerce company. Flipkart aims to leverage Natural Language Processing (NLP) techniques to enhance its business understanding and improve customer experiences.\n",
    "\n",
    "The project focuses on utilizing NLP algorithms and methodologies to gain valuable insights from customer feedback, product reviews, and other textual data available on the Flipkart platform. By analyzing and extracting information from this data, Flipkart aims to gain a comprehensive understanding of customer preferences, sentiments, and needs.\n",
    "\n",
    "Specifically, the project involves applying NLP techniques to perform sentiment analysis, topic modeling, and customer sentiment classification. By leveraging these methods, Flipkart seeks to identify emerging trends, popular product categories, and areas for improvement within its offerings.\n",
    "\n",
    "By harnessing the power of NLP, Flipkart aims to enhance its decision-making processes, refine its product selection, and provide a more tailored and satisfying shopping experience for its customers. This project aligns with Flipkart's commitment to continuous innovation and delivering value to its customer base through cutting-edge technologies."
   ]
  },
  {
   "cell_type": "markdown",
   "metadata": {
    "id": "uDPtzrBAY1uB"
   },
   "source": [
    "## 1.3 Metrics of Success\n",
    "To assess the performance of the final model, we utilized accuracy, precision, and recall metrics.\n",
    "\n",
    "Achieving a metric of success with an accuracy of `80%` is a significant goal. This accuracy metric measures the proportion of correctly predicted instances out of the total, indicating that the model or solution being developed has a strong ability to classify instances correctly.\n",
    "\n",
    "Setting the bar at 80% suggests that the model should outperform random chance and deliver a satisfactory level of performance in accurately predicting the target variable."
   ]
  },
  {
   "cell_type": "markdown",
   "metadata": {
    "id": "1ZNe8UVDY1uC"
   },
   "source": [
    "## 1.4 Main Objective\n",
    "\n",
    "Develop an NLP Application that will allow users to input new product reviews and deploy the sentiment analysis model in a production environment to classify the sentiment of reviews in real time.\n",
    "\n",
    "### Specific Objective\n",
    "\n",
    "1.  ***Sentiment Analysis*** - Perform sentiment analysis on customer reviews, ratings, and feedback to accurately identify positive, negative, and neutral sentiments, allowing for actionable insights and targeted improvements.\n",
    "\n",
    "2. Improve the accuracy and relevance of search results and product descriptions by leveraging NLP techniques such as natural language understanding and information extraction.\n",
    "\n"
   ]
  },
  {
   "cell_type": "markdown",
   "metadata": {
    "id": "hJbzgPOKY1uD"
   },
   "source": [
    "# 2.0 Data Understanding\n",
    "\n",
    "The Dataset contains 189,874 rows and 5 columns. The column names include;\n",
    "\n",
    "1. `ProductName` - Name of products\n",
    "2. `Price` - the prices of the products(In Indian Rupees)\n",
    "3. `Rate` - the customers' ratings out of 5\n",
    "4. `Review` - short customer review of the products\n",
    "5. `summary` - more detailed review of the products"
   ]
  },
  {
   "cell_type": "markdown",
   "metadata": {
    "id": "7n-U2YdjY1uD"
   },
   "source": [
    "# 3.0 Data Preparation"
   ]
  },
  {
   "cell_type": "markdown",
   "metadata": {
    "id": "qa7wM_DgY1uE"
   },
   "source": [
    "### Importing Libraries"
   ]
  },
  {
   "cell_type": "code",
   "execution_count": null,
   "metadata": {
    "colab": {
     "base_uri": "https://localhost:8080/"
    },
    "id": "pClAklJRY1uF",
    "outputId": "4449e37c-374f-40f0-e45d-790550c9bc6c"
   },
   "outputs": [
    {
     "name": "stderr",
     "output_type": "stream",
     "text": [
      "[nltk_data] Downloading package punkt to /root/nltk_data...\n",
      "[nltk_data]   Unzipping tokenizers/punkt.zip.\n",
      "[nltk_data] Downloading package stopwords to /root/nltk_data...\n",
      "[nltk_data]   Unzipping corpora/stopwords.zip.\n",
      "[nltk_data] Downloading package wordnet to /root/nltk_data...\n",
      "[nltk_data] Downloading package vader_lexicon to /root/nltk_data...\n"
     ]
    }
   ],
   "source": [
    "import pandas as pd\n",
    "import numpy as np\n",
    "import matplotlib.pyplot as plt\n",
    "%matplotlib inline\n",
    "import seaborn as sns\n",
    "import re\n",
    "import string\n",
    "import pickle\n",
    "\n",
    "# import important libraries\n",
    "import nltk\n",
    "nltk.download('punkt')\n",
    "nltk.download('stopwords')\n",
    "nltk.download('wordnet')\n",
    "nltk.download('vader_lexicon')\n",
    "from nltk.corpus import stopwords\n",
    "from nltk.tokenize import word_tokenize, sent_tokenize\n",
    "from nltk.stem import PorterStemmer, WordNetLemmatizer\n",
    "# from wordcloud import WordCloud, STOPWORDS\n",
    "from nltk.sentiment import SentimentIntensityAnalyzer\n",
    "\n",
    "\n",
    "from sklearn.feature_extraction.text import TfidfVectorizer\n",
    "from sklearn.model_selection import train_test_split\n",
    "from sklearn.ensemble import RandomForestClassifier\n",
    "from sklearn.naive_bayes import MultinomialNB\n",
    "from sklearn.metrics import accuracy_score, f1_score,precision_score, recall_score\n",
    "from sklearn.metrics import confusion_matrix, classification_report, ConfusionMatrixDisplay\n",
    "from imblearn.over_sampling import SMOTE\n",
    "\n",
    "\n",
    "# Warning libraries\n",
    "import warnings\n",
    "warnings.simplefilter(\"ignore\")\n",
    "warnings.filterwarnings('ignore')"
   ]
  },
  {
   "cell_type": "markdown",
   "metadata": {
    "id": "-YUL4bz4Y1uH"
   },
   "source": [
    "### Loading the data"
   ]
  },
  {
   "cell_type": "code",
   "execution_count": null,
   "metadata": {
    "colab": {
     "base_uri": "https://localhost:8080/",
     "height": 206
    },
    "id": "k8siibfMY1uI",
    "outputId": "98bc21ca-55e4-43c0-e4df-66384d2a4322"
   },
   "outputs": [
    {
     "data": {
      "text/html": [
       "\n",
       "\n",
       "  <div id=\"df-000292c7-b51b-4ad6-8773-446ebfa9fa4c\">\n",
       "    <div class=\"colab-df-container\">\n",
       "      <div>\n",
       "<style scoped>\n",
       "    .dataframe tbody tr th:only-of-type {\n",
       "        vertical-align: middle;\n",
       "    }\n",
       "\n",
       "    .dataframe tbody tr th {\n",
       "        vertical-align: top;\n",
       "    }\n",
       "\n",
       "    .dataframe thead th {\n",
       "        text-align: right;\n",
       "    }\n",
       "</style>\n",
       "<table border=\"1\" class=\"dataframe\">\n",
       "  <thead>\n",
       "    <tr style=\"text-align: right;\">\n",
       "      <th></th>\n",
       "      <th>ProductName</th>\n",
       "      <th>Price</th>\n",
       "      <th>Rate</th>\n",
       "      <th>Review</th>\n",
       "      <th>Summary</th>\n",
       "    </tr>\n",
       "  </thead>\n",
       "  <tbody>\n",
       "    <tr>\n",
       "      <th>0</th>\n",
       "      <td>Candes 12 L Room/Personal Air Cooler?ÿ?ÿ(White...</td>\n",
       "      <td>??3,999</td>\n",
       "      <td>5</td>\n",
       "      <td>Super!</td>\n",
       "      <td>Great cooler.. excellent air flow and for this...</td>\n",
       "    </tr>\n",
       "    <tr>\n",
       "      <th>1</th>\n",
       "      <td>Candes 12 L Room/Personal Air Cooler?ÿ?ÿ(White...</td>\n",
       "      <td>??3,999</td>\n",
       "      <td>5</td>\n",
       "      <td>Awesome</td>\n",
       "      <td>Best budget 2 fit cooler. Nice cooling</td>\n",
       "    </tr>\n",
       "    <tr>\n",
       "      <th>2</th>\n",
       "      <td>Candes 12 L Room/Personal Air Cooler?ÿ?ÿ(White...</td>\n",
       "      <td>??3,999</td>\n",
       "      <td>3</td>\n",
       "      <td>Fair</td>\n",
       "      <td>The quality is good but the power of air is de...</td>\n",
       "    </tr>\n",
       "    <tr>\n",
       "      <th>3</th>\n",
       "      <td>Candes 12 L Room/Personal Air Cooler?ÿ?ÿ(White...</td>\n",
       "      <td>??3,999</td>\n",
       "      <td>1</td>\n",
       "      <td>Useless product</td>\n",
       "      <td>Very bad product it's a only a fan</td>\n",
       "    </tr>\n",
       "    <tr>\n",
       "      <th>4</th>\n",
       "      <td>Candes 12 L Room/Personal Air Cooler?ÿ?ÿ(White...</td>\n",
       "      <td>??3,999</td>\n",
       "      <td>3</td>\n",
       "      <td>Fair</td>\n",
       "      <td>Ok ok product</td>\n",
       "    </tr>\n",
       "  </tbody>\n",
       "</table>\n",
       "</div>\n",
       "      <button class=\"colab-df-convert\" onclick=\"convertToInteractive('df-000292c7-b51b-4ad6-8773-446ebfa9fa4c')\"\n",
       "              title=\"Convert this dataframe to an interactive table.\"\n",
       "              style=\"display:none;\">\n",
       "\n",
       "  <svg xmlns=\"http://www.w3.org/2000/svg\" height=\"24px\"viewBox=\"0 0 24 24\"\n",
       "       width=\"24px\">\n",
       "    <path d=\"M0 0h24v24H0V0z\" fill=\"none\"/>\n",
       "    <path d=\"M18.56 5.44l.94 2.06.94-2.06 2.06-.94-2.06-.94-.94-2.06-.94 2.06-2.06.94zm-11 1L8.5 8.5l.94-2.06 2.06-.94-2.06-.94L8.5 2.5l-.94 2.06-2.06.94zm10 10l.94 2.06.94-2.06 2.06-.94-2.06-.94-.94-2.06-.94 2.06-2.06.94z\"/><path d=\"M17.41 7.96l-1.37-1.37c-.4-.4-.92-.59-1.43-.59-.52 0-1.04.2-1.43.59L10.3 9.45l-7.72 7.72c-.78.78-.78 2.05 0 2.83L4 21.41c.39.39.9.59 1.41.59.51 0 1.02-.2 1.41-.59l7.78-7.78 2.81-2.81c.8-.78.8-2.07 0-2.86zM5.41 20L4 18.59l7.72-7.72 1.47 1.35L5.41 20z\"/>\n",
       "  </svg>\n",
       "      </button>\n",
       "\n",
       "\n",
       "\n",
       "    <div id=\"df-aff7e7f0-0f27-4e60-8850-36d8bc849910\">\n",
       "      <button class=\"colab-df-quickchart\" onclick=\"quickchart('df-aff7e7f0-0f27-4e60-8850-36d8bc849910')\"\n",
       "              title=\"Suggest charts.\"\n",
       "              style=\"display:none;\">\n",
       "\n",
       "<svg xmlns=\"http://www.w3.org/2000/svg\" height=\"24px\"viewBox=\"0 0 24 24\"\n",
       "     width=\"24px\">\n",
       "    <g>\n",
       "        <path d=\"M19 3H5c-1.1 0-2 .9-2 2v14c0 1.1.9 2 2 2h14c1.1 0 2-.9 2-2V5c0-1.1-.9-2-2-2zM9 17H7v-7h2v7zm4 0h-2V7h2v10zm4 0h-2v-4h2v4z\"/>\n",
       "    </g>\n",
       "</svg>\n",
       "      </button>\n",
       "    </div>\n",
       "\n",
       "<style>\n",
       "  .colab-df-quickchart {\n",
       "    background-color: #E8F0FE;\n",
       "    border: none;\n",
       "    border-radius: 50%;\n",
       "    cursor: pointer;\n",
       "    display: none;\n",
       "    fill: #1967D2;\n",
       "    height: 32px;\n",
       "    padding: 0 0 0 0;\n",
       "    width: 32px;\n",
       "  }\n",
       "\n",
       "  .colab-df-quickchart:hover {\n",
       "    background-color: #E2EBFA;\n",
       "    box-shadow: 0px 1px 2px rgba(60, 64, 67, 0.3), 0px 1px 3px 1px rgba(60, 64, 67, 0.15);\n",
       "    fill: #174EA6;\n",
       "  }\n",
       "\n",
       "  [theme=dark] .colab-df-quickchart {\n",
       "    background-color: #3B4455;\n",
       "    fill: #D2E3FC;\n",
       "  }\n",
       "\n",
       "  [theme=dark] .colab-df-quickchart:hover {\n",
       "    background-color: #434B5C;\n",
       "    box-shadow: 0px 1px 3px 1px rgba(0, 0, 0, 0.15);\n",
       "    filter: drop-shadow(0px 1px 2px rgba(0, 0, 0, 0.3));\n",
       "    fill: #FFFFFF;\n",
       "  }\n",
       "</style>\n",
       "\n",
       "    <script>\n",
       "      async function quickchart(key) {\n",
       "        const containerElement = document.querySelector('#' + key);\n",
       "        const charts = await google.colab.kernel.invokeFunction(\n",
       "            'suggestCharts', [key], {});\n",
       "      }\n",
       "    </script>\n",
       "\n",
       "      <script>\n",
       "\n",
       "function displayQuickchartButton(domScope) {\n",
       "  let quickchartButtonEl =\n",
       "    domScope.querySelector('#df-aff7e7f0-0f27-4e60-8850-36d8bc849910 button.colab-df-quickchart');\n",
       "  quickchartButtonEl.style.display =\n",
       "    google.colab.kernel.accessAllowed ? 'block' : 'none';\n",
       "}\n",
       "\n",
       "        displayQuickchartButton(document);\n",
       "      </script>\n",
       "      <style>\n",
       "    .colab-df-container {\n",
       "      display:flex;\n",
       "      flex-wrap:wrap;\n",
       "      gap: 12px;\n",
       "    }\n",
       "\n",
       "    .colab-df-convert {\n",
       "      background-color: #E8F0FE;\n",
       "      border: none;\n",
       "      border-radius: 50%;\n",
       "      cursor: pointer;\n",
       "      display: none;\n",
       "      fill: #1967D2;\n",
       "      height: 32px;\n",
       "      padding: 0 0 0 0;\n",
       "      width: 32px;\n",
       "    }\n",
       "\n",
       "    .colab-df-convert:hover {\n",
       "      background-color: #E2EBFA;\n",
       "      box-shadow: 0px 1px 2px rgba(60, 64, 67, 0.3), 0px 1px 3px 1px rgba(60, 64, 67, 0.15);\n",
       "      fill: #174EA6;\n",
       "    }\n",
       "\n",
       "    [theme=dark] .colab-df-convert {\n",
       "      background-color: #3B4455;\n",
       "      fill: #D2E3FC;\n",
       "    }\n",
       "\n",
       "    [theme=dark] .colab-df-convert:hover {\n",
       "      background-color: #434B5C;\n",
       "      box-shadow: 0px 1px 3px 1px rgba(0, 0, 0, 0.15);\n",
       "      filter: drop-shadow(0px 1px 2px rgba(0, 0, 0, 0.3));\n",
       "      fill: #FFFFFF;\n",
       "    }\n",
       "  </style>\n",
       "\n",
       "      <script>\n",
       "        const buttonEl =\n",
       "          document.querySelector('#df-000292c7-b51b-4ad6-8773-446ebfa9fa4c button.colab-df-convert');\n",
       "        buttonEl.style.display =\n",
       "          google.colab.kernel.accessAllowed ? 'block' : 'none';\n",
       "\n",
       "        async function convertToInteractive(key) {\n",
       "          const element = document.querySelector('#df-000292c7-b51b-4ad6-8773-446ebfa9fa4c');\n",
       "          const dataTable =\n",
       "            await google.colab.kernel.invokeFunction('convertToInteractive',\n",
       "                                                     [key], {});\n",
       "          if (!dataTable) return;\n",
       "\n",
       "          const docLinkHtml = 'Like what you see? Visit the ' +\n",
       "            '<a target=\"_blank\" href=https://colab.research.google.com/notebooks/data_table.ipynb>data table notebook</a>'\n",
       "            + ' to learn more about interactive tables.';\n",
       "          element.innerHTML = '';\n",
       "          dataTable['output_type'] = 'display_data';\n",
       "          await google.colab.output.renderOutput(dataTable, element);\n",
       "          const docLink = document.createElement('div');\n",
       "          docLink.innerHTML = docLinkHtml;\n",
       "          element.appendChild(docLink);\n",
       "        }\n",
       "      </script>\n",
       "    </div>\n",
       "  </div>\n"
      ],
      "text/plain": [
       "                                         ProductName     Price Rate  \\\n",
       "0  Candes 12 L Room/Personal Air Cooler?ÿ?ÿ(White...  ??3,999    5   \n",
       "1  Candes 12 L Room/Personal Air Cooler?ÿ?ÿ(White...  ??3,999    5   \n",
       "2  Candes 12 L Room/Personal Air Cooler?ÿ?ÿ(White...  ??3,999    3   \n",
       "3  Candes 12 L Room/Personal Air Cooler?ÿ?ÿ(White...  ??3,999    1   \n",
       "4  Candes 12 L Room/Personal Air Cooler?ÿ?ÿ(White...  ??3,999    3   \n",
       "\n",
       "            Review                                            Summary  \n",
       "0           Super!  Great cooler.. excellent air flow and for this...  \n",
       "1          Awesome             Best budget 2 fit cooler. Nice cooling  \n",
       "2             Fair  The quality is good but the power of air is de...  \n",
       "3  Useless product                 Very bad product it's a only a fan  \n",
       "4             Fair                                      Ok ok product  "
      ]
     },
     "execution_count": 32,
     "metadata": {},
     "output_type": "execute_result"
    }
   ],
   "source": [
    "data = pd.read_csv('/content/drive/MyDrive/flipkart_product.csv', encoding='latin-1')\n",
    "data.head(5)"
   ]
  },
  {
   "cell_type": "markdown",
   "metadata": {
    "id": "AFiVIqSWY1uN"
   },
   "source": [
    "### Data Exploration\n",
    "\n",
    "Before any cleaning and analysis takes place, we will first explore our dataset."
   ]
  },
  {
   "cell_type": "code",
   "execution_count": null,
   "metadata": {
    "id": "0ONRlQDImLKP"
   },
   "outputs": [],
   "source": [
    "# class to describe dataset\n",
    "\n",
    "class Describer:\n",
    "\n",
    "    # initialize object\n",
    "    def __init__(self, df):\n",
    "        self.df = df\n",
    "\n",
    "    # method to check shape of data\n",
    "    def shape(self):\n",
    "        out = print(f\"The DataFrame has:\\n\\t* {self.df.shape[0]} rows\\n\\t* {self.df.shape[1]} columns\", '\\n')\n",
    "        return out\n",
    "\n",
    "    # method to check info on dataset\n",
    "    def data_info(self):\n",
    "        out = print(self.df.info(), '\\n')\n",
    "        return out\n",
    "\n",
    "    # method to describe numerical columns\n",
    "    def data_describe(self):\n",
    "        out = self.df.describe()\n",
    "        return out"
   ]
  },
  {
   "cell_type": "code",
   "execution_count": null,
   "metadata": {
    "colab": {
     "base_uri": "https://localhost:8080/"
    },
    "id": "vc6USB1SmR49",
    "outputId": "1231b95c-6a45-474d-a00e-2eeb0f6da8b0"
   },
   "outputs": [
    {
     "name": "stdout",
     "output_type": "stream",
     "text": [
      "The DataFrame has:\n",
      "\t* 189874 rows\n",
      "\t* 5 columns \n",
      "\n"
     ]
    }
   ],
   "source": [
    "# creating an instance of the class describer\n",
    "describe_df = Describer(data)\n",
    "\n",
    "# lets view the shape of the data\n",
    "describe_df.shape()"
   ]
  },
  {
   "cell_type": "code",
   "execution_count": null,
   "metadata": {
    "colab": {
     "base_uri": "https://localhost:8080/"
    },
    "id": "D_hkeMppY1uO",
    "outputId": "0f43bb4b-4bab-466f-b3fb-50fd19469870"
   },
   "outputs": [
    {
     "name": "stdout",
     "output_type": "stream",
     "text": [
      "<class 'pandas.core.frame.DataFrame'>\n",
      "RangeIndex: 189874 entries, 0 to 189873\n",
      "Data columns (total 5 columns):\n",
      " #   Column       Non-Null Count   Dtype \n",
      "---  ------       --------------   ----- \n",
      " 0   ProductName  189874 non-null  object\n",
      " 1   Price        189873 non-null  object\n",
      " 2   Rate         189873 non-null  object\n",
      " 3   Review       189870 non-null  object\n",
      " 4   Summary      189860 non-null  object\n",
      "dtypes: object(5)\n",
      "memory usage: 7.2+ MB\n"
     ]
    }
   ],
   "source": [
    "#Getting data information\n",
    "data.info()"
   ]
  },
  {
   "cell_type": "code",
   "execution_count": null,
   "metadata": {
    "colab": {
     "base_uri": "https://localhost:8080/"
    },
    "id": "m2WHbP6FY1uP",
    "outputId": "600eac29-86b2-4dfa-b005-385cf3eb9cf3"
   },
   "outputs": [
    {
     "data": {
      "text/plain": [
       "Index(['ProductName', 'Price', 'Rate', 'Review', 'Summary'], dtype='object')"
      ]
     },
     "execution_count": 36,
     "metadata": {},
     "output_type": "execute_result"
    }
   ],
   "source": [
    "data.columns"
   ]
  },
  {
   "cell_type": "code",
   "execution_count": null,
   "metadata": {
    "colab": {
     "base_uri": "https://localhost:8080/"
    },
    "id": "c7IEOfY3Y1uQ",
    "outputId": "9086abbf-57b1-4b65-d5d4-93a74e6c80d1"
   },
   "outputs": [
    {
     "data": {
      "text/plain": [
       "ProductName    object\n",
       "Price          object\n",
       "Rate           object\n",
       "Review         object\n",
       "Summary        object\n",
       "dtype: object"
      ]
     },
     "execution_count": 37,
     "metadata": {},
     "output_type": "execute_result"
    }
   ],
   "source": [
    "data.dtypes"
   ]
  },
  {
   "cell_type": "code",
   "execution_count": null,
   "metadata": {
    "colab": {
     "base_uri": "https://localhost:8080/"
    },
    "id": "KMj8eWzJY1uQ",
    "outputId": "d3689cd6-bc51-46ae-e4c5-ecdab4ac74d8"
   },
   "outputs": [
    {
     "name": "stdout",
     "output_type": "stream",
     "text": [
      "Number of rows: 189874\n",
      "Number of columns: 5\n"
     ]
    }
   ],
   "source": [
    "# Checking the shape of dataset\n",
    "print('Number of rows:',data.shape[0])\n",
    "print('Number of columns:',data.shape[1])"
   ]
  },
  {
   "cell_type": "markdown",
   "metadata": {
    "id": "RCqXXhX5Y1uS"
   },
   "source": [
    "### 1.2 Data Cleaning\n",
    "\n",
    "Our dataset is messy, so we shall clean it by dropping Null values and duplicates. We shall also deal with the inconsistencies like removing symbols, punctuations, strings from our numeric data(Price, Rate columns) then will change the datatypes of Price and Rate columns from string to numeric\n",
    "\n",
    "To ensure the development of a robust and accurate model, several data cleaning techniques will be applied to the dataset. The following techniques will be employed:\n",
    "\n",
    "1. `Completeness`: This technique involves addressing missing values within the dataset. Steps will be taken to identify and handle missing data appropriately, either through imputation or removal, to ensure that the dataset is complete.\n",
    "\n",
    "2. `Uniformity`: Uniformity is crucial during the data cleaning process to ensure consistency and accurate analysis. Inconsistent or non-uniform data can introduce errors and bias into the modeling process, leading to unreliable results. Robust techniques will be employed to detect and handle non-uniformity effectively, ensuring that the data is standardized and aligned.\n",
    "\n",
    "3. `Consistency`: The consistency of the data will be examined to identify any discrepancies or irregularities. Inconsistencies in variables, such as conflicting formats or conflicting information within the dataset, will be addressed and resolved to maintain data integrity.\n",
    "\n",
    "\n",
    "\n",
    "By applying these data cleaning techniques, the dataset will be refined and prepared, ensuring the reliability and accuracy of the data before proceeding with the subsequent stages of analysis and modeling."
   ]
  },
  {
   "cell_type": "markdown",
   "metadata": {
    "id": "nsaqXXE9Y1uT"
   },
   "source": [
    "### 1.2.1 Completeness\n",
    "\n",
    "To achieve completeness in our data, I will be checking for missing values in the data."
   ]
  },
  {
   "cell_type": "code",
   "execution_count": null,
   "metadata": {
    "colab": {
     "base_uri": "https://localhost:8080/"
    },
    "id": "HFcCPKkPY1uT",
    "outputId": "317ba2bd-a4ab-46fb-90fe-e31583b03ee2"
   },
   "outputs": [
    {
     "name": "stdout",
     "output_type": "stream",
     "text": [
      "The Data has missing values.\n"
     ]
    }
   ],
   "source": [
    "# function to identify missing values\n",
    "\n",
    "# identify missing\n",
    "def identify_missing_values(data):\n",
    "    \"\"\"Identify is the data has missing values\"\"\"\n",
    "    # identify if data has missing values(data.isnull().any())\n",
    "    # empty dict to store missing values\n",
    "    missing = []\n",
    "    for i in data.isnull().any():\n",
    "        # add the bool values to empty list\n",
    "        missing.append(i)\n",
    "    # covert list to set (if data has missing value, the list should have true and false)\n",
    "    missing_set = set(missing)\n",
    "    if (len(missing_set) == 1):\n",
    "        out = print(\"The Data has no missing values\")\n",
    "    else:\n",
    "        out = print(\"The Data has missing values.\")\n",
    "\n",
    "    return out\n",
    "\n",
    "identify_missing_values(data)"
   ]
  },
  {
   "cell_type": "markdown",
   "metadata": {
    "id": "0eKDcVNlY1uU"
   },
   "source": [
    "From the above,  we see that we have missing values in ProductName, Price, Rate, Review and Summary."
   ]
  },
  {
   "cell_type": "markdown",
   "metadata": {
    "id": "5x-vCPehY1uV"
   },
   "source": [
    "We are going to remove the missing values in price, rate,review and summary because the dataset includes various products with different prices, rates and reviews thus replacing them may alter the dataset unintentionally."
   ]
  },
  {
   "cell_type": "code",
   "execution_count": null,
   "metadata": {
    "colab": {
     "base_uri": "https://localhost:8080/",
     "height": 175
    },
    "id": "-Co8o269Y1uV",
    "outputId": "40cb582d-74a2-4e7b-b78a-08391094623e"
   },
   "outputs": [
    {
     "data": {
      "text/html": [
       "\n",
       "\n",
       "  <div id=\"df-290c899e-d525-4778-abbc-15c661b6b593\">\n",
       "    <div class=\"colab-df-container\">\n",
       "      <div>\n",
       "<style scoped>\n",
       "    .dataframe tbody tr th:only-of-type {\n",
       "        vertical-align: middle;\n",
       "    }\n",
       "\n",
       "    .dataframe tbody tr th {\n",
       "        vertical-align: top;\n",
       "    }\n",
       "\n",
       "    .dataframe thead th {\n",
       "        text-align: right;\n",
       "    }\n",
       "</style>\n",
       "<table border=\"1\" class=\"dataframe\">\n",
       "  <thead>\n",
       "    <tr style=\"text-align: right;\">\n",
       "      <th></th>\n",
       "      <th>Missing Values</th>\n",
       "      <th>Percentage(%)</th>\n",
       "    </tr>\n",
       "  </thead>\n",
       "  <tbody>\n",
       "    <tr>\n",
       "      <th>Summary</th>\n",
       "      <td>14</td>\n",
       "      <td>0.000074</td>\n",
       "    </tr>\n",
       "    <tr>\n",
       "      <th>Review</th>\n",
       "      <td>4</td>\n",
       "      <td>0.000021</td>\n",
       "    </tr>\n",
       "    <tr>\n",
       "      <th>Price</th>\n",
       "      <td>1</td>\n",
       "      <td>0.000005</td>\n",
       "    </tr>\n",
       "    <tr>\n",
       "      <th>Rate</th>\n",
       "      <td>1</td>\n",
       "      <td>0.000005</td>\n",
       "    </tr>\n",
       "  </tbody>\n",
       "</table>\n",
       "</div>\n",
       "      <button class=\"colab-df-convert\" onclick=\"convertToInteractive('df-290c899e-d525-4778-abbc-15c661b6b593')\"\n",
       "              title=\"Convert this dataframe to an interactive table.\"\n",
       "              style=\"display:none;\">\n",
       "\n",
       "  <svg xmlns=\"http://www.w3.org/2000/svg\" height=\"24px\"viewBox=\"0 0 24 24\"\n",
       "       width=\"24px\">\n",
       "    <path d=\"M0 0h24v24H0V0z\" fill=\"none\"/>\n",
       "    <path d=\"M18.56 5.44l.94 2.06.94-2.06 2.06-.94-2.06-.94-.94-2.06-.94 2.06-2.06.94zm-11 1L8.5 8.5l.94-2.06 2.06-.94-2.06-.94L8.5 2.5l-.94 2.06-2.06.94zm10 10l.94 2.06.94-2.06 2.06-.94-2.06-.94-.94-2.06-.94 2.06-2.06.94z\"/><path d=\"M17.41 7.96l-1.37-1.37c-.4-.4-.92-.59-1.43-.59-.52 0-1.04.2-1.43.59L10.3 9.45l-7.72 7.72c-.78.78-.78 2.05 0 2.83L4 21.41c.39.39.9.59 1.41.59.51 0 1.02-.2 1.41-.59l7.78-7.78 2.81-2.81c.8-.78.8-2.07 0-2.86zM5.41 20L4 18.59l7.72-7.72 1.47 1.35L5.41 20z\"/>\n",
       "  </svg>\n",
       "      </button>\n",
       "\n",
       "\n",
       "\n",
       "    <div id=\"df-22ea53d6-38ab-4114-88bd-e1182b4e396c\">\n",
       "      <button class=\"colab-df-quickchart\" onclick=\"quickchart('df-22ea53d6-38ab-4114-88bd-e1182b4e396c')\"\n",
       "              title=\"Suggest charts.\"\n",
       "              style=\"display:none;\">\n",
       "\n",
       "<svg xmlns=\"http://www.w3.org/2000/svg\" height=\"24px\"viewBox=\"0 0 24 24\"\n",
       "     width=\"24px\">\n",
       "    <g>\n",
       "        <path d=\"M19 3H5c-1.1 0-2 .9-2 2v14c0 1.1.9 2 2 2h14c1.1 0 2-.9 2-2V5c0-1.1-.9-2-2-2zM9 17H7v-7h2v7zm4 0h-2V7h2v10zm4 0h-2v-4h2v4z\"/>\n",
       "    </g>\n",
       "</svg>\n",
       "      </button>\n",
       "    </div>\n",
       "\n",
       "<style>\n",
       "  .colab-df-quickchart {\n",
       "    background-color: #E8F0FE;\n",
       "    border: none;\n",
       "    border-radius: 50%;\n",
       "    cursor: pointer;\n",
       "    display: none;\n",
       "    fill: #1967D2;\n",
       "    height: 32px;\n",
       "    padding: 0 0 0 0;\n",
       "    width: 32px;\n",
       "  }\n",
       "\n",
       "  .colab-df-quickchart:hover {\n",
       "    background-color: #E2EBFA;\n",
       "    box-shadow: 0px 1px 2px rgba(60, 64, 67, 0.3), 0px 1px 3px 1px rgba(60, 64, 67, 0.15);\n",
       "    fill: #174EA6;\n",
       "  }\n",
       "\n",
       "  [theme=dark] .colab-df-quickchart {\n",
       "    background-color: #3B4455;\n",
       "    fill: #D2E3FC;\n",
       "  }\n",
       "\n",
       "  [theme=dark] .colab-df-quickchart:hover {\n",
       "    background-color: #434B5C;\n",
       "    box-shadow: 0px 1px 3px 1px rgba(0, 0, 0, 0.15);\n",
       "    filter: drop-shadow(0px 1px 2px rgba(0, 0, 0, 0.3));\n",
       "    fill: #FFFFFF;\n",
       "  }\n",
       "</style>\n",
       "\n",
       "    <script>\n",
       "      async function quickchart(key) {\n",
       "        const containerElement = document.querySelector('#' + key);\n",
       "        const charts = await google.colab.kernel.invokeFunction(\n",
       "            'suggestCharts', [key], {});\n",
       "      }\n",
       "    </script>\n",
       "\n",
       "      <script>\n",
       "\n",
       "function displayQuickchartButton(domScope) {\n",
       "  let quickchartButtonEl =\n",
       "    domScope.querySelector('#df-22ea53d6-38ab-4114-88bd-e1182b4e396c button.colab-df-quickchart');\n",
       "  quickchartButtonEl.style.display =\n",
       "    google.colab.kernel.accessAllowed ? 'block' : 'none';\n",
       "}\n",
       "\n",
       "        displayQuickchartButton(document);\n",
       "      </script>\n",
       "      <style>\n",
       "    .colab-df-container {\n",
       "      display:flex;\n",
       "      flex-wrap:wrap;\n",
       "      gap: 12px;\n",
       "    }\n",
       "\n",
       "    .colab-df-convert {\n",
       "      background-color: #E8F0FE;\n",
       "      border: none;\n",
       "      border-radius: 50%;\n",
       "      cursor: pointer;\n",
       "      display: none;\n",
       "      fill: #1967D2;\n",
       "      height: 32px;\n",
       "      padding: 0 0 0 0;\n",
       "      width: 32px;\n",
       "    }\n",
       "\n",
       "    .colab-df-convert:hover {\n",
       "      background-color: #E2EBFA;\n",
       "      box-shadow: 0px 1px 2px rgba(60, 64, 67, 0.3), 0px 1px 3px 1px rgba(60, 64, 67, 0.15);\n",
       "      fill: #174EA6;\n",
       "    }\n",
       "\n",
       "    [theme=dark] .colab-df-convert {\n",
       "      background-color: #3B4455;\n",
       "      fill: #D2E3FC;\n",
       "    }\n",
       "\n",
       "    [theme=dark] .colab-df-convert:hover {\n",
       "      background-color: #434B5C;\n",
       "      box-shadow: 0px 1px 3px 1px rgba(0, 0, 0, 0.15);\n",
       "      filter: drop-shadow(0px 1px 2px rgba(0, 0, 0, 0.3));\n",
       "      fill: #FFFFFF;\n",
       "    }\n",
       "  </style>\n",
       "\n",
       "      <script>\n",
       "        const buttonEl =\n",
       "          document.querySelector('#df-290c899e-d525-4778-abbc-15c661b6b593 button.colab-df-convert');\n",
       "        buttonEl.style.display =\n",
       "          google.colab.kernel.accessAllowed ? 'block' : 'none';\n",
       "\n",
       "        async function convertToInteractive(key) {\n",
       "          const element = document.querySelector('#df-290c899e-d525-4778-abbc-15c661b6b593');\n",
       "          const dataTable =\n",
       "            await google.colab.kernel.invokeFunction('convertToInteractive',\n",
       "                                                     [key], {});\n",
       "          if (!dataTable) return;\n",
       "\n",
       "          const docLinkHtml = 'Like what you see? Visit the ' +\n",
       "            '<a target=\"_blank\" href=https://colab.research.google.com/notebooks/data_table.ipynb>data table notebook</a>'\n",
       "            + ' to learn more about interactive tables.';\n",
       "          element.innerHTML = '';\n",
       "          dataTable['output_type'] = 'display_data';\n",
       "          await google.colab.output.renderOutput(dataTable, element);\n",
       "          const docLink = document.createElement('div');\n",
       "          docLink.innerHTML = docLinkHtml;\n",
       "          element.appendChild(docLink);\n",
       "        }\n",
       "      </script>\n",
       "    </div>\n",
       "  </div>\n"
      ],
      "text/plain": [
       "         Missing Values  Percentage(%)\n",
       "Summary              14       0.000074\n",
       "Review                4       0.000021\n",
       "Price                 1       0.000005\n",
       "Rate                  1       0.000005"
      ]
     },
     "execution_count": 40,
     "metadata": {},
     "output_type": "execute_result"
    }
   ],
   "source": [
    "# function to display missing values\n",
    "\n",
    "def missing_values(data):\n",
    "    \"\"\"A simple function to identify data has missing values\"\"\"\n",
    "    # identify the total missing values per column\n",
    "    # sort in order\n",
    "    miss = data.isnull().sum().sort_values(ascending = False)\n",
    "\n",
    "    # calculate percentage of the missing values\n",
    "    percentage_miss = (data.isnull().sum() / len(data)).sort_values(ascending = False)\n",
    "\n",
    "    # store in a dataframe\n",
    "    missing = pd.DataFrame({\"Missing Values\": miss, \"Percentage(%)\": percentage_miss})\n",
    "\n",
    "    # remove values that are missing\n",
    "    missing.drop(missing[missing[\"Percentage(%)\"] == 0].index, inplace = True)\n",
    "\n",
    "    return missing\n",
    "\n",
    "\n",
    "missing_values(data)"
   ]
  },
  {
   "cell_type": "code",
   "execution_count": null,
   "metadata": {
    "id": "TZt7cq0wnqpv"
   },
   "outputs": [],
   "source": [
    "# dropping missing rows in the columns\n",
    "data.dropna(axis=0,subset=['Summary'],inplace=True)\n",
    "data.dropna(axis=0,subset=['Review'],inplace=True)\n",
    "data.dropna(axis=0,subset=['Rate'],inplace=True)\n",
    "data.dropna(axis=0,subset=['Price'],inplace=True)\n"
   ]
  },
  {
   "cell_type": "code",
   "execution_count": null,
   "metadata": {
    "colab": {
     "base_uri": "https://localhost:8080/"
    },
    "id": "tSz0nUtZnw3-",
    "outputId": "6c673d3e-ea4b-4d0f-f33f-a0929a3f8b1b"
   },
   "outputs": [
    {
     "name": "stdout",
     "output_type": "stream",
     "text": [
      "The Data has no missing values\n"
     ]
    }
   ],
   "source": [
    "identify_missing_values(data)"
   ]
  },
  {
   "cell_type": "markdown",
   "metadata": {
    "id": "9pa0-0EXY1uZ"
   },
   "source": [
    "We have now removed the null values from our dataset"
   ]
  },
  {
   "cell_type": "markdown",
   "metadata": {
    "id": "cW4_cjL_Y1ua"
   },
   "source": [
    "### 1.2.2 Uniformity\n",
    "\n",
    "For our data to be uniform, I have to verify that every column is correct and convert them to there appropriate data type."
   ]
  },
  {
   "cell_type": "code",
   "execution_count": null,
   "metadata": {
    "id": "H7PKBBHArjf4"
   },
   "outputs": [],
   "source": [
    "# function to remove punctuation\n",
    "def rmv_punc(text):\n",
    "    punct = string.punctuation\n",
    "    return text.translate(str.maketrans('', '', punct))"
   ]
  },
  {
   "cell_type": "code",
   "execution_count": null,
   "metadata": {
    "id": "V6hfvq8irnBJ"
   },
   "outputs": [],
   "source": [
    "# remove punctuations from price & summary  column\n",
    "data['Summary'] = data['Summary'].apply(lambda x: rmv_punc(x))\n",
    "data['Price'] = data['Price'].apply(lambda x: rmv_punc(x))\n",
    "data['Review'] = data['Review'].apply(lambda x: rmv_punc(x))"
   ]
  },
  {
   "cell_type": "code",
   "execution_count": null,
   "metadata": {
    "id": "fSkqrOiVrqHv"
   },
   "outputs": [],
   "source": [
    "# remove characters\n",
    "def rmv_char(text):\n",
    "    text = re.sub('[^a-zA-Z0-9(/)]',' ', text)\n",
    "    text = re.sub('\\s+',' ', text) #remove whitespace\n",
    "\n",
    "    return text"
   ]
  },
  {
   "cell_type": "code",
   "execution_count": null,
   "metadata": {
    "id": "XB-DA1P8882p"
   },
   "outputs": [],
   "source": [
    "def remove_char_price(text):\n",
    "    text = re.sub(r'[^0-9\\.]', '', text)\n",
    "    return text\n"
   ]
  },
  {
   "cell_type": "code",
   "execution_count": null,
   "metadata": {
    "id": "PBqZSIbfrulz"
   },
   "outputs": [],
   "source": [
    "# remove characters from product & Price columns\n",
    "data['Price'] = data['Price'].apply(lambda x: rmv_char(x).lower())\n",
    "data['ProductName']=data['ProductName'].apply(lambda x:rmv_char(x))\n",
    "data['Summary']=data['Summary'].apply(lambda x:rmv_char(x))\n",
    "data['Price'] = data['Price'].apply(lambda x: remove_char_price(x).lower())"
   ]
  },
  {
   "cell_type": "code",
   "execution_count": null,
   "metadata": {
    "colab": {
     "base_uri": "https://localhost:8080/"
    },
    "id": "ALSh4IZRryL1",
    "outputId": "30b20865-6ef2-42e5-cd7d-edbbd3e897d7"
   },
   "outputs": [
    {
     "data": {
      "text/plain": [
       "5                                                              108684\n",
       "4                                                               39649\n",
       "1                                                               19607\n",
       "3                                                               15680\n",
       "2                                                                6233\n",
       "Pigeon Favourite Electric Kettle?ÿ?ÿ(1.5 L, Silver, Black)          1\n",
       "Bajaj DX 2 L/W Dry Iron                                             1\n",
       "Nova Plus Amaze NI 10 1100 W Dry Iron?ÿ?ÿ(Grey & Turquoise)         1\n",
       "s                                                                   1\n",
       "Name: Rate, dtype: int64"
      ]
     },
     "execution_count": 48,
     "metadata": {},
     "output_type": "execute_result"
    }
   ],
   "source": [
    "data.Rate.value_counts()"
   ]
  },
  {
   "cell_type": "markdown",
   "metadata": {
    "id": "0DJnBG6mr1kQ"
   },
   "source": [
    "The Rate column contains string dataset where all should be numeric, we will remove the string in this column and convert to numeric datatype."
   ]
  },
  {
   "cell_type": "code",
   "execution_count": null,
   "metadata": {
    "id": "2UjdmFpkr3mC"
   },
   "outputs": [],
   "source": [
    "# Drop the string values in the 'Rate' column\n",
    "data = data[pd.to_numeric(data['Rate'], errors='coerce').notnull()]"
   ]
  },
  {
   "cell_type": "code",
   "execution_count": null,
   "metadata": {
    "colab": {
     "base_uri": "https://localhost:8080/"
    },
    "id": "A6me9n6er59Y",
    "outputId": "6b99975c-f481-4a6f-ab39-b58605a01204"
   },
   "outputs": [
    {
     "data": {
      "text/plain": [
       "5    108684\n",
       "4     39649\n",
       "1     19607\n",
       "3     15680\n",
       "2      6233\n",
       "Name: Rate, dtype: int64"
      ]
     },
     "execution_count": 50,
     "metadata": {},
     "output_type": "execute_result"
    }
   ],
   "source": [
    "data.Rate.value_counts()"
   ]
  },
  {
   "cell_type": "markdown",
   "metadata": {
    "id": "18P2d-0er9iZ"
   },
   "source": [
    "Rows containing string values from the Rate column have been confirmed to be dropped."
   ]
  },
  {
   "cell_type": "code",
   "execution_count": null,
   "metadata": {
    "colab": {
     "base_uri": "https://localhost:8080/"
    },
    "id": "8mGD_054r__e",
    "outputId": "e0e014aa-0966-4da0-9d7e-8352d89297a8"
   },
   "outputs": [
    {
     "data": {
      "text/plain": [
       "ProductName    object\n",
       "Price          object\n",
       "Rate           object\n",
       "Review         object\n",
       "Summary        object\n",
       "dtype: object"
      ]
     },
     "execution_count": 51,
     "metadata": {},
     "output_type": "execute_result"
    }
   ],
   "source": [
    "data.dtypes"
   ]
  },
  {
   "cell_type": "code",
   "execution_count": null,
   "metadata": {
    "colab": {
     "base_uri": "https://localhost:8080/",
     "height": 206
    },
    "id": "KKBHormR882z",
    "outputId": "32cfa80b-131a-4fe0-ef3e-8a522265bc52"
   },
   "outputs": [
    {
     "data": {
      "text/html": [
       "\n",
       "\n",
       "  <div id=\"df-80f70e8d-9d26-41d2-a8a1-1daa865a3f7d\">\n",
       "    <div class=\"colab-df-container\">\n",
       "      <div>\n",
       "<style scoped>\n",
       "    .dataframe tbody tr th:only-of-type {\n",
       "        vertical-align: middle;\n",
       "    }\n",
       "\n",
       "    .dataframe tbody tr th {\n",
       "        vertical-align: top;\n",
       "    }\n",
       "\n",
       "    .dataframe thead th {\n",
       "        text-align: right;\n",
       "    }\n",
       "</style>\n",
       "<table border=\"1\" class=\"dataframe\">\n",
       "  <thead>\n",
       "    <tr style=\"text-align: right;\">\n",
       "      <th></th>\n",
       "      <th>ProductName</th>\n",
       "      <th>Price</th>\n",
       "      <th>Rate</th>\n",
       "      <th>Review</th>\n",
       "      <th>Summary</th>\n",
       "    </tr>\n",
       "  </thead>\n",
       "  <tbody>\n",
       "    <tr>\n",
       "      <th>0</th>\n",
       "      <td>Candes 12 L Room/Personal Air Cooler (White Bl...</td>\n",
       "      <td>3999</td>\n",
       "      <td>5</td>\n",
       "      <td>Super</td>\n",
       "      <td>Great cooler excellent air flow and for this p...</td>\n",
       "    </tr>\n",
       "    <tr>\n",
       "      <th>1</th>\n",
       "      <td>Candes 12 L Room/Personal Air Cooler (White Bl...</td>\n",
       "      <td>3999</td>\n",
       "      <td>5</td>\n",
       "      <td>Awesome</td>\n",
       "      <td>Best budget 2 fit cooler Nice cooling</td>\n",
       "    </tr>\n",
       "    <tr>\n",
       "      <th>2</th>\n",
       "      <td>Candes 12 L Room/Personal Air Cooler (White Bl...</td>\n",
       "      <td>3999</td>\n",
       "      <td>3</td>\n",
       "      <td>Fair</td>\n",
       "      <td>The quality is good but the power of air is de...</td>\n",
       "    </tr>\n",
       "    <tr>\n",
       "      <th>3</th>\n",
       "      <td>Candes 12 L Room/Personal Air Cooler (White Bl...</td>\n",
       "      <td>3999</td>\n",
       "      <td>1</td>\n",
       "      <td>Useless product</td>\n",
       "      <td>Very bad product its a only a fan</td>\n",
       "    </tr>\n",
       "    <tr>\n",
       "      <th>4</th>\n",
       "      <td>Candes 12 L Room/Personal Air Cooler (White Bl...</td>\n",
       "      <td>3999</td>\n",
       "      <td>3</td>\n",
       "      <td>Fair</td>\n",
       "      <td>Ok ok product</td>\n",
       "    </tr>\n",
       "  </tbody>\n",
       "</table>\n",
       "</div>\n",
       "      <button class=\"colab-df-convert\" onclick=\"convertToInteractive('df-80f70e8d-9d26-41d2-a8a1-1daa865a3f7d')\"\n",
       "              title=\"Convert this dataframe to an interactive table.\"\n",
       "              style=\"display:none;\">\n",
       "\n",
       "  <svg xmlns=\"http://www.w3.org/2000/svg\" height=\"24px\"viewBox=\"0 0 24 24\"\n",
       "       width=\"24px\">\n",
       "    <path d=\"M0 0h24v24H0V0z\" fill=\"none\"/>\n",
       "    <path d=\"M18.56 5.44l.94 2.06.94-2.06 2.06-.94-2.06-.94-.94-2.06-.94 2.06-2.06.94zm-11 1L8.5 8.5l.94-2.06 2.06-.94-2.06-.94L8.5 2.5l-.94 2.06-2.06.94zm10 10l.94 2.06.94-2.06 2.06-.94-2.06-.94-.94-2.06-.94 2.06-2.06.94z\"/><path d=\"M17.41 7.96l-1.37-1.37c-.4-.4-.92-.59-1.43-.59-.52 0-1.04.2-1.43.59L10.3 9.45l-7.72 7.72c-.78.78-.78 2.05 0 2.83L4 21.41c.39.39.9.59 1.41.59.51 0 1.02-.2 1.41-.59l7.78-7.78 2.81-2.81c.8-.78.8-2.07 0-2.86zM5.41 20L4 18.59l7.72-7.72 1.47 1.35L5.41 20z\"/>\n",
       "  </svg>\n",
       "      </button>\n",
       "\n",
       "\n",
       "\n",
       "    <div id=\"df-6227af0d-f72e-4054-8971-993b1cd0396f\">\n",
       "      <button class=\"colab-df-quickchart\" onclick=\"quickchart('df-6227af0d-f72e-4054-8971-993b1cd0396f')\"\n",
       "              title=\"Suggest charts.\"\n",
       "              style=\"display:none;\">\n",
       "\n",
       "<svg xmlns=\"http://www.w3.org/2000/svg\" height=\"24px\"viewBox=\"0 0 24 24\"\n",
       "     width=\"24px\">\n",
       "    <g>\n",
       "        <path d=\"M19 3H5c-1.1 0-2 .9-2 2v14c0 1.1.9 2 2 2h14c1.1 0 2-.9 2-2V5c0-1.1-.9-2-2-2zM9 17H7v-7h2v7zm4 0h-2V7h2v10zm4 0h-2v-4h2v4z\"/>\n",
       "    </g>\n",
       "</svg>\n",
       "      </button>\n",
       "    </div>\n",
       "\n",
       "<style>\n",
       "  .colab-df-quickchart {\n",
       "    background-color: #E8F0FE;\n",
       "    border: none;\n",
       "    border-radius: 50%;\n",
       "    cursor: pointer;\n",
       "    display: none;\n",
       "    fill: #1967D2;\n",
       "    height: 32px;\n",
       "    padding: 0 0 0 0;\n",
       "    width: 32px;\n",
       "  }\n",
       "\n",
       "  .colab-df-quickchart:hover {\n",
       "    background-color: #E2EBFA;\n",
       "    box-shadow: 0px 1px 2px rgba(60, 64, 67, 0.3), 0px 1px 3px 1px rgba(60, 64, 67, 0.15);\n",
       "    fill: #174EA6;\n",
       "  }\n",
       "\n",
       "  [theme=dark] .colab-df-quickchart {\n",
       "    background-color: #3B4455;\n",
       "    fill: #D2E3FC;\n",
       "  }\n",
       "\n",
       "  [theme=dark] .colab-df-quickchart:hover {\n",
       "    background-color: #434B5C;\n",
       "    box-shadow: 0px 1px 3px 1px rgba(0, 0, 0, 0.15);\n",
       "    filter: drop-shadow(0px 1px 2px rgba(0, 0, 0, 0.3));\n",
       "    fill: #FFFFFF;\n",
       "  }\n",
       "</style>\n",
       "\n",
       "    <script>\n",
       "      async function quickchart(key) {\n",
       "        const containerElement = document.querySelector('#' + key);\n",
       "        const charts = await google.colab.kernel.invokeFunction(\n",
       "            'suggestCharts', [key], {});\n",
       "      }\n",
       "    </script>\n",
       "\n",
       "      <script>\n",
       "\n",
       "function displayQuickchartButton(domScope) {\n",
       "  let quickchartButtonEl =\n",
       "    domScope.querySelector('#df-6227af0d-f72e-4054-8971-993b1cd0396f button.colab-df-quickchart');\n",
       "  quickchartButtonEl.style.display =\n",
       "    google.colab.kernel.accessAllowed ? 'block' : 'none';\n",
       "}\n",
       "\n",
       "        displayQuickchartButton(document);\n",
       "      </script>\n",
       "      <style>\n",
       "    .colab-df-container {\n",
       "      display:flex;\n",
       "      flex-wrap:wrap;\n",
       "      gap: 12px;\n",
       "    }\n",
       "\n",
       "    .colab-df-convert {\n",
       "      background-color: #E8F0FE;\n",
       "      border: none;\n",
       "      border-radius: 50%;\n",
       "      cursor: pointer;\n",
       "      display: none;\n",
       "      fill: #1967D2;\n",
       "      height: 32px;\n",
       "      padding: 0 0 0 0;\n",
       "      width: 32px;\n",
       "    }\n",
       "\n",
       "    .colab-df-convert:hover {\n",
       "      background-color: #E2EBFA;\n",
       "      box-shadow: 0px 1px 2px rgba(60, 64, 67, 0.3), 0px 1px 3px 1px rgba(60, 64, 67, 0.15);\n",
       "      fill: #174EA6;\n",
       "    }\n",
       "\n",
       "    [theme=dark] .colab-df-convert {\n",
       "      background-color: #3B4455;\n",
       "      fill: #D2E3FC;\n",
       "    }\n",
       "\n",
       "    [theme=dark] .colab-df-convert:hover {\n",
       "      background-color: #434B5C;\n",
       "      box-shadow: 0px 1px 3px 1px rgba(0, 0, 0, 0.15);\n",
       "      filter: drop-shadow(0px 1px 2px rgba(0, 0, 0, 0.3));\n",
       "      fill: #FFFFFF;\n",
       "    }\n",
       "  </style>\n",
       "\n",
       "      <script>\n",
       "        const buttonEl =\n",
       "          document.querySelector('#df-80f70e8d-9d26-41d2-a8a1-1daa865a3f7d button.colab-df-convert');\n",
       "        buttonEl.style.display =\n",
       "          google.colab.kernel.accessAllowed ? 'block' : 'none';\n",
       "\n",
       "        async function convertToInteractive(key) {\n",
       "          const element = document.querySelector('#df-80f70e8d-9d26-41d2-a8a1-1daa865a3f7d');\n",
       "          const dataTable =\n",
       "            await google.colab.kernel.invokeFunction('convertToInteractive',\n",
       "                                                     [key], {});\n",
       "          if (!dataTable) return;\n",
       "\n",
       "          const docLinkHtml = 'Like what you see? Visit the ' +\n",
       "            '<a target=\"_blank\" href=https://colab.research.google.com/notebooks/data_table.ipynb>data table notebook</a>'\n",
       "            + ' to learn more about interactive tables.';\n",
       "          element.innerHTML = '';\n",
       "          dataTable['output_type'] = 'display_data';\n",
       "          await google.colab.output.renderOutput(dataTable, element);\n",
       "          const docLink = document.createElement('div');\n",
       "          docLink.innerHTML = docLinkHtml;\n",
       "          element.appendChild(docLink);\n",
       "        }\n",
       "      </script>\n",
       "    </div>\n",
       "  </div>\n"
      ],
      "text/plain": [
       "                                         ProductName Price Rate  \\\n",
       "0  Candes 12 L Room/Personal Air Cooler (White Bl...  3999    5   \n",
       "1  Candes 12 L Room/Personal Air Cooler (White Bl...  3999    5   \n",
       "2  Candes 12 L Room/Personal Air Cooler (White Bl...  3999    3   \n",
       "3  Candes 12 L Room/Personal Air Cooler (White Bl...  3999    1   \n",
       "4  Candes 12 L Room/Personal Air Cooler (White Bl...  3999    3   \n",
       "\n",
       "            Review                                            Summary  \n",
       "0            Super  Great cooler excellent air flow and for this p...  \n",
       "1          Awesome              Best budget 2 fit cooler Nice cooling  \n",
       "2             Fair  The quality is good but the power of air is de...  \n",
       "3  Useless product                  Very bad product its a only a fan  \n",
       "4             Fair                                      Ok ok product  "
      ]
     },
     "execution_count": 52,
     "metadata": {},
     "output_type": "execute_result"
    }
   ],
   "source": [
    "data.head()"
   ]
  },
  {
   "cell_type": "code",
   "execution_count": null,
   "metadata": {
    "colab": {
     "base_uri": "https://localhost:8080/"
    },
    "id": "wMqEMi8ysDaf",
    "outputId": "a4185d9a-fd7a-47c3-d3fa-9a2424fcc083"
   },
   "outputs": [
    {
     "name": "stdout",
     "output_type": "stream",
     "text": [
      "ProductName     object\n",
      "Price          float64\n",
      "Rate           float64\n",
      "Review          object\n",
      "Summary         object\n",
      "dtype: object\n"
     ]
    }
   ],
   "source": [
    "# Convert datatypes\n",
    "data['Price'] = data['Price'].astype(float)\n",
    "data['Rate'] = data['Rate'].astype(float)\n",
    "print(data.dtypes)"
   ]
  },
  {
   "cell_type": "markdown",
   "metadata": {
    "id": "r8PDgmLAY1us"
   },
   "source": [
    "### 1.2.3 Consistency\n",
    "\n",
    "For the data to be constistent, we need to resolve any inconsistencies by checking for duplicate values in our data."
   ]
  },
  {
   "cell_type": "code",
   "execution_count": null,
   "metadata": {
    "colab": {
     "base_uri": "https://localhost:8080/"
    },
    "id": "ssA1SNWUpYfK",
    "outputId": "cd237140-a919-4145-b7f5-27a7ecf52763"
   },
   "outputs": [
    {
     "name": "stdout",
     "output_type": "stream",
     "text": [
      "The Data has 26899 duplicated rows.\n",
      "This constitutes 14.168% of the data set.\n"
     ]
    }
   ],
   "source": [
    "# checking for duplicates\n",
    "\n",
    "# Duplicated entries\n",
    "def identify_duplicates(data):\n",
    "    \"\"\"Simple function to identify any duplicates\"\"\"\n",
    "    # identify the duplicates (dataframename.duplicated() , can add .sum() to get total count)\n",
    "    # empty list to store Bool results from duplicated\n",
    "    duplicates = []\n",
    "    for i in data.duplicated():\n",
    "        duplicates.append(i)\n",
    "    # identify if there is any duplicates. (If there is any we expect a True value in the list duplicates)\n",
    "    duplicates_set = set(duplicates)\n",
    "    if (len(duplicates_set) == 1):\n",
    "        print(\"The Data has no duplicates\")\n",
    "    else:\n",
    "        no_true = 0\n",
    "        for val in duplicates:\n",
    "            if (val == True):\n",
    "                no_true += 1\n",
    "        # percentage of the data represented by duplicates\n",
    "        duplicates_percentage = np.round(((no_true / len(data)) * 100), 3)\n",
    "        print(f\"The Data has {no_true} duplicated rows.\\nThis constitutes {duplicates_percentage}% of the data set.\")\n",
    "\n",
    "\n",
    "\n",
    "identify_duplicates(data)"
   ]
  },
  {
   "cell_type": "code",
   "execution_count": null,
   "metadata": {
    "colab": {
     "base_uri": "https://localhost:8080/"
    },
    "id": "Jt0OTObipefs",
    "outputId": "5518ce9b-75a6-457e-86f2-61594b671d77"
   },
   "outputs": [
    {
     "name": "stdout",
     "output_type": "stream",
     "text": [
      "The Data has no duplicates\n"
     ]
    }
   ],
   "source": [
    "# handling the duplicates\n",
    "def remove_duplicated_rows(data):\n",
    "    \"\"\"Simple Function to remove duplicated rows\"\"\"\n",
    "    data.drop_duplicates(subset=None, keep=\"first\", inplace=True)\n",
    "    # confirm if the duplicated rows have been removed\n",
    "    confirm = identify_duplicates(data)\n",
    "\n",
    "    return confirm\n",
    "\n",
    "\n",
    "remove_duplicated_rows(data)"
   ]
  },
  {
   "cell_type": "markdown",
   "metadata": {
    "id": "7FfiVhm7Y1uv"
   },
   "source": [
    "Duplicates have been confirmed to be dropped"
   ]
  },
  {
   "cell_type": "markdown",
   "metadata": {
    "id": "TApiQRUcY1uw"
   },
   "source": [
    "There's now 163683 rows remaining in our dataset after dropping a few rows from the dataset"
   ]
  },
  {
   "cell_type": "code",
   "execution_count": null,
   "metadata": {
    "colab": {
     "base_uri": "https://localhost:8080/",
     "height": 112
    },
    "id": "5hhY9mknY1uy",
    "outputId": "5f8dd7d0-92c4-499e-94b6-eb28648520b6"
   },
   "outputs": [
    {
     "data": {
      "text/html": [
       "\n",
       "\n",
       "  <div id=\"df-78414ea7-5c2c-4135-aae1-06dae5ba4b77\">\n",
       "    <div class=\"colab-df-container\">\n",
       "      <div>\n",
       "<style scoped>\n",
       "    .dataframe tbody tr th:only-of-type {\n",
       "        vertical-align: middle;\n",
       "    }\n",
       "\n",
       "    .dataframe tbody tr th {\n",
       "        vertical-align: top;\n",
       "    }\n",
       "\n",
       "    .dataframe thead th {\n",
       "        text-align: right;\n",
       "    }\n",
       "</style>\n",
       "<table border=\"1\" class=\"dataframe\">\n",
       "  <thead>\n",
       "    <tr style=\"text-align: right;\">\n",
       "      <th></th>\n",
       "      <th>ProductName</th>\n",
       "      <th>Price</th>\n",
       "      <th>Rate</th>\n",
       "      <th>Review</th>\n",
       "      <th>Summary</th>\n",
       "    </tr>\n",
       "  </thead>\n",
       "  <tbody>\n",
       "    <tr>\n",
       "      <th>0</th>\n",
       "      <td>Candes 12 L Room/Personal Air Cooler (White Bl...</td>\n",
       "      <td>3999.0</td>\n",
       "      <td>5.0</td>\n",
       "      <td>Super</td>\n",
       "      <td>Great cooler excellent air flow and for this p...</td>\n",
       "    </tr>\n",
       "    <tr>\n",
       "      <th>1</th>\n",
       "      <td>Candes 12 L Room/Personal Air Cooler (White Bl...</td>\n",
       "      <td>3999.0</td>\n",
       "      <td>5.0</td>\n",
       "      <td>Awesome</td>\n",
       "      <td>Best budget 2 fit cooler Nice cooling</td>\n",
       "    </tr>\n",
       "  </tbody>\n",
       "</table>\n",
       "</div>\n",
       "      <button class=\"colab-df-convert\" onclick=\"convertToInteractive('df-78414ea7-5c2c-4135-aae1-06dae5ba4b77')\"\n",
       "              title=\"Convert this dataframe to an interactive table.\"\n",
       "              style=\"display:none;\">\n",
       "\n",
       "  <svg xmlns=\"http://www.w3.org/2000/svg\" height=\"24px\"viewBox=\"0 0 24 24\"\n",
       "       width=\"24px\">\n",
       "    <path d=\"M0 0h24v24H0V0z\" fill=\"none\"/>\n",
       "    <path d=\"M18.56 5.44l.94 2.06.94-2.06 2.06-.94-2.06-.94-.94-2.06-.94 2.06-2.06.94zm-11 1L8.5 8.5l.94-2.06 2.06-.94-2.06-.94L8.5 2.5l-.94 2.06-2.06.94zm10 10l.94 2.06.94-2.06 2.06-.94-2.06-.94-.94-2.06-.94 2.06-2.06.94z\"/><path d=\"M17.41 7.96l-1.37-1.37c-.4-.4-.92-.59-1.43-.59-.52 0-1.04.2-1.43.59L10.3 9.45l-7.72 7.72c-.78.78-.78 2.05 0 2.83L4 21.41c.39.39.9.59 1.41.59.51 0 1.02-.2 1.41-.59l7.78-7.78 2.81-2.81c.8-.78.8-2.07 0-2.86zM5.41 20L4 18.59l7.72-7.72 1.47 1.35L5.41 20z\"/>\n",
       "  </svg>\n",
       "      </button>\n",
       "\n",
       "\n",
       "\n",
       "    <div id=\"df-4f5acecf-20bf-41fe-9036-4735be2d521c\">\n",
       "      <button class=\"colab-df-quickchart\" onclick=\"quickchart('df-4f5acecf-20bf-41fe-9036-4735be2d521c')\"\n",
       "              title=\"Suggest charts.\"\n",
       "              style=\"display:none;\">\n",
       "\n",
       "<svg xmlns=\"http://www.w3.org/2000/svg\" height=\"24px\"viewBox=\"0 0 24 24\"\n",
       "     width=\"24px\">\n",
       "    <g>\n",
       "        <path d=\"M19 3H5c-1.1 0-2 .9-2 2v14c0 1.1.9 2 2 2h14c1.1 0 2-.9 2-2V5c0-1.1-.9-2-2-2zM9 17H7v-7h2v7zm4 0h-2V7h2v10zm4 0h-2v-4h2v4z\"/>\n",
       "    </g>\n",
       "</svg>\n",
       "      </button>\n",
       "    </div>\n",
       "\n",
       "<style>\n",
       "  .colab-df-quickchart {\n",
       "    background-color: #E8F0FE;\n",
       "    border: none;\n",
       "    border-radius: 50%;\n",
       "    cursor: pointer;\n",
       "    display: none;\n",
       "    fill: #1967D2;\n",
       "    height: 32px;\n",
       "    padding: 0 0 0 0;\n",
       "    width: 32px;\n",
       "  }\n",
       "\n",
       "  .colab-df-quickchart:hover {\n",
       "    background-color: #E2EBFA;\n",
       "    box-shadow: 0px 1px 2px rgba(60, 64, 67, 0.3), 0px 1px 3px 1px rgba(60, 64, 67, 0.15);\n",
       "    fill: #174EA6;\n",
       "  }\n",
       "\n",
       "  [theme=dark] .colab-df-quickchart {\n",
       "    background-color: #3B4455;\n",
       "    fill: #D2E3FC;\n",
       "  }\n",
       "\n",
       "  [theme=dark] .colab-df-quickchart:hover {\n",
       "    background-color: #434B5C;\n",
       "    box-shadow: 0px 1px 3px 1px rgba(0, 0, 0, 0.15);\n",
       "    filter: drop-shadow(0px 1px 2px rgba(0, 0, 0, 0.3));\n",
       "    fill: #FFFFFF;\n",
       "  }\n",
       "</style>\n",
       "\n",
       "    <script>\n",
       "      async function quickchart(key) {\n",
       "        const containerElement = document.querySelector('#' + key);\n",
       "        const charts = await google.colab.kernel.invokeFunction(\n",
       "            'suggestCharts', [key], {});\n",
       "      }\n",
       "    </script>\n",
       "\n",
       "      <script>\n",
       "\n",
       "function displayQuickchartButton(domScope) {\n",
       "  let quickchartButtonEl =\n",
       "    domScope.querySelector('#df-4f5acecf-20bf-41fe-9036-4735be2d521c button.colab-df-quickchart');\n",
       "  quickchartButtonEl.style.display =\n",
       "    google.colab.kernel.accessAllowed ? 'block' : 'none';\n",
       "}\n",
       "\n",
       "        displayQuickchartButton(document);\n",
       "      </script>\n",
       "      <style>\n",
       "    .colab-df-container {\n",
       "      display:flex;\n",
       "      flex-wrap:wrap;\n",
       "      gap: 12px;\n",
       "    }\n",
       "\n",
       "    .colab-df-convert {\n",
       "      background-color: #E8F0FE;\n",
       "      border: none;\n",
       "      border-radius: 50%;\n",
       "      cursor: pointer;\n",
       "      display: none;\n",
       "      fill: #1967D2;\n",
       "      height: 32px;\n",
       "      padding: 0 0 0 0;\n",
       "      width: 32px;\n",
       "    }\n",
       "\n",
       "    .colab-df-convert:hover {\n",
       "      background-color: #E2EBFA;\n",
       "      box-shadow: 0px 1px 2px rgba(60, 64, 67, 0.3), 0px 1px 3px 1px rgba(60, 64, 67, 0.15);\n",
       "      fill: #174EA6;\n",
       "    }\n",
       "\n",
       "    [theme=dark] .colab-df-convert {\n",
       "      background-color: #3B4455;\n",
       "      fill: #D2E3FC;\n",
       "    }\n",
       "\n",
       "    [theme=dark] .colab-df-convert:hover {\n",
       "      background-color: #434B5C;\n",
       "      box-shadow: 0px 1px 3px 1px rgba(0, 0, 0, 0.15);\n",
       "      filter: drop-shadow(0px 1px 2px rgba(0, 0, 0, 0.3));\n",
       "      fill: #FFFFFF;\n",
       "    }\n",
       "  </style>\n",
       "\n",
       "      <script>\n",
       "        const buttonEl =\n",
       "          document.querySelector('#df-78414ea7-5c2c-4135-aae1-06dae5ba4b77 button.colab-df-convert');\n",
       "        buttonEl.style.display =\n",
       "          google.colab.kernel.accessAllowed ? 'block' : 'none';\n",
       "\n",
       "        async function convertToInteractive(key) {\n",
       "          const element = document.querySelector('#df-78414ea7-5c2c-4135-aae1-06dae5ba4b77');\n",
       "          const dataTable =\n",
       "            await google.colab.kernel.invokeFunction('convertToInteractive',\n",
       "                                                     [key], {});\n",
       "          if (!dataTable) return;\n",
       "\n",
       "          const docLinkHtml = 'Like what you see? Visit the ' +\n",
       "            '<a target=\"_blank\" href=https://colab.research.google.com/notebooks/data_table.ipynb>data table notebook</a>'\n",
       "            + ' to learn more about interactive tables.';\n",
       "          element.innerHTML = '';\n",
       "          dataTable['output_type'] = 'display_data';\n",
       "          await google.colab.output.renderOutput(dataTable, element);\n",
       "          const docLink = document.createElement('div');\n",
       "          docLink.innerHTML = docLinkHtml;\n",
       "          element.appendChild(docLink);\n",
       "        }\n",
       "      </script>\n",
       "    </div>\n",
       "  </div>\n"
      ],
      "text/plain": [
       "                                         ProductName   Price  Rate   Review  \\\n",
       "0  Candes 12 L Room/Personal Air Cooler (White Bl...  3999.0   5.0    Super   \n",
       "1  Candes 12 L Room/Personal Air Cooler (White Bl...  3999.0   5.0  Awesome   \n",
       "\n",
       "                                             Summary  \n",
       "0  Great cooler excellent air flow and for this p...  \n",
       "1              Best budget 2 fit cooler Nice cooling  "
      ]
     },
     "execution_count": 56,
     "metadata": {},
     "output_type": "execute_result"
    }
   ],
   "source": [
    "# Display cleaned dataset\n",
    "data.head(2)"
   ]
  },
  {
   "cell_type": "markdown",
   "metadata": {
    "id": "Het7eXIVY1uz"
   },
   "source": [
    "## DATA TRANSFORMATION\n",
    "### Adding new columns\n",
    "\n",
    "To improve our analysis, I will be adding 2 new column from columns that share have similarities or add more analytical value.\n",
    "\n",
    "> **polarity**\n",
    "\n",
    "For further analysis we will add the `Sentiment` column derived from the `Review` to extract the polarity scores from the reviews with the sentiments. A polarity score of 0 indicates neutral sentiment where as above 0 indicates positive sentiment and below 0 indicates negative sentiment.\n",
    "\n",
    "> **Product Sentiment**\n",
    "\n",
    "We then add the `product_sentiment` column that categorizes the sentiment scores into three predefined sentiment categories: 'Negative', 'Neutral', and 'Positive'. This categorization provides a more interpretable representation of the sentiment, allowing for easier analysis and comparison across different products or reviews."
   ]
  },
  {
   "cell_type": "code",
   "execution_count": null,
   "metadata": {
    "colab": {
     "base_uri": "https://localhost:8080/",
     "height": 206
    },
    "id": "GMinPy4CY1uz",
    "outputId": "b16ddf01-4edd-4572-b8d0-a08cecd5197a"
   },
   "outputs": [
    {
     "data": {
      "text/html": [
       "\n",
       "\n",
       "  <div id=\"df-a6ced638-1bb3-4ea9-ad33-6c2922243d24\">\n",
       "    <div class=\"colab-df-container\">\n",
       "      <div>\n",
       "<style scoped>\n",
       "    .dataframe tbody tr th:only-of-type {\n",
       "        vertical-align: middle;\n",
       "    }\n",
       "\n",
       "    .dataframe tbody tr th {\n",
       "        vertical-align: top;\n",
       "    }\n",
       "\n",
       "    .dataframe thead th {\n",
       "        text-align: right;\n",
       "    }\n",
       "</style>\n",
       "<table border=\"1\" class=\"dataframe\">\n",
       "  <thead>\n",
       "    <tr style=\"text-align: right;\">\n",
       "      <th></th>\n",
       "      <th>ProductName</th>\n",
       "      <th>Price</th>\n",
       "      <th>Rate</th>\n",
       "      <th>Review</th>\n",
       "      <th>Summary</th>\n",
       "      <th>polarity</th>\n",
       "      <th>product_sentiment</th>\n",
       "    </tr>\n",
       "  </thead>\n",
       "  <tbody>\n",
       "    <tr>\n",
       "      <th>0</th>\n",
       "      <td>Candes 12 L Room/Personal Air Cooler (White Bl...</td>\n",
       "      <td>3999.0</td>\n",
       "      <td>5.0</td>\n",
       "      <td>Super</td>\n",
       "      <td>Great cooler excellent air flow and for this p...</td>\n",
       "      <td>0.9576</td>\n",
       "      <td>Positive</td>\n",
       "    </tr>\n",
       "    <tr>\n",
       "      <th>1</th>\n",
       "      <td>Candes 12 L Room/Personal Air Cooler (White Bl...</td>\n",
       "      <td>3999.0</td>\n",
       "      <td>5.0</td>\n",
       "      <td>Awesome</td>\n",
       "      <td>Best budget 2 fit cooler Nice cooling</td>\n",
       "      <td>0.8591</td>\n",
       "      <td>Positive</td>\n",
       "    </tr>\n",
       "    <tr>\n",
       "      <th>2</th>\n",
       "      <td>Candes 12 L Room/Personal Air Cooler (White Bl...</td>\n",
       "      <td>3999.0</td>\n",
       "      <td>3.0</td>\n",
       "      <td>Fair</td>\n",
       "      <td>The quality is good but the power of air is de...</td>\n",
       "      <td>0.2382</td>\n",
       "      <td>Positive</td>\n",
       "    </tr>\n",
       "    <tr>\n",
       "      <th>3</th>\n",
       "      <td>Candes 12 L Room/Personal Air Cooler (White Bl...</td>\n",
       "      <td>3999.0</td>\n",
       "      <td>1.0</td>\n",
       "      <td>Useless product</td>\n",
       "      <td>Very bad product its a only a fan</td>\n",
       "      <td>-0.3597</td>\n",
       "      <td>Negative</td>\n",
       "    </tr>\n",
       "    <tr>\n",
       "      <th>4</th>\n",
       "      <td>Candes 12 L Room/Personal Air Cooler (White Bl...</td>\n",
       "      <td>3999.0</td>\n",
       "      <td>3.0</td>\n",
       "      <td>Fair</td>\n",
       "      <td>Ok ok product</td>\n",
       "      <td>0.5267</td>\n",
       "      <td>Positive</td>\n",
       "    </tr>\n",
       "  </tbody>\n",
       "</table>\n",
       "</div>\n",
       "      <button class=\"colab-df-convert\" onclick=\"convertToInteractive('df-a6ced638-1bb3-4ea9-ad33-6c2922243d24')\"\n",
       "              title=\"Convert this dataframe to an interactive table.\"\n",
       "              style=\"display:none;\">\n",
       "\n",
       "  <svg xmlns=\"http://www.w3.org/2000/svg\" height=\"24px\"viewBox=\"0 0 24 24\"\n",
       "       width=\"24px\">\n",
       "    <path d=\"M0 0h24v24H0V0z\" fill=\"none\"/>\n",
       "    <path d=\"M18.56 5.44l.94 2.06.94-2.06 2.06-.94-2.06-.94-.94-2.06-.94 2.06-2.06.94zm-11 1L8.5 8.5l.94-2.06 2.06-.94-2.06-.94L8.5 2.5l-.94 2.06-2.06.94zm10 10l.94 2.06.94-2.06 2.06-.94-2.06-.94-.94-2.06-.94 2.06-2.06.94z\"/><path d=\"M17.41 7.96l-1.37-1.37c-.4-.4-.92-.59-1.43-.59-.52 0-1.04.2-1.43.59L10.3 9.45l-7.72 7.72c-.78.78-.78 2.05 0 2.83L4 21.41c.39.39.9.59 1.41.59.51 0 1.02-.2 1.41-.59l7.78-7.78 2.81-2.81c.8-.78.8-2.07 0-2.86zM5.41 20L4 18.59l7.72-7.72 1.47 1.35L5.41 20z\"/>\n",
       "  </svg>\n",
       "      </button>\n",
       "\n",
       "\n",
       "\n",
       "    <div id=\"df-9e3e9b58-7cdb-49be-ac10-c7e53e246437\">\n",
       "      <button class=\"colab-df-quickchart\" onclick=\"quickchart('df-9e3e9b58-7cdb-49be-ac10-c7e53e246437')\"\n",
       "              title=\"Suggest charts.\"\n",
       "              style=\"display:none;\">\n",
       "\n",
       "<svg xmlns=\"http://www.w3.org/2000/svg\" height=\"24px\"viewBox=\"0 0 24 24\"\n",
       "     width=\"24px\">\n",
       "    <g>\n",
       "        <path d=\"M19 3H5c-1.1 0-2 .9-2 2v14c0 1.1.9 2 2 2h14c1.1 0 2-.9 2-2V5c0-1.1-.9-2-2-2zM9 17H7v-7h2v7zm4 0h-2V7h2v10zm4 0h-2v-4h2v4z\"/>\n",
       "    </g>\n",
       "</svg>\n",
       "      </button>\n",
       "    </div>\n",
       "\n",
       "<style>\n",
       "  .colab-df-quickchart {\n",
       "    background-color: #E8F0FE;\n",
       "    border: none;\n",
       "    border-radius: 50%;\n",
       "    cursor: pointer;\n",
       "    display: none;\n",
       "    fill: #1967D2;\n",
       "    height: 32px;\n",
       "    padding: 0 0 0 0;\n",
       "    width: 32px;\n",
       "  }\n",
       "\n",
       "  .colab-df-quickchart:hover {\n",
       "    background-color: #E2EBFA;\n",
       "    box-shadow: 0px 1px 2px rgba(60, 64, 67, 0.3), 0px 1px 3px 1px rgba(60, 64, 67, 0.15);\n",
       "    fill: #174EA6;\n",
       "  }\n",
       "\n",
       "  [theme=dark] .colab-df-quickchart {\n",
       "    background-color: #3B4455;\n",
       "    fill: #D2E3FC;\n",
       "  }\n",
       "\n",
       "  [theme=dark] .colab-df-quickchart:hover {\n",
       "    background-color: #434B5C;\n",
       "    box-shadow: 0px 1px 3px 1px rgba(0, 0, 0, 0.15);\n",
       "    filter: drop-shadow(0px 1px 2px rgba(0, 0, 0, 0.3));\n",
       "    fill: #FFFFFF;\n",
       "  }\n",
       "</style>\n",
       "\n",
       "    <script>\n",
       "      async function quickchart(key) {\n",
       "        const containerElement = document.querySelector('#' + key);\n",
       "        const charts = await google.colab.kernel.invokeFunction(\n",
       "            'suggestCharts', [key], {});\n",
       "      }\n",
       "    </script>\n",
       "\n",
       "      <script>\n",
       "\n",
       "function displayQuickchartButton(domScope) {\n",
       "  let quickchartButtonEl =\n",
       "    domScope.querySelector('#df-9e3e9b58-7cdb-49be-ac10-c7e53e246437 button.colab-df-quickchart');\n",
       "  quickchartButtonEl.style.display =\n",
       "    google.colab.kernel.accessAllowed ? 'block' : 'none';\n",
       "}\n",
       "\n",
       "        displayQuickchartButton(document);\n",
       "      </script>\n",
       "      <style>\n",
       "    .colab-df-container {\n",
       "      display:flex;\n",
       "      flex-wrap:wrap;\n",
       "      gap: 12px;\n",
       "    }\n",
       "\n",
       "    .colab-df-convert {\n",
       "      background-color: #E8F0FE;\n",
       "      border: none;\n",
       "      border-radius: 50%;\n",
       "      cursor: pointer;\n",
       "      display: none;\n",
       "      fill: #1967D2;\n",
       "      height: 32px;\n",
       "      padding: 0 0 0 0;\n",
       "      width: 32px;\n",
       "    }\n",
       "\n",
       "    .colab-df-convert:hover {\n",
       "      background-color: #E2EBFA;\n",
       "      box-shadow: 0px 1px 2px rgba(60, 64, 67, 0.3), 0px 1px 3px 1px rgba(60, 64, 67, 0.15);\n",
       "      fill: #174EA6;\n",
       "    }\n",
       "\n",
       "    [theme=dark] .colab-df-convert {\n",
       "      background-color: #3B4455;\n",
       "      fill: #D2E3FC;\n",
       "    }\n",
       "\n",
       "    [theme=dark] .colab-df-convert:hover {\n",
       "      background-color: #434B5C;\n",
       "      box-shadow: 0px 1px 3px 1px rgba(0, 0, 0, 0.15);\n",
       "      filter: drop-shadow(0px 1px 2px rgba(0, 0, 0, 0.3));\n",
       "      fill: #FFFFFF;\n",
       "    }\n",
       "  </style>\n",
       "\n",
       "      <script>\n",
       "        const buttonEl =\n",
       "          document.querySelector('#df-a6ced638-1bb3-4ea9-ad33-6c2922243d24 button.colab-df-convert');\n",
       "        buttonEl.style.display =\n",
       "          google.colab.kernel.accessAllowed ? 'block' : 'none';\n",
       "\n",
       "        async function convertToInteractive(key) {\n",
       "          const element = document.querySelector('#df-a6ced638-1bb3-4ea9-ad33-6c2922243d24');\n",
       "          const dataTable =\n",
       "            await google.colab.kernel.invokeFunction('convertToInteractive',\n",
       "                                                     [key], {});\n",
       "          if (!dataTable) return;\n",
       "\n",
       "          const docLinkHtml = 'Like what you see? Visit the ' +\n",
       "            '<a target=\"_blank\" href=https://colab.research.google.com/notebooks/data_table.ipynb>data table notebook</a>'\n",
       "            + ' to learn more about interactive tables.';\n",
       "          element.innerHTML = '';\n",
       "          dataTable['output_type'] = 'display_data';\n",
       "          await google.colab.output.renderOutput(dataTable, element);\n",
       "          const docLink = document.createElement('div');\n",
       "          docLink.innerHTML = docLinkHtml;\n",
       "          element.appendChild(docLink);\n",
       "        }\n",
       "      </script>\n",
       "    </div>\n",
       "  </div>\n"
      ],
      "text/plain": [
       "                                         ProductName   Price  Rate  \\\n",
       "0  Candes 12 L Room/Personal Air Cooler (White Bl...  3999.0   5.0   \n",
       "1  Candes 12 L Room/Personal Air Cooler (White Bl...  3999.0   5.0   \n",
       "2  Candes 12 L Room/Personal Air Cooler (White Bl...  3999.0   3.0   \n",
       "3  Candes 12 L Room/Personal Air Cooler (White Bl...  3999.0   1.0   \n",
       "4  Candes 12 L Room/Personal Air Cooler (White Bl...  3999.0   3.0   \n",
       "\n",
       "            Review                                            Summary  \\\n",
       "0            Super  Great cooler excellent air flow and for this p...   \n",
       "1          Awesome              Best budget 2 fit cooler Nice cooling   \n",
       "2             Fair  The quality is good but the power of air is de...   \n",
       "3  Useless product                  Very bad product its a only a fan   \n",
       "4             Fair                                      Ok ok product   \n",
       "\n",
       "   polarity product_sentiment  \n",
       "0    0.9576          Positive  \n",
       "1    0.8591          Positive  \n",
       "2    0.2382          Positive  \n",
       "3   -0.3597          Negative  \n",
       "4    0.5267          Positive  "
      ]
     },
     "execution_count": 57,
     "metadata": {},
     "output_type": "execute_result"
    }
   ],
   "source": [
    "# Initialize the sentiment analyzer\n",
    "sia = SentimentIntensityAnalyzer()\n",
    "\n",
    "# Extract polarity scores from the Review column\n",
    "data['polarity'] = data['Summary'].apply(lambda x: sia.polarity_scores(x)['compound'])\n",
    "\n",
    "# Classify sentiments as positive or negative\n",
    "data['product_sentiment'] = pd.cut(data['polarity'], bins=[-1, -0.1, 0.1, 1], labels=['Negative', 'Neutral', 'Positive'])\n",
    "\n",
    "# Check the updated DataFrame\n",
    "data.head(5)"
   ]
  },
  {
   "cell_type": "code",
   "execution_count": null,
   "metadata": {
    "colab": {
     "base_uri": "https://localhost:8080/"
    },
    "id": "NGkVzF7Z8825",
    "outputId": "983c4b55-ecb9-452f-ebe1-ad25d567895b"
   },
   "outputs": [
    {
     "data": {
      "text/plain": [
       "Positive    124565\n",
       "Negative     20658\n",
       "Neutral      17731\n",
       "Name: product_sentiment, dtype: int64"
      ]
     },
     "execution_count": 58,
     "metadata": {},
     "output_type": "execute_result"
    }
   ],
   "source": [
    "data['product_sentiment'].value_counts()"
   ]
  },
  {
   "cell_type": "markdown",
   "metadata": {
    "id": "Zz5AWNfsY1u0"
   },
   "source": [
    "# Exploratory Data Analysis\n",
    "\n",
    "This section will be the exploratory data analysis question where we will exploring and seeing the relationship the different columns.\n",
    "\n",
    "Given the nature of our dataset, we will be focusing on the following columns:\n",
    "#### Numerical Columns\n",
    "* `Price`\n",
    "* `Rate`\n",
    "* `polarity`\n",
    "#### Categorical Columns\n",
    "* `product_sentiment`"
   ]
  },
  {
   "cell_type": "markdown",
   "metadata": {
    "id": "-gtPA2N2Y1u1"
   },
   "source": [
    "### Univariate Analysis\n",
    "#### Numerical Univariate Analysis"
   ]
  },
  {
   "cell_type": "code",
   "execution_count": null,
   "metadata": {
    "id": "DdqUMn_NY1u1"
   },
   "outputs": [],
   "source": [
    "def plot_distribution(df, column):\n",
    "\n",
    "    plt.figure(figsize=(16, 8))\n",
    "    # Example data\n",
    "    prices = data.Price\n",
    "\n",
    "    # Create bins for the price data\n",
    "    bins = [0, 500, 1000, 1500, 2000, 2500, 3000, 3500,\n",
    "    4000, 4500, 5000, 5500, 6000,6500,7000,7500,8000 ]\n",
    "\n",
    "    # Group the prices into bins and plot the counts\n",
    "    pd.cut(prices, bins).value_counts().plot(kind='bar')\n",
    "\n",
    "\n",
    "    plt.xlabel(column)\n",
    "    plt.ylabel('Count')\n",
    "    plt.title(f\"Distribution based on Value Counts: {column}\")\n",
    "    ax.set_xticklabels(ax.get_xticklabels(), rotation=90, ha='right')\n",
    "    plt.show()"
   ]
  },
  {
   "cell_type": "code",
   "execution_count": null,
   "metadata": {
    "colab": {
     "base_uri": "https://localhost:8080/",
     "height": 994
    },
    "id": "6WJ-KYvRY1u3",
    "outputId": "4f4c122c-bb2f-4e72-da44-651adfcf0000"
   },
   "outputs": [
    {
     "ename": "NameError",
     "evalue": "ignored",
     "output_type": "error",
     "traceback": [
      "\u001b[0;31m---------------------------------------------------------------------------\u001b[0m",
      "\u001b[0;31mNameError\u001b[0m                                 Traceback (most recent call last)",
      "\u001b[0;32m<ipython-input-60-1c9d137c40be>\u001b[0m in \u001b[0;36m<cell line: 1>\u001b[0;34m()\u001b[0m\n\u001b[0;32m----> 1\u001b[0;31m \u001b[0mplot_distribution\u001b[0m\u001b[0;34m(\u001b[0m\u001b[0mdata\u001b[0m\u001b[0;34m,\u001b[0m \u001b[0;34m'Price'\u001b[0m\u001b[0;34m)\u001b[0m\u001b[0;34m\u001b[0m\u001b[0;34m\u001b[0m\u001b[0m\n\u001b[0m",
      "\u001b[0;32m<ipython-input-59-a44353f4fd0e>\u001b[0m in \u001b[0;36mplot_distribution\u001b[0;34m(df, column)\u001b[0m\n\u001b[1;32m     16\u001b[0m     \u001b[0mplt\u001b[0m\u001b[0;34m.\u001b[0m\u001b[0mylabel\u001b[0m\u001b[0;34m(\u001b[0m\u001b[0;34m'Count'\u001b[0m\u001b[0;34m)\u001b[0m\u001b[0;34m\u001b[0m\u001b[0;34m\u001b[0m\u001b[0m\n\u001b[1;32m     17\u001b[0m     \u001b[0mplt\u001b[0m\u001b[0;34m.\u001b[0m\u001b[0mtitle\u001b[0m\u001b[0;34m(\u001b[0m\u001b[0;34mf\"Distribution based on Value Counts: {column}\"\u001b[0m\u001b[0;34m)\u001b[0m\u001b[0;34m\u001b[0m\u001b[0;34m\u001b[0m\u001b[0m\n\u001b[0;32m---> 18\u001b[0;31m     \u001b[0max\u001b[0m\u001b[0;34m.\u001b[0m\u001b[0mset_xticklabels\u001b[0m\u001b[0;34m(\u001b[0m\u001b[0max\u001b[0m\u001b[0;34m.\u001b[0m\u001b[0mget_xticklabels\u001b[0m\u001b[0;34m(\u001b[0m\u001b[0;34m)\u001b[0m\u001b[0;34m,\u001b[0m \u001b[0mrotation\u001b[0m\u001b[0;34m=\u001b[0m\u001b[0;36m90\u001b[0m\u001b[0;34m,\u001b[0m \u001b[0mha\u001b[0m\u001b[0;34m=\u001b[0m\u001b[0;34m'right'\u001b[0m\u001b[0;34m)\u001b[0m\u001b[0;34m\u001b[0m\u001b[0;34m\u001b[0m\u001b[0m\n\u001b[0m\u001b[1;32m     19\u001b[0m     \u001b[0mplt\u001b[0m\u001b[0;34m.\u001b[0m\u001b[0mshow\u001b[0m\u001b[0;34m(\u001b[0m\u001b[0;34m)\u001b[0m\u001b[0;34m\u001b[0m\u001b[0;34m\u001b[0m\u001b[0m\n",
      "\u001b[0;31mNameError\u001b[0m: name 'ax' is not defined"
     ]
    },
    {
     "data": {
      "image/png": "[encoded data removed]",
      "text/plain": [
       "<Figure size 1600x800 with 1 Axes>"
      ]
     },
     "metadata": {},
     "output_type": "display_data"
    }
   ],
   "source": [
    "plot_distribution(data, 'Price')"
   ]
  },
  {
   "cell_type": "markdown",
   "metadata": {
    "id": "keoH5QQnlRiQ"
   },
   "source": [
    "When comparing the number of products listed according to price, we notice that Flipkart host products that are above the 1000 rupee mark.\n",
    "\n",
    "However, the are various products ranging from 90 to 500 rupees that Flipkart host."
   ]
  },
  {
   "cell_type": "code",
   "execution_count": null,
   "metadata": {
    "id": "SD6dYnQnY1u5"
   },
   "outputs": [],
   "source": [
    "def plot_distribution2(df, column):\n",
    "    \"\"\"\n",
    "    Plots the distribution of a specified column based on value counts in a DataFrame.\n",
    "\n",
    "    Args:\n",
    "        df (DataFrame): The pandas DataFrame containing the data.\n",
    "        column (str): The column name for which to plot the distribution.\n",
    "\n",
    "    \"\"\"\n",
    "    plt.figure(figsize=(16, 8))\n",
    "    rounded_values = df[column].round(1)\n",
    "    value_counts = rounded_values.value_counts()\n",
    "    sorted_counts = value_counts.sort_index()\n",
    "    ax = sns.barplot(x=sorted_counts.index, y=sorted_counts.values)\n",
    "    plt.xlabel(column)\n",
    "    plt.ylabel('Count')\n",
    "    plt.title(f\"Distribution based on Value Counts: {column}\")\n",
    "    ax.set_xticklabels(ax.get_xticklabels(), rotation=45, ha='right')\n",
    "    plt.ylim(0, sorted_counts.max() + 1)  # Set y-axis limit to include all counts\n",
    "    plt.show()"
   ]
  },
  {
   "cell_type": "code",
   "execution_count": null,
   "metadata": {
    "colab": {
     "base_uri": "https://localhost:8080/",
     "height": 685
    },
    "id": "htnN1DiMY1u7",
    "outputId": "bbd7803b-1d86-41be-c96d-aa39f6c42227"
   },
   "outputs": [
    {
     "data": {
      "image/png": "[encoded data removed]",
      "text/plain": [
       "<Figure size 1600x800 with 1 Axes>"
      ]
     },
     "metadata": {},
     "output_type": "display_data"
    }
   ],
   "source": [
    "plot_distribution2(data, 'polarity')"
   ]
  },
  {
   "cell_type": "markdown",
   "metadata": {
    "id": "_I25wHY5lRiS"
   },
   "source": [
    "When checking on polarity, we see that there is a high number of products that scored a polarity of 0.0 and above, meaning that there was a positive sentiment towards a majority of the products."
   ]
  },
  {
   "cell_type": "code",
   "execution_count": null,
   "metadata": {
    "id": "_UaGVYVWY1u9"
   },
   "outputs": [],
   "source": [
    "def plot_distribution3(df, column):\n",
    "    \"\"\"\n",
    "    Plots the distribution of a specified column based on value counts in a DataFrame.\n",
    "\n",
    "    Args:\n",
    "        df (DataFrame): The pandas DataFrame containing the data.\n",
    "        column (str): The column name for which to plot the distribution.\n",
    "\n",
    "    \"\"\"\n",
    "    plt.figure(figsize=(16, 8))\n",
    "    sns.barplot(x=df[column].value_counts().index, y=df[column].value_counts().values)\n",
    "    plt.xlabel(column)\n",
    "    plt.ylabel('Count')\n",
    "    plt.title(f\"Distribution based on Value Counts: {column}\")\n",
    "    plt.show()"
   ]
  },
  {
   "cell_type": "code",
   "execution_count": null,
   "metadata": {
    "id": "Cxe7CBjfY1u9"
   },
   "outputs": [],
   "source": [
    "plot_distribution3(data, 'Rate')"
   ]
  },
  {
   "cell_type": "markdown",
   "metadata": {
    "id": "YnfDjOaYY1u-"
   },
   "source": [
    "- From the bar plot above it's indicated that there was far more 5 star reviews of products in our dataset indicating higher positive sentiments"
   ]
  },
  {
   "cell_type": "markdown",
   "metadata": {
    "id": "aqHeDoPxY1u_"
   },
   "source": [
    "#### Categorical Univariate Analysis"
   ]
  },
  {
   "cell_type": "code",
   "execution_count": null,
   "metadata": {
    "colab": {
     "base_uri": "https://localhost:8080/"
    },
    "id": "nTv47elaY1vA",
    "outputId": "26ee0361-a75a-4c09-a0cd-52a079b79b39"
   },
   "outputs": [
    {
     "data": {
      "text/plain": [
       "Positive    124565\n",
       "Negative     20658\n",
       "Neutral      17731\n",
       "Name: product_sentiment, dtype: int64"
      ]
     },
     "execution_count": 61,
     "metadata": {},
     "output_type": "execute_result"
    }
   ],
   "source": [
    "# No of reviews per sentiments\n",
    "data.product_sentiment.value_counts()"
   ]
  },
  {
   "cell_type": "code",
   "execution_count": null,
   "metadata": {
    "colab": {
     "base_uri": "https://localhost:8080/"
    },
    "id": "biGxvNhtY1vA",
    "outputId": "adca318d-5ab5-4177-9cac-00e9236ffe5e"
   },
   "outputs": [
    {
     "name": "stdout",
     "output_type": "stream",
     "text": [
      "Positive    76.441818\n",
      "Negative    12.677197\n",
      "Neutral     10.880985\n",
      "Name: product_sentiment, dtype: float64\n"
     ]
    }
   ],
   "source": [
    "# Percentage of reviews per sentiment\n",
    "percentage = data['product_sentiment'].value_counts(normalize=True)\n",
    "print(percentage * 100)"
   ]
  },
  {
   "cell_type": "code",
   "execution_count": null,
   "metadata": {
    "colab": {
     "base_uri": "https://localhost:8080/",
     "height": 450
    },
    "id": "Bx2EpSDXY1vB",
    "outputId": "1d7ce767-10e7-4b66-cb6c-70a3a3fd45d8"
   },
   "outputs": [
    {
     "data": {
      "image/png": "[encoded data removed]",
      "text/plain": [
       "<Figure size 640x480 with 1 Axes>"
      ]
     },
     "metadata": {},
     "output_type": "display_data"
    }
   ],
   "source": [
    "# Visualization of target variable/product sentiment\n",
    "ax = sns.countplot(x = \"product_sentiment\", data = data)"
   ]
  },
  {
   "cell_type": "markdown",
   "metadata": {
    "id": "rXzQic7ZY1vD"
   },
   "source": [
    "- Upon closer inspection, it's confirmed there was far more positive sentiment at 69% followed by neutral sentiment at 22% and negative sentiment at 8%"
   ]
  },
  {
   "cell_type": "markdown",
   "metadata": {
    "id": "a7yieD-TY1vD"
   },
   "source": [
    "## Bivariate Analysis"
   ]
  },
  {
   "cell_type": "code",
   "execution_count": null,
   "metadata": {
    "id": "xbhqcMvwY1vD"
   },
   "outputs": [],
   "source": [
    "def bivariate_analysis_box(df, x_col, y_col):\n",
    "    \"\"\"\n",
    "    Conducts bivariate analysis between two columns in a DataFrame and generates a box plot.\n",
    "\n",
    "    Args:\n",
    "        df (DataFrame): The pandas DataFrame containing the data.\n",
    "        x_col (str): The name of the column to be plotted on the x-axis.\n",
    "        y_col (str): The name of the column to be plotted on the y-axis.\n",
    "\n",
    "    \"\"\"\n",
    "    plt.figure(figsize=(8, 6))\n",
    "    sns.boxplot(data=df, x=x_col, y=y_col)\n",
    "    plt.xlabel(x_col)\n",
    "    plt.ylabel(y_col)\n",
    "    plt.title(f\"Bivariate Analysis: {x_col} vs {y_col} (Box Plot)\")\n",
    "    plt.show()"
   ]
  },
  {
   "cell_type": "code",
   "execution_count": null,
   "metadata": {
    "id": "DlBi9zDbY1vE"
   },
   "outputs": [],
   "source": [
    "def bivariate_analysis_scatter(df, x_col, y_col):\n",
    "    \"\"\"\n",
    "    Conducts bivariate analysis between two columns in a DataFrame and generates scatter and box plots.\n",
    "\n",
    "    Args:\n",
    "        df (DataFrame): The pandas DataFrame containing the data.\n",
    "        x_col (str): The name of the column to be plotted on the x-axis.\n",
    "        y_col (str): The name of the column to be plotted on the y-axis.\n",
    "\n",
    "    \"\"\"\n",
    "    plt.figure(figsize=(10, 8))\n",
    "\n",
    "    # Scatter plot\n",
    "    # plt.subplot(1, 2, 1)\n",
    "    sns.scatterplot(data=df, x=x_col, y=y_col)\n",
    "    plt.xlabel(x_col)\n",
    "    plt.ylabel(y_col)\n",
    "    plt.title(f\"Bivariate Analysis: {x_col} vs {y_col} (Scatter Plot)\")\n",
    "    plt.show()"
   ]
  },
  {
   "cell_type": "markdown",
   "metadata": {
    "id": "4Wl4i5XzY1vF"
   },
   "source": [
    "### Relationship between Price and Sentiment(Polarity scores)"
   ]
  },
  {
   "cell_type": "code",
   "execution_count": null,
   "metadata": {
    "colab": {
     "base_uri": "https://localhost:8080/",
     "height": 718
    },
    "id": "N96NHMlAY1vF",
    "outputId": "8f3c04ed-e6de-45dd-86e9-50d802bf4a4f"
   },
   "outputs": [
    {
     "data": {
      "image/png": "[encoded data removed]",
      "text/plain": [
       "<Figure size 1000x800 with 1 Axes>"
      ]
     },
     "metadata": {},
     "output_type": "display_data"
    }
   ],
   "source": [
    "bivariate_analysis_scatter(data, 'Price', 'polarity')"
   ]
  },
  {
   "cell_type": "markdown",
   "metadata": {
    "id": "ROWjeyQ5Y1vG"
   },
   "source": [
    "- There's no relationship between Price and Polarity/Customer Sentiments. It makes sense because someone could buy products of higher or lower prices and it wouldn't be a factor for positive or negative sentiments. It could all come down to other factors like quality or wait times for delivery etc."
   ]
  },
  {
   "cell_type": "markdown",
   "metadata": {
    "id": "MWNfFI12Y1vH"
   },
   "source": [
    "### Relationship between Price and Rate"
   ]
  },
  {
   "cell_type": "code",
   "execution_count": null,
   "metadata": {
    "colab": {
     "base_uri": "https://localhost:8080/",
     "height": 564
    },
    "id": "IqDbybm5Y1vH",
    "outputId": "26f47b99-c0dd-40c7-8d0b-65abfc3079b0"
   },
   "outputs": [
    {
     "data": {
      "image/png": "[encoded data removed]",
      "text/plain": [
       "<Figure size 800x600 with 1 Axes>"
      ]
     },
     "metadata": {},
     "output_type": "display_data"
    }
   ],
   "source": [
    "bivariate_analysis_box(data, 'Rate', 'Price')"
   ]
  },
  {
   "cell_type": "markdown",
   "metadata": {
    "id": "ljMO954mlRid"
   },
   "source": [
    "From the plot above, we see that the price of a product has minor influence on the ratings it receives. This may indicate the price may not be the only factor that customers use when rating a product."
   ]
  },
  {
   "cell_type": "markdown",
   "metadata": {
    "id": "DlBSc4psY1vI"
   },
   "source": [
    "### Relationship between Sentiment and Rate"
   ]
  },
  {
   "cell_type": "code",
   "execution_count": null,
   "metadata": {
    "colab": {
     "base_uri": "https://localhost:8080/",
     "height": 564
    },
    "id": "eAzAKAUNY1vJ",
    "outputId": "d7709d9d-1343-4a76-fc1f-73f4e23d07d9"
   },
   "outputs": [
    {
     "data": {
      "image/png": "[encoded data removed]",
      "text/plain": [
       "<Figure size 800x600 with 1 Axes>"
      ]
     },
     "metadata": {},
     "output_type": "display_data"
    }
   ],
   "source": [
    "bivariate_analysis_box(data, 'Rate', 'polarity')"
   ]
  },
  {
   "cell_type": "markdown",
   "metadata": {
    "id": "mzuYTLtylRig"
   },
   "source": [
    "From the plot above, products with a high polarity tend to also have higher rates than products with low polarity, especially those below 0.0 polarity score."
   ]
  },
  {
   "cell_type": "markdown",
   "metadata": {
    "id": "dKyFL9zpY1vK"
   },
   "source": [
    "### Relationship between product sentiment and Rate"
   ]
  },
  {
   "cell_type": "code",
   "execution_count": null,
   "metadata": {
    "colab": {
     "base_uri": "https://localhost:8080/",
     "height": 564
    },
    "id": "Ws0CTha3Y1vL",
    "outputId": "472d7491-2f6a-4aef-cb50-2b4cc02c619e"
   },
   "outputs": [
    {
     "data": {
      "image/png": "[encoded data removed]",
      "text/plain": [
       "<Figure size 800x600 with 1 Axes>"
      ]
     },
     "metadata": {},
     "output_type": "display_data"
    }
   ],
   "source": [
    "bivariate_analysis_box(data,'product_sentiment', 'Rate')"
   ]
  },
  {
   "cell_type": "markdown",
   "metadata": {
    "id": "pgd94MmjlRii"
   },
   "source": [
    "With then observe that products products with a positive sentiment are more likely to have higher rating scores that products with a negative sentiment."
   ]
  },
  {
   "cell_type": "markdown",
   "metadata": {
    "id": "KGp8Qs_jY1vM"
   },
   "source": [
    "### Relationship between product sentiment and Price"
   ]
  },
  {
   "cell_type": "code",
   "execution_count": null,
   "metadata": {
    "colab": {
     "base_uri": "https://localhost:8080/",
     "height": 564
    },
    "id": "dM8IC24nY1vN",
    "outputId": "bc02ab63-aa9e-46e5-d7f9-4ab377ea990f"
   },
   "outputs": [
    {
     "data": {
      "image/png": "[encoded data removed]",
      "text/plain": [
       "<Figure size 800x600 with 1 Axes>"
      ]
     },
     "metadata": {},
     "output_type": "display_data"
    }
   ],
   "source": [
    "bivariate_analysis_box(data,'product_sentiment', 'Price')"
   ]
  },
  {
   "cell_type": "markdown",
   "metadata": {},
   "source": [
    "The plot above reveals that price has little influence on sentiment, as the distribution of positive, neutral, and negative sentiments appears to be almost equally spread across different price ranges. This observation suggests that customers' sentiment towards a product is not solely determined by its price point. Instead, other factors such as product quality, features, brand reputation, and customer experience may play a more significant role in shaping sentiment.\n",
    "\n",
    "The implication of this finding is that businesses, including Flipkart, should prioritize providing high-quality products, exceptional customer experiences, and value for money, rather than solely relying on price as a determining factor for sentiment. While pricing strategies are important for attracting customers, this plot highlights the need to focus on delivering products that consistently generate positive sentiment, regardless of their price range. By understanding and addressing the key factors that influence sentiment, businesses can better meet customer expectations, enhance satisfaction, and build long-term customer loyalty. This emphasizes the importance of a holistic approach to product development and customer experience management, where price is just one element among many that contribute to overall sentiment."
   ]
  },
  {
   "cell_type": "markdown",
   "metadata": {
    "id": "wlU6wXdkY1vO"
   },
   "source": [
    "### Relationship between product sentiment and polarity"
   ]
  },
  {
   "cell_type": "code",
   "execution_count": null,
   "metadata": {
    "colab": {
     "base_uri": "https://localhost:8080/",
     "height": 564
    },
    "id": "lNj5yW8gY1vP",
    "outputId": "8ccb25c0-ac74-4df3-a0c0-b2c0f4b81056"
   },
   "outputs": [
    {
     "data": {
      "image/png": "[encoded data removed]",
      "text/plain": [
       "<Figure size 800x600 with 1 Axes>"
      ]
     },
     "metadata": {},
     "output_type": "display_data"
    }
   ],
   "source": [
    "bivariate_analysis_box(data,'product_sentiment', 'polarity')"
   ]
  },
  {
   "cell_type": "markdown",
   "metadata": {
    "id": "LFnb2lIAlRio"
   },
   "source": [
    "The plot above reveals that the bulk of positive sentiment is associated with polarity scores ranging from 0.4 to 0.75, while negative sentiment is concentrated within the range of -0.25 to -0.6. Neutral sentiment, on the other hand, is represented by a polarity score of 0. This observation indicates a strong correlation between sentiment and polarity scores, suggesting that higher positive polarity scores are linked to positive sentiments and satisfaction, while lower negative polarity scores correspond to negative sentiments. Understanding this relationship can assist businesses like Flipkart in identifying customer feedback patterns, addressing concerns, and refining their products and services to enhance customer satisfaction and maintain a positive brand image."
   ]
  },
  {
   "cell_type": "code",
   "execution_count": null,
   "metadata": {
    "colab": {
     "base_uri": "https://localhost:8080/",
     "height": 143
    },
    "id": "fkOhO_H2883M",
    "outputId": "b6eeec8d-ae55-4e35-bbd9-b2d443eb9ea8"
   },
   "outputs": [
    {
     "data": {
      "text/html": [
       "\n",
       "\n",
       "  <div id=\"df-c79f2d0f-b91b-4973-86a1-31ffb616193e\">\n",
       "    <div class=\"colab-df-container\">\n",
       "      <div>\n",
       "<style scoped>\n",
       "    .dataframe tbody tr th:only-of-type {\n",
       "        vertical-align: middle;\n",
       "    }\n",
       "\n",
       "    .dataframe tbody tr th {\n",
       "        vertical-align: top;\n",
       "    }\n",
       "\n",
       "    .dataframe thead th {\n",
       "        text-align: right;\n",
       "    }\n",
       "</style>\n",
       "<table border=\"1\" class=\"dataframe\">\n",
       "  <thead>\n",
       "    <tr style=\"text-align: right;\">\n",
       "      <th></th>\n",
       "      <th>Price</th>\n",
       "      <th>Rate</th>\n",
       "      <th>polarity</th>\n",
       "    </tr>\n",
       "  </thead>\n",
       "  <tbody>\n",
       "    <tr>\n",
       "      <th>Price</th>\n",
       "      <td>1.000000</td>\n",
       "      <td>0.083571</td>\n",
       "      <td>0.076369</td>\n",
       "    </tr>\n",
       "    <tr>\n",
       "      <th>Rate</th>\n",
       "      <td>0.083571</td>\n",
       "      <td>1.000000</td>\n",
       "      <td>0.701022</td>\n",
       "    </tr>\n",
       "    <tr>\n",
       "      <th>polarity</th>\n",
       "      <td>0.076369</td>\n",
       "      <td>0.701022</td>\n",
       "      <td>1.000000</td>\n",
       "    </tr>\n",
       "  </tbody>\n",
       "</table>\n",
       "</div>\n",
       "      <button class=\"colab-df-convert\" onclick=\"convertToInteractive('df-c79f2d0f-b91b-4973-86a1-31ffb616193e')\"\n",
       "              title=\"Convert this dataframe to an interactive table.\"\n",
       "              style=\"display:none;\">\n",
       "\n",
       "  <svg xmlns=\"http://www.w3.org/2000/svg\" height=\"24px\"viewBox=\"0 0 24 24\"\n",
       "       width=\"24px\">\n",
       "    <path d=\"M0 0h24v24H0V0z\" fill=\"none\"/>\n",
       "    <path d=\"M18.56 5.44l.94 2.06.94-2.06 2.06-.94-2.06-.94-.94-2.06-.94 2.06-2.06.94zm-11 1L8.5 8.5l.94-2.06 2.06-.94-2.06-.94L8.5 2.5l-.94 2.06-2.06.94zm10 10l.94 2.06.94-2.06 2.06-.94-2.06-.94-.94-2.06-.94 2.06-2.06.94z\"/><path d=\"M17.41 7.96l-1.37-1.37c-.4-.4-.92-.59-1.43-.59-.52 0-1.04.2-1.43.59L10.3 9.45l-7.72 7.72c-.78.78-.78 2.05 0 2.83L4 21.41c.39.39.9.59 1.41.59.51 0 1.02-.2 1.41-.59l7.78-7.78 2.81-2.81c.8-.78.8-2.07 0-2.86zM5.41 20L4 18.59l7.72-7.72 1.47 1.35L5.41 20z\"/>\n",
       "  </svg>\n",
       "      </button>\n",
       "\n",
       "\n",
       "\n",
       "    <div id=\"df-23ed3d49-5624-4384-9b70-5bc83617d990\">\n",
       "      <button class=\"colab-df-quickchart\" onclick=\"quickchart('df-23ed3d49-5624-4384-9b70-5bc83617d990')\"\n",
       "              title=\"Suggest charts.\"\n",
       "              style=\"display:none;\">\n",
       "\n",
       "<svg xmlns=\"http://www.w3.org/2000/svg\" height=\"24px\"viewBox=\"0 0 24 24\"\n",
       "     width=\"24px\">\n",
       "    <g>\n",
       "        <path d=\"M19 3H5c-1.1 0-2 .9-2 2v14c0 1.1.9 2 2 2h14c1.1 0 2-.9 2-2V5c0-1.1-.9-2-2-2zM9 17H7v-7h2v7zm4 0h-2V7h2v10zm4 0h-2v-4h2v4z\"/>\n",
       "    </g>\n",
       "</svg>\n",
       "      </button>\n",
       "    </div>\n",
       "\n",
       "<style>\n",
       "  .colab-df-quickchart {\n",
       "    background-color: #E8F0FE;\n",
       "    border: none;\n",
       "    border-radius: 50%;\n",
       "    cursor: pointer;\n",
       "    display: none;\n",
       "    fill: #1967D2;\n",
       "    height: 32px;\n",
       "    padding: 0 0 0 0;\n",
       "    width: 32px;\n",
       "  }\n",
       "\n",
       "  .colab-df-quickchart:hover {\n",
       "    background-color: #E2EBFA;\n",
       "    box-shadow: 0px 1px 2px rgba(60, 64, 67, 0.3), 0px 1px 3px 1px rgba(60, 64, 67, 0.15);\n",
       "    fill: #174EA6;\n",
       "  }\n",
       "\n",
       "  [theme=dark] .colab-df-quickchart {\n",
       "    background-color: #3B4455;\n",
       "    fill: #D2E3FC;\n",
       "  }\n",
       "\n",
       "  [theme=dark] .colab-df-quickchart:hover {\n",
       "    background-color: #434B5C;\n",
       "    box-shadow: 0px 1px 3px 1px rgba(0, 0, 0, 0.15);\n",
       "    filter: drop-shadow(0px 1px 2px rgba(0, 0, 0, 0.3));\n",
       "    fill: #FFFFFF;\n",
       "  }\n",
       "</style>\n",
       "\n",
       "    <script>\n",
       "      async function quickchart(key) {\n",
       "        const containerElement = document.querySelector('#' + key);\n",
       "        const charts = await google.colab.kernel.invokeFunction(\n",
       "            'suggestCharts', [key], {});\n",
       "      }\n",
       "    </script>\n",
       "\n",
       "      <script>\n",
       "\n",
       "function displayQuickchartButton(domScope) {\n",
       "  let quickchartButtonEl =\n",
       "    domScope.querySelector('#df-23ed3d49-5624-4384-9b70-5bc83617d990 button.colab-df-quickchart');\n",
       "  quickchartButtonEl.style.display =\n",
       "    google.colab.kernel.accessAllowed ? 'block' : 'none';\n",
       "}\n",
       "\n",
       "        displayQuickchartButton(document);\n",
       "      </script>\n",
       "      <style>\n",
       "    .colab-df-container {\n",
       "      display:flex;\n",
       "      flex-wrap:wrap;\n",
       "      gap: 12px;\n",
       "    }\n",
       "\n",
       "    .colab-df-convert {\n",
       "      background-color: #E8F0FE;\n",
       "      border: none;\n",
       "      border-radius: 50%;\n",
       "      cursor: pointer;\n",
       "      display: none;\n",
       "      fill: #1967D2;\n",
       "      height: 32px;\n",
       "      padding: 0 0 0 0;\n",
       "      width: 32px;\n",
       "    }\n",
       "\n",
       "    .colab-df-convert:hover {\n",
       "      background-color: #E2EBFA;\n",
       "      box-shadow: 0px 1px 2px rgba(60, 64, 67, 0.3), 0px 1px 3px 1px rgba(60, 64, 67, 0.15);\n",
       "      fill: #174EA6;\n",
       "    }\n",
       "\n",
       "    [theme=dark] .colab-df-convert {\n",
       "      background-color: #3B4455;\n",
       "      fill: #D2E3FC;\n",
       "    }\n",
       "\n",
       "    [theme=dark] .colab-df-convert:hover {\n",
       "      background-color: #434B5C;\n",
       "      box-shadow: 0px 1px 3px 1px rgba(0, 0, 0, 0.15);\n",
       "      filter: drop-shadow(0px 1px 2px rgba(0, 0, 0, 0.3));\n",
       "      fill: #FFFFFF;\n",
       "    }\n",
       "  </style>\n",
       "\n",
       "      <script>\n",
       "        const buttonEl =\n",
       "          document.querySelector('#df-c79f2d0f-b91b-4973-86a1-31ffb616193e button.colab-df-convert');\n",
       "        buttonEl.style.display =\n",
       "          google.colab.kernel.accessAllowed ? 'block' : 'none';\n",
       "\n",
       "        async function convertToInteractive(key) {\n",
       "          const element = document.querySelector('#df-c79f2d0f-b91b-4973-86a1-31ffb616193e');\n",
       "          const dataTable =\n",
       "            await google.colab.kernel.invokeFunction('convertToInteractive',\n",
       "                                                     [key], {});\n",
       "          if (!dataTable) return;\n",
       "\n",
       "          const docLinkHtml = 'Like what you see? Visit the ' +\n",
       "            '<a target=\"_blank\" href=https://colab.research.google.com/notebooks/data_table.ipynb>data table notebook</a>'\n",
       "            + ' to learn more about interactive tables.';\n",
       "          element.innerHTML = '';\n",
       "          dataTable['output_type'] = 'display_data';\n",
       "          await google.colab.output.renderOutput(dataTable, element);\n",
       "          const docLink = document.createElement('div');\n",
       "          docLink.innerHTML = docLinkHtml;\n",
       "          element.appendChild(docLink);\n",
       "        }\n",
       "      </script>\n",
       "    </div>\n",
       "  </div>\n"
      ],
      "text/plain": [
       "             Price      Rate  polarity\n",
       "Price     1.000000  0.083571  0.076369\n",
       "Rate      0.083571  1.000000  0.701022\n",
       "polarity  0.076369  0.701022  1.000000"
      ]
     },
     "execution_count": 74,
     "metadata": {},
     "output_type": "execute_result"
    }
   ],
   "source": [
    "data.corr()"
   ]
  },
  {
   "cell_type": "code",
   "execution_count": null,
   "metadata": {
    "colab": {
     "base_uri": "https://localhost:8080/",
     "height": 435
    },
    "id": "04Moyua2883N",
    "outputId": "600bac20-695c-41f5-c822-c59307d38f87"
   },
   "outputs": [
    {
     "data": {
      "image/png": "[encoded data removed]",
      "text/plain": [
       "<Figure size 640x480 with 2 Axes>"
      ]
     },
     "metadata": {},
     "output_type": "display_data"
    }
   ],
   "source": [
    "# Create a sample correlation matrix\n",
    "correlation_matrix = data.corr()  # Replace df with your actual data\n",
    "\n",
    "# Create the heatmap\n",
    "sns.heatmap(correlation_matrix, annot=True, cmap='coolwarm')\n",
    "\n",
    "# Display the heatmap\n",
    "plt.show()"
   ]
  },
  {
   "cell_type": "markdown",
   "metadata": {
    "id": "PZTi7pIslRis"
   },
   "source": [
    "From the plot above, we notice that products price barely has any influence on rating of a product. However, as long as there exist a negative sentiment, products will be rated worse, irregardless of price."
   ]
  },
  {
   "cell_type": "markdown",
   "metadata": {
    "id": "EyjJXoaEY1vT"
   },
   "source": [
    "# PREPARATION FOR MODELLING"
   ]
  },
  {
   "cell_type": "markdown",
   "metadata": {
    "id": "foMdiGAhtxVi"
   },
   "source": [
    "### Encoding"
   ]
  },
  {
   "cell_type": "code",
   "execution_count": null,
   "metadata": {
    "id": "H5HJPWdxt1Zl"
   },
   "outputs": [],
   "source": [
    "# encode target column\n",
    "data['product_sentiment'] = data['product_sentiment'].map({'Positive':1, 'Negative':0, 'Neutral':2})\n"
   ]
  },
  {
   "cell_type": "code",
   "execution_count": null,
   "metadata": {
    "colab": {
     "base_uri": "https://localhost:8080/"
    },
    "id": "fSx-u_6U0BwC",
    "outputId": "b754f1a9-9142-48f2-bc43-acf6e2d3d275"
   },
   "outputs": [
    {
     "data": {
      "text/plain": [
       "1    124565\n",
       "0     20658\n",
       "2     17731\n",
       "Name: product_sentiment, dtype: int64"
      ]
     },
     "execution_count": 77,
     "metadata": {},
     "output_type": "execute_result"
    }
   ],
   "source": [
    "data['product_sentiment'].value_counts()"
   ]
  },
  {
   "cell_type": "markdown",
   "metadata": {
    "id": "0OwZonWaY1vU"
   },
   "source": [
    "### 1.3 Text Preprocessing\n",
    "We will do some text preprocessing to clean our text data(Summary). To do this we'll change it to lowercase, remove stop words, punctuation, We'll also tokenize & lemmatize our texts."
   ]
  },
  {
   "cell_type": "code",
   "execution_count": null,
   "metadata": {
    "colab": {
     "base_uri": "https://localhost:8080/",
     "height": 112
    },
    "id": "-KcNq57xuB5P",
    "outputId": "d14353b2-9297-4f8f-84a6-4594c91c9ac0"
   },
   "outputs": [
    {
     "data": {
      "text/html": [
       "\n",
       "\n",
       "  <div id=\"df-c9afcb87-3a52-44a7-a0b3-0eb9db5d1a4a\">\n",
       "    <div class=\"colab-df-container\">\n",
       "      <div>\n",
       "<style scoped>\n",
       "    .dataframe tbody tr th:only-of-type {\n",
       "        vertical-align: middle;\n",
       "    }\n",
       "\n",
       "    .dataframe tbody tr th {\n",
       "        vertical-align: top;\n",
       "    }\n",
       "\n",
       "    .dataframe thead th {\n",
       "        text-align: right;\n",
       "    }\n",
       "</style>\n",
       "<table border=\"1\" class=\"dataframe\">\n",
       "  <thead>\n",
       "    <tr style=\"text-align: right;\">\n",
       "      <th></th>\n",
       "      <th>ProductName</th>\n",
       "      <th>Price</th>\n",
       "      <th>Rate</th>\n",
       "      <th>Review</th>\n",
       "      <th>Summary</th>\n",
       "      <th>polarity</th>\n",
       "      <th>product_sentiment</th>\n",
       "    </tr>\n",
       "  </thead>\n",
       "  <tbody>\n",
       "    <tr>\n",
       "      <th>0</th>\n",
       "      <td>Candes 12 L Room/Personal Air Cooler (White Bl...</td>\n",
       "      <td>3999.0</td>\n",
       "      <td>5.0</td>\n",
       "      <td>Super</td>\n",
       "      <td>great cooler excellent air flow and for this p...</td>\n",
       "      <td>0.9576</td>\n",
       "      <td>1</td>\n",
       "    </tr>\n",
       "    <tr>\n",
       "      <th>1</th>\n",
       "      <td>Candes 12 L Room/Personal Air Cooler (White Bl...</td>\n",
       "      <td>3999.0</td>\n",
       "      <td>5.0</td>\n",
       "      <td>Awesome</td>\n",
       "      <td>best budget 2 fit cooler nice cooling</td>\n",
       "      <td>0.8591</td>\n",
       "      <td>1</td>\n",
       "    </tr>\n",
       "  </tbody>\n",
       "</table>\n",
       "</div>\n",
       "      <button class=\"colab-df-convert\" onclick=\"convertToInteractive('df-c9afcb87-3a52-44a7-a0b3-0eb9db5d1a4a')\"\n",
       "              title=\"Convert this dataframe to an interactive table.\"\n",
       "              style=\"display:none;\">\n",
       "\n",
       "  <svg xmlns=\"http://www.w3.org/2000/svg\" height=\"24px\"viewBox=\"0 0 24 24\"\n",
       "       width=\"24px\">\n",
       "    <path d=\"M0 0h24v24H0V0z\" fill=\"none\"/>\n",
       "    <path d=\"M18.56 5.44l.94 2.06.94-2.06 2.06-.94-2.06-.94-.94-2.06-.94 2.06-2.06.94zm-11 1L8.5 8.5l.94-2.06 2.06-.94-2.06-.94L8.5 2.5l-.94 2.06-2.06.94zm10 10l.94 2.06.94-2.06 2.06-.94-2.06-.94-.94-2.06-.94 2.06-2.06.94z\"/><path d=\"M17.41 7.96l-1.37-1.37c-.4-.4-.92-.59-1.43-.59-.52 0-1.04.2-1.43.59L10.3 9.45l-7.72 7.72c-.78.78-.78 2.05 0 2.83L4 21.41c.39.39.9.59 1.41.59.51 0 1.02-.2 1.41-.59l7.78-7.78 2.81-2.81c.8-.78.8-2.07 0-2.86zM5.41 20L4 18.59l7.72-7.72 1.47 1.35L5.41 20z\"/>\n",
       "  </svg>\n",
       "      </button>\n",
       "\n",
       "\n",
       "\n",
       "    <div id=\"df-1ec9cd04-f8ff-42f1-a644-683624220d75\">\n",
       "      <button class=\"colab-df-quickchart\" onclick=\"quickchart('df-1ec9cd04-f8ff-42f1-a644-683624220d75')\"\n",
       "              title=\"Suggest charts.\"\n",
       "              style=\"display:none;\">\n",
       "\n",
       "<svg xmlns=\"http://www.w3.org/2000/svg\" height=\"24px\"viewBox=\"0 0 24 24\"\n",
       "     width=\"24px\">\n",
       "    <g>\n",
       "        <path d=\"M19 3H5c-1.1 0-2 .9-2 2v14c0 1.1.9 2 2 2h14c1.1 0 2-.9 2-2V5c0-1.1-.9-2-2-2zM9 17H7v-7h2v7zm4 0h-2V7h2v10zm4 0h-2v-4h2v4z\"/>\n",
       "    </g>\n",
       "</svg>\n",
       "      </button>\n",
       "    </div>\n",
       "\n",
       "<style>\n",
       "  .colab-df-quickchart {\n",
       "    background-color: #E8F0FE;\n",
       "    border: none;\n",
       "    border-radius: 50%;\n",
       "    cursor: pointer;\n",
       "    display: none;\n",
       "    fill: #1967D2;\n",
       "    height: 32px;\n",
       "    padding: 0 0 0 0;\n",
       "    width: 32px;\n",
       "  }\n",
       "\n",
       "  .colab-df-quickchart:hover {\n",
       "    background-color: #E2EBFA;\n",
       "    box-shadow: 0px 1px 2px rgba(60, 64, 67, 0.3), 0px 1px 3px 1px rgba(60, 64, 67, 0.15);\n",
       "    fill: #174EA6;\n",
       "  }\n",
       "\n",
       "  [theme=dark] .colab-df-quickchart {\n",
       "    background-color: #3B4455;\n",
       "    fill: #D2E3FC;\n",
       "  }\n",
       "\n",
       "  [theme=dark] .colab-df-quickchart:hover {\n",
       "    background-color: #434B5C;\n",
       "    box-shadow: 0px 1px 3px 1px rgba(0, 0, 0, 0.15);\n",
       "    filter: drop-shadow(0px 1px 2px rgba(0, 0, 0, 0.3));\n",
       "    fill: #FFFFFF;\n",
       "  }\n",
       "</style>\n",
       "\n",
       "    <script>\n",
       "      async function quickchart(key) {\n",
       "        const containerElement = document.querySelector('#' + key);\n",
       "        const charts = await google.colab.kernel.invokeFunction(\n",
       "            'suggestCharts', [key], {});\n",
       "      }\n",
       "    </script>\n",
       "\n",
       "      <script>\n",
       "\n",
       "function displayQuickchartButton(domScope) {\n",
       "  let quickchartButtonEl =\n",
       "    domScope.querySelector('#df-1ec9cd04-f8ff-42f1-a644-683624220d75 button.colab-df-quickchart');\n",
       "  quickchartButtonEl.style.display =\n",
       "    google.colab.kernel.accessAllowed ? 'block' : 'none';\n",
       "}\n",
       "\n",
       "        displayQuickchartButton(document);\n",
       "      </script>\n",
       "      <style>\n",
       "    .colab-df-container {\n",
       "      display:flex;\n",
       "      flex-wrap:wrap;\n",
       "      gap: 12px;\n",
       "    }\n",
       "\n",
       "    .colab-df-convert {\n",
       "      background-color: #E8F0FE;\n",
       "      border: none;\n",
       "      border-radius: 50%;\n",
       "      cursor: pointer;\n",
       "      display: none;\n",
       "      fill: #1967D2;\n",
       "      height: 32px;\n",
       "      padding: 0 0 0 0;\n",
       "      width: 32px;\n",
       "    }\n",
       "\n",
       "    .colab-df-convert:hover {\n",
       "      background-color: #E2EBFA;\n",
       "      box-shadow: 0px 1px 2px rgba(60, 64, 67, 0.3), 0px 1px 3px 1px rgba(60, 64, 67, 0.15);\n",
       "      fill: #174EA6;\n",
       "    }\n",
       "\n",
       "    [theme=dark] .colab-df-convert {\n",
       "      background-color: #3B4455;\n",
       "      fill: #D2E3FC;\n",
       "    }\n",
       "\n",
       "    [theme=dark] .colab-df-convert:hover {\n",
       "      background-color: #434B5C;\n",
       "      box-shadow: 0px 1px 3px 1px rgba(0, 0, 0, 0.15);\n",
       "      filter: drop-shadow(0px 1px 2px rgba(0, 0, 0, 0.3));\n",
       "      fill: #FFFFFF;\n",
       "    }\n",
       "  </style>\n",
       "\n",
       "      <script>\n",
       "        const buttonEl =\n",
       "          document.querySelector('#df-c9afcb87-3a52-44a7-a0b3-0eb9db5d1a4a button.colab-df-convert');\n",
       "        buttonEl.style.display =\n",
       "          google.colab.kernel.accessAllowed ? 'block' : 'none';\n",
       "\n",
       "        async function convertToInteractive(key) {\n",
       "          const element = document.querySelector('#df-c9afcb87-3a52-44a7-a0b3-0eb9db5d1a4a');\n",
       "          const dataTable =\n",
       "            await google.colab.kernel.invokeFunction('convertToInteractive',\n",
       "                                                     [key], {});\n",
       "          if (!dataTable) return;\n",
       "\n",
       "          const docLinkHtml = 'Like what you see? Visit the ' +\n",
       "            '<a target=\"_blank\" href=https://colab.research.google.com/notebooks/data_table.ipynb>data table notebook</a>'\n",
       "            + ' to learn more about interactive tables.';\n",
       "          element.innerHTML = '';\n",
       "          dataTable['output_type'] = 'display_data';\n",
       "          await google.colab.output.renderOutput(dataTable, element);\n",
       "          const docLink = document.createElement('div');\n",
       "          docLink.innerHTML = docLinkHtml;\n",
       "          element.appendChild(docLink);\n",
       "        }\n",
       "      </script>\n",
       "    </div>\n",
       "  </div>\n"
      ],
      "text/plain": [
       "                                         ProductName   Price  Rate   Review  \\\n",
       "0  Candes 12 L Room/Personal Air Cooler (White Bl...  3999.0   5.0    Super   \n",
       "1  Candes 12 L Room/Personal Air Cooler (White Bl...  3999.0   5.0  Awesome   \n",
       "\n",
       "                                             Summary  polarity  \\\n",
       "0  great cooler excellent air flow and for this p...    0.9576   \n",
       "1              best budget 2 fit cooler nice cooling    0.8591   \n",
       "\n",
       "  product_sentiment  \n",
       "0                 1  \n",
       "1                 1  "
      ]
     },
     "execution_count": 78,
     "metadata": {},
     "output_type": "execute_result"
    }
   ],
   "source": [
    "# normalizing the data to lowecase\n",
    "data['Summary'] = data['Summary'].str.lower()\n",
    "data.head(2)"
   ]
  },
  {
   "cell_type": "code",
   "execution_count": null,
   "metadata": {
    "id": "35WYO-hcuJUT"
   },
   "outputs": [],
   "source": [
    "stop_words = set(stopwords.words('english'))\n",
    "\n",
    "def remove_stopwords(Summary):\n",
    "    # Use list comprehension for efficient list creation\n",
    "    new_Summary = [word for word in Summary.split() if word not in stop_words]\n",
    "    return \" \".join(new_Summary)\n",
    "\n",
    "# Apply the function to the 'Summary' column\n",
    "data['Summary'] = data['Summary'].apply(remove_stopwords)"
   ]
  },
  {
   "cell_type": "code",
   "execution_count": null,
   "metadata": {
    "id": "JYa3pJP4uQQe"
   },
   "outputs": [],
   "source": [
    "# removing the html tags\n",
    "def remove_html(review):\n",
    "    pattern = re.compile('<.*?>')\n",
    "    return pattern.sub(r'', review)\n",
    "\n",
    "data['Summary'] = data['Summary'].apply(remove_html)"
   ]
  },
  {
   "cell_type": "code",
   "execution_count": null,
   "metadata": {
    "id": "Y0uzeVhkuU7W"
   },
   "outputs": [],
   "source": [
    "# removing URL and @ sign\n",
    "\n",
    "def preprocess_text_removingq_URLand_atsign(text):\n",
    "    # Remove URLs\n",
    "    clean_text = re.sub(r\"http\\S+|www\\S+|https\\S+\", \"\", text)\n",
    "    text = re.sub(r'@[^\\s]+', 'user', clean_text)\n",
    "    # Other preprocessing steps like removing punctuation, converting to lowercase, etc.\n",
    "    # ...\n",
    "    return text\n",
    "\n",
    "data['Summary'] = data['Summary'].apply(preprocess_text_removingq_URLand_atsign)"
   ]
  },
  {
   "cell_type": "code",
   "execution_count": null,
   "metadata": {
    "colab": {
     "base_uri": "https://localhost:8080/"
    },
    "id": "nN4mvr5AuYtT",
    "outputId": "b9948517-7f78-4489-9451-27213815593e"
   },
   "outputs": [
    {
     "name": "stdout",
     "output_type": "stream",
     "text": [
      "Requirement already satisfied: contractions in /usr/local/lib/python3.10/dist-packages (0.1.73)\n",
      "Requirement already satisfied: textsearch>=0.0.21 in /usr/local/lib/python3.10/dist-packages (from contractions) (0.0.24)\n",
      "Requirement already satisfied: anyascii in /usr/local/lib/python3.10/dist-packages (from textsearch>=0.0.21->contractions) (0.3.2)\n",
      "Requirement already satisfied: pyahocorasick in /usr/local/lib/python3.10/dist-packages (from textsearch>=0.0.21->contractions) (2.0.0)\n"
     ]
    }
   ],
   "source": [
    "#pip install contractions"
   ]
  },
  {
   "cell_type": "code",
   "execution_count": null,
   "metadata": {
    "id": "_3K4EJRcueZ-"
   },
   "outputs": [],
   "source": [
    "# expanding the contractions (is-nots)\n",
    "\n",
    "import contractions\n",
    "\n",
    "def expand(text):\n",
    "    # Expand contractions\n",
    "    expanded_text = contractions.fix(text)\n",
    "\n",
    "    return expanded_text\n",
    "\n",
    "data['Summary'] = data['Summary'].apply(expand)"
   ]
  },
  {
   "cell_type": "code",
   "execution_count": null,
   "metadata": {
    "colab": {
     "base_uri": "https://localhost:8080/"
    },
    "id": "KyhXr_Qtuho_",
    "outputId": "16fff7da-b4f0-4ead-a378-2fd8e493a288"
   },
   "outputs": [
    {
     "name": "stdout",
     "output_type": "stream",
     "text": [
      "!\"#$%&'()*+,-./:;<=>?@[\\]^_`{|}~\n"
     ]
    }
   ],
   "source": [
    "# punctuation\n",
    "exclude = string.punctuation\n",
    "print(exclude)"
   ]
  },
  {
   "cell_type": "code",
   "execution_count": null,
   "metadata": {
    "id": "vQdTg13CulPj"
   },
   "outputs": [],
   "source": [
    "# remove punctuations\n",
    "def remove_punctuations(text):\n",
    "    return text.translate(str.maketrans('','',exclude))"
   ]
  },
  {
   "cell_type": "code",
   "execution_count": null,
   "metadata": {
    "colab": {
     "base_uri": "https://localhost:8080/",
     "height": 112
    },
    "id": "NBC87RU6urDY",
    "outputId": "b1def3e7-48c4-4fcd-9bd9-fabde5ab1f47"
   },
   "outputs": [
    {
     "data": {
      "text/html": [
       "\n",
       "\n",
       "  <div id=\"df-be51cdbd-cfdf-49aa-9985-c1b527b294b3\">\n",
       "    <div class=\"colab-df-container\">\n",
       "      <div>\n",
       "<style scoped>\n",
       "    .dataframe tbody tr th:only-of-type {\n",
       "        vertical-align: middle;\n",
       "    }\n",
       "\n",
       "    .dataframe tbody tr th {\n",
       "        vertical-align: top;\n",
       "    }\n",
       "\n",
       "    .dataframe thead th {\n",
       "        text-align: right;\n",
       "    }\n",
       "</style>\n",
       "<table border=\"1\" class=\"dataframe\">\n",
       "  <thead>\n",
       "    <tr style=\"text-align: right;\">\n",
       "      <th></th>\n",
       "      <th>ProductName</th>\n",
       "      <th>Price</th>\n",
       "      <th>Rate</th>\n",
       "      <th>Review</th>\n",
       "      <th>Summary</th>\n",
       "      <th>polarity</th>\n",
       "      <th>product_sentiment</th>\n",
       "    </tr>\n",
       "  </thead>\n",
       "  <tbody>\n",
       "    <tr>\n",
       "      <th>0</th>\n",
       "      <td>Candes 12 L Room/Personal Air Cooler (White Bl...</td>\n",
       "      <td>3999.0</td>\n",
       "      <td>5.0</td>\n",
       "      <td>Super</td>\n",
       "      <td>great cooler excellent air flow price amazing ...</td>\n",
       "      <td>0.9576</td>\n",
       "      <td>1</td>\n",
       "    </tr>\n",
       "    <tr>\n",
       "      <th>1</th>\n",
       "      <td>Candes 12 L Room/Personal Air Cooler (White Bl...</td>\n",
       "      <td>3999.0</td>\n",
       "      <td>5.0</td>\n",
       "      <td>Awesome</td>\n",
       "      <td>best budget 2 fit cooler nice cooling</td>\n",
       "      <td>0.8591</td>\n",
       "      <td>1</td>\n",
       "    </tr>\n",
       "  </tbody>\n",
       "</table>\n",
       "</div>\n",
       "      <button class=\"colab-df-convert\" onclick=\"convertToInteractive('df-be51cdbd-cfdf-49aa-9985-c1b527b294b3')\"\n",
       "              title=\"Convert this dataframe to an interactive table.\"\n",
       "              style=\"display:none;\">\n",
       "\n",
       "  <svg xmlns=\"http://www.w3.org/2000/svg\" height=\"24px\"viewBox=\"0 0 24 24\"\n",
       "       width=\"24px\">\n",
       "    <path d=\"M0 0h24v24H0V0z\" fill=\"none\"/>\n",
       "    <path d=\"M18.56 5.44l.94 2.06.94-2.06 2.06-.94-2.06-.94-.94-2.06-.94 2.06-2.06.94zm-11 1L8.5 8.5l.94-2.06 2.06-.94-2.06-.94L8.5 2.5l-.94 2.06-2.06.94zm10 10l.94 2.06.94-2.06 2.06-.94-2.06-.94-.94-2.06-.94 2.06-2.06.94z\"/><path d=\"M17.41 7.96l-1.37-1.37c-.4-.4-.92-.59-1.43-.59-.52 0-1.04.2-1.43.59L10.3 9.45l-7.72 7.72c-.78.78-.78 2.05 0 2.83L4 21.41c.39.39.9.59 1.41.59.51 0 1.02-.2 1.41-.59l7.78-7.78 2.81-2.81c.8-.78.8-2.07 0-2.86zM5.41 20L4 18.59l7.72-7.72 1.47 1.35L5.41 20z\"/>\n",
       "  </svg>\n",
       "      </button>\n",
       "\n",
       "\n",
       "\n",
       "    <div id=\"df-317b425c-a957-4bd2-80c7-a7162174ea06\">\n",
       "      <button class=\"colab-df-quickchart\" onclick=\"quickchart('df-317b425c-a957-4bd2-80c7-a7162174ea06')\"\n",
       "              title=\"Suggest charts.\"\n",
       "              style=\"display:none;\">\n",
       "\n",
       "<svg xmlns=\"http://www.w3.org/2000/svg\" height=\"24px\"viewBox=\"0 0 24 24\"\n",
       "     width=\"24px\">\n",
       "    <g>\n",
       "        <path d=\"M19 3H5c-1.1 0-2 .9-2 2v14c0 1.1.9 2 2 2h14c1.1 0 2-.9 2-2V5c0-1.1-.9-2-2-2zM9 17H7v-7h2v7zm4 0h-2V7h2v10zm4 0h-2v-4h2v4z\"/>\n",
       "    </g>\n",
       "</svg>\n",
       "      </button>\n",
       "    </div>\n",
       "\n",
       "<style>\n",
       "  .colab-df-quickchart {\n",
       "    background-color: #E8F0FE;\n",
       "    border: none;\n",
       "    border-radius: 50%;\n",
       "    cursor: pointer;\n",
       "    display: none;\n",
       "    fill: #1967D2;\n",
       "    height: 32px;\n",
       "    padding: 0 0 0 0;\n",
       "    width: 32px;\n",
       "  }\n",
       "\n",
       "  .colab-df-quickchart:hover {\n",
       "    background-color: #E2EBFA;\n",
       "    box-shadow: 0px 1px 2px rgba(60, 64, 67, 0.3), 0px 1px 3px 1px rgba(60, 64, 67, 0.15);\n",
       "    fill: #174EA6;\n",
       "  }\n",
       "\n",
       "  [theme=dark] .colab-df-quickchart {\n",
       "    background-color: #3B4455;\n",
       "    fill: #D2E3FC;\n",
       "  }\n",
       "\n",
       "  [theme=dark] .colab-df-quickchart:hover {\n",
       "    background-color: #434B5C;\n",
       "    box-shadow: 0px 1px 3px 1px rgba(0, 0, 0, 0.15);\n",
       "    filter: drop-shadow(0px 1px 2px rgba(0, 0, 0, 0.3));\n",
       "    fill: #FFFFFF;\n",
       "  }\n",
       "</style>\n",
       "\n",
       "    <script>\n",
       "      async function quickchart(key) {\n",
       "        const containerElement = document.querySelector('#' + key);\n",
       "        const charts = await google.colab.kernel.invokeFunction(\n",
       "            'suggestCharts', [key], {});\n",
       "      }\n",
       "    </script>\n",
       "\n",
       "      <script>\n",
       "\n",
       "function displayQuickchartButton(domScope) {\n",
       "  let quickchartButtonEl =\n",
       "    domScope.querySelector('#df-317b425c-a957-4bd2-80c7-a7162174ea06 button.colab-df-quickchart');\n",
       "  quickchartButtonEl.style.display =\n",
       "    google.colab.kernel.accessAllowed ? 'block' : 'none';\n",
       "}\n",
       "\n",
       "        displayQuickchartButton(document);\n",
       "      </script>\n",
       "      <style>\n",
       "    .colab-df-container {\n",
       "      display:flex;\n",
       "      flex-wrap:wrap;\n",
       "      gap: 12px;\n",
       "    }\n",
       "\n",
       "    .colab-df-convert {\n",
       "      background-color: #E8F0FE;\n",
       "      border: none;\n",
       "      border-radius: 50%;\n",
       "      cursor: pointer;\n",
       "      display: none;\n",
       "      fill: #1967D2;\n",
       "      height: 32px;\n",
       "      padding: 0 0 0 0;\n",
       "      width: 32px;\n",
       "    }\n",
       "\n",
       "    .colab-df-convert:hover {\n",
       "      background-color: #E2EBFA;\n",
       "      box-shadow: 0px 1px 2px rgba(60, 64, 67, 0.3), 0px 1px 3px 1px rgba(60, 64, 67, 0.15);\n",
       "      fill: #174EA6;\n",
       "    }\n",
       "\n",
       "    [theme=dark] .colab-df-convert {\n",
       "      background-color: #3B4455;\n",
       "      fill: #D2E3FC;\n",
       "    }\n",
       "\n",
       "    [theme=dark] .colab-df-convert:hover {\n",
       "      background-color: #434B5C;\n",
       "      box-shadow: 0px 1px 3px 1px rgba(0, 0, 0, 0.15);\n",
       "      filter: drop-shadow(0px 1px 2px rgba(0, 0, 0, 0.3));\n",
       "      fill: #FFFFFF;\n",
       "    }\n",
       "  </style>\n",
       "\n",
       "      <script>\n",
       "        const buttonEl =\n",
       "          document.querySelector('#df-be51cdbd-cfdf-49aa-9985-c1b527b294b3 button.colab-df-convert');\n",
       "        buttonEl.style.display =\n",
       "          google.colab.kernel.accessAllowed ? 'block' : 'none';\n",
       "\n",
       "        async function convertToInteractive(key) {\n",
       "          const element = document.querySelector('#df-be51cdbd-cfdf-49aa-9985-c1b527b294b3');\n",
       "          const dataTable =\n",
       "            await google.colab.kernel.invokeFunction('convertToInteractive',\n",
       "                                                     [key], {});\n",
       "          if (!dataTable) return;\n",
       "\n",
       "          const docLinkHtml = 'Like what you see? Visit the ' +\n",
       "            '<a target=\"_blank\" href=https://colab.research.google.com/notebooks/data_table.ipynb>data table notebook</a>'\n",
       "            + ' to learn more about interactive tables.';\n",
       "          element.innerHTML = '';\n",
       "          dataTable['output_type'] = 'display_data';\n",
       "          await google.colab.output.renderOutput(dataTable, element);\n",
       "          const docLink = document.createElement('div');\n",
       "          docLink.innerHTML = docLinkHtml;\n",
       "          element.appendChild(docLink);\n",
       "        }\n",
       "      </script>\n",
       "    </div>\n",
       "  </div>\n"
      ],
      "text/plain": [
       "                                         ProductName   Price  Rate   Review  \\\n",
       "0  Candes 12 L Room/Personal Air Cooler (White Bl...  3999.0   5.0    Super   \n",
       "1  Candes 12 L Room/Personal Air Cooler (White Bl...  3999.0   5.0  Awesome   \n",
       "\n",
       "                                             Summary  polarity  \\\n",
       "0  great cooler excellent air flow price amazing ...    0.9576   \n",
       "1              best budget 2 fit cooler nice cooling    0.8591   \n",
       "\n",
       "  product_sentiment  \n",
       "0                 1  \n",
       "1                 1  "
      ]
     },
     "execution_count": 90,
     "metadata": {},
     "output_type": "execute_result"
    }
   ],
   "source": [
    "data['Summary']=data['Summary'].apply(remove_punctuations)\n",
    "data.head(2)"
   ]
  },
  {
   "cell_type": "code",
   "execution_count": null,
   "metadata": {
    "colab": {
     "base_uri": "https://localhost:8080/",
     "height": 112
    },
    "id": "kkE9w__zut-a",
    "outputId": "87578045-d86e-4a0f-abfc-a5627e581a94"
   },
   "outputs": [
    {
     "data": {
      "text/html": [
       "\n",
       "\n",
       "  <div id=\"df-cd0514c5-7b13-451e-9877-c02d7232e102\">\n",
       "    <div class=\"colab-df-container\">\n",
       "      <div>\n",
       "<style scoped>\n",
       "    .dataframe tbody tr th:only-of-type {\n",
       "        vertical-align: middle;\n",
       "    }\n",
       "\n",
       "    .dataframe tbody tr th {\n",
       "        vertical-align: top;\n",
       "    }\n",
       "\n",
       "    .dataframe thead th {\n",
       "        text-align: right;\n",
       "    }\n",
       "</style>\n",
       "<table border=\"1\" class=\"dataframe\">\n",
       "  <thead>\n",
       "    <tr style=\"text-align: right;\">\n",
       "      <th></th>\n",
       "      <th>ProductName</th>\n",
       "      <th>Price</th>\n",
       "      <th>Rate</th>\n",
       "      <th>Review</th>\n",
       "      <th>Summary</th>\n",
       "      <th>polarity</th>\n",
       "      <th>product_sentiment</th>\n",
       "    </tr>\n",
       "  </thead>\n",
       "  <tbody>\n",
       "    <tr>\n",
       "      <th>0</th>\n",
       "      <td>Candes 12 L Room/Personal Air Cooler (White Bl...</td>\n",
       "      <td>3999.0</td>\n",
       "      <td>5.0</td>\n",
       "      <td>Super</td>\n",
       "      <td>[great, cooler, excellent, air, flow, price, a...</td>\n",
       "      <td>0.9576</td>\n",
       "      <td>1</td>\n",
       "    </tr>\n",
       "    <tr>\n",
       "      <th>1</th>\n",
       "      <td>Candes 12 L Room/Personal Air Cooler (White Bl...</td>\n",
       "      <td>3999.0</td>\n",
       "      <td>5.0</td>\n",
       "      <td>Awesome</td>\n",
       "      <td>[best, budget, 2, fit, cooler, nice, cooling]</td>\n",
       "      <td>0.8591</td>\n",
       "      <td>1</td>\n",
       "    </tr>\n",
       "  </tbody>\n",
       "</table>\n",
       "</div>\n",
       "      <button class=\"colab-df-convert\" onclick=\"convertToInteractive('df-cd0514c5-7b13-451e-9877-c02d7232e102')\"\n",
       "              title=\"Convert this dataframe to an interactive table.\"\n",
       "              style=\"display:none;\">\n",
       "\n",
       "  <svg xmlns=\"http://www.w3.org/2000/svg\" height=\"24px\"viewBox=\"0 0 24 24\"\n",
       "       width=\"24px\">\n",
       "    <path d=\"M0 0h24v24H0V0z\" fill=\"none\"/>\n",
       "    <path d=\"M18.56 5.44l.94 2.06.94-2.06 2.06-.94-2.06-.94-.94-2.06-.94 2.06-2.06.94zm-11 1L8.5 8.5l.94-2.06 2.06-.94-2.06-.94L8.5 2.5l-.94 2.06-2.06.94zm10 10l.94 2.06.94-2.06 2.06-.94-2.06-.94-.94-2.06-.94 2.06-2.06.94z\"/><path d=\"M17.41 7.96l-1.37-1.37c-.4-.4-.92-.59-1.43-.59-.52 0-1.04.2-1.43.59L10.3 9.45l-7.72 7.72c-.78.78-.78 2.05 0 2.83L4 21.41c.39.39.9.59 1.41.59.51 0 1.02-.2 1.41-.59l7.78-7.78 2.81-2.81c.8-.78.8-2.07 0-2.86zM5.41 20L4 18.59l7.72-7.72 1.47 1.35L5.41 20z\"/>\n",
       "  </svg>\n",
       "      </button>\n",
       "\n",
       "\n",
       "\n",
       "    <div id=\"df-4cd149f9-6f4f-4177-b1f6-4646c1e6c2e5\">\n",
       "      <button class=\"colab-df-quickchart\" onclick=\"quickchart('df-4cd149f9-6f4f-4177-b1f6-4646c1e6c2e5')\"\n",
       "              title=\"Suggest charts.\"\n",
       "              style=\"display:none;\">\n",
       "\n",
       "<svg xmlns=\"http://www.w3.org/2000/svg\" height=\"24px\"viewBox=\"0 0 24 24\"\n",
       "     width=\"24px\">\n",
       "    <g>\n",
       "        <path d=\"M19 3H5c-1.1 0-2 .9-2 2v14c0 1.1.9 2 2 2h14c1.1 0 2-.9 2-2V5c0-1.1-.9-2-2-2zM9 17H7v-7h2v7zm4 0h-2V7h2v10zm4 0h-2v-4h2v4z\"/>\n",
       "    </g>\n",
       "</svg>\n",
       "      </button>\n",
       "    </div>\n",
       "\n",
       "<style>\n",
       "  .colab-df-quickchart {\n",
       "    background-color: #E8F0FE;\n",
       "    border: none;\n",
       "    border-radius: 50%;\n",
       "    cursor: pointer;\n",
       "    display: none;\n",
       "    fill: #1967D2;\n",
       "    height: 32px;\n",
       "    padding: 0 0 0 0;\n",
       "    width: 32px;\n",
       "  }\n",
       "\n",
       "  .colab-df-quickchart:hover {\n",
       "    background-color: #E2EBFA;\n",
       "    box-shadow: 0px 1px 2px rgba(60, 64, 67, 0.3), 0px 1px 3px 1px rgba(60, 64, 67, 0.15);\n",
       "    fill: #174EA6;\n",
       "  }\n",
       "\n",
       "  [theme=dark] .colab-df-quickchart {\n",
       "    background-color: #3B4455;\n",
       "    fill: #D2E3FC;\n",
       "  }\n",
       "\n",
       "  [theme=dark] .colab-df-quickchart:hover {\n",
       "    background-color: #434B5C;\n",
       "    box-shadow: 0px 1px 3px 1px rgba(0, 0, 0, 0.15);\n",
       "    filter: drop-shadow(0px 1px 2px rgba(0, 0, 0, 0.3));\n",
       "    fill: #FFFFFF;\n",
       "  }\n",
       "</style>\n",
       "\n",
       "    <script>\n",
       "      async function quickchart(key) {\n",
       "        const containerElement = document.querySelector('#' + key);\n",
       "        const charts = await google.colab.kernel.invokeFunction(\n",
       "            'suggestCharts', [key], {});\n",
       "      }\n",
       "    </script>\n",
       "\n",
       "      <script>\n",
       "\n",
       "function displayQuickchartButton(domScope) {\n",
       "  let quickchartButtonEl =\n",
       "    domScope.querySelector('#df-4cd149f9-6f4f-4177-b1f6-4646c1e6c2e5 button.colab-df-quickchart');\n",
       "  quickchartButtonEl.style.display =\n",
       "    google.colab.kernel.accessAllowed ? 'block' : 'none';\n",
       "}\n",
       "\n",
       "        displayQuickchartButton(document);\n",
       "      </script>\n",
       "      <style>\n",
       "    .colab-df-container {\n",
       "      display:flex;\n",
       "      flex-wrap:wrap;\n",
       "      gap: 12px;\n",
       "    }\n",
       "\n",
       "    .colab-df-convert {\n",
       "      background-color: #E8F0FE;\n",
       "      border: none;\n",
       "      border-radius: 50%;\n",
       "      cursor: pointer;\n",
       "      display: none;\n",
       "      fill: #1967D2;\n",
       "      height: 32px;\n",
       "      padding: 0 0 0 0;\n",
       "      width: 32px;\n",
       "    }\n",
       "\n",
       "    .colab-df-convert:hover {\n",
       "      background-color: #E2EBFA;\n",
       "      box-shadow: 0px 1px 2px rgba(60, 64, 67, 0.3), 0px 1px 3px 1px rgba(60, 64, 67, 0.15);\n",
       "      fill: #174EA6;\n",
       "    }\n",
       "\n",
       "    [theme=dark] .colab-df-convert {\n",
       "      background-color: #3B4455;\n",
       "      fill: #D2E3FC;\n",
       "    }\n",
       "\n",
       "    [theme=dark] .colab-df-convert:hover {\n",
       "      background-color: #434B5C;\n",
       "      box-shadow: 0px 1px 3px 1px rgba(0, 0, 0, 0.15);\n",
       "      filter: drop-shadow(0px 1px 2px rgba(0, 0, 0, 0.3));\n",
       "      fill: #FFFFFF;\n",
       "    }\n",
       "  </style>\n",
       "\n",
       "      <script>\n",
       "        const buttonEl =\n",
       "          document.querySelector('#df-cd0514c5-7b13-451e-9877-c02d7232e102 button.colab-df-convert');\n",
       "        buttonEl.style.display =\n",
       "          google.colab.kernel.accessAllowed ? 'block' : 'none';\n",
       "\n",
       "        async function convertToInteractive(key) {\n",
       "          const element = document.querySelector('#df-cd0514c5-7b13-451e-9877-c02d7232e102');\n",
       "          const dataTable =\n",
       "            await google.colab.kernel.invokeFunction('convertToInteractive',\n",
       "                                                     [key], {});\n",
       "          if (!dataTable) return;\n",
       "\n",
       "          const docLinkHtml = 'Like what you see? Visit the ' +\n",
       "            '<a target=\"_blank\" href=https://colab.research.google.com/notebooks/data_table.ipynb>data table notebook</a>'\n",
       "            + ' to learn more about interactive tables.';\n",
       "          element.innerHTML = '';\n",
       "          dataTable['output_type'] = 'display_data';\n",
       "          await google.colab.output.renderOutput(dataTable, element);\n",
       "          const docLink = document.createElement('div');\n",
       "          docLink.innerHTML = docLinkHtml;\n",
       "          element.appendChild(docLink);\n",
       "        }\n",
       "      </script>\n",
       "    </div>\n",
       "  </div>\n"
      ],
      "text/plain": [
       "                                         ProductName   Price  Rate   Review  \\\n",
       "0  Candes 12 L Room/Personal Air Cooler (White Bl...  3999.0   5.0    Super   \n",
       "1  Candes 12 L Room/Personal Air Cooler (White Bl...  3999.0   5.0  Awesome   \n",
       "\n",
       "                                             Summary  polarity  \\\n",
       "0  [great, cooler, excellent, air, flow, price, a...    0.9576   \n",
       "1      [best, budget, 2, fit, cooler, nice, cooling]    0.8591   \n",
       "\n",
       "  product_sentiment  \n",
       "0                 1  \n",
       "1                 1  "
      ]
     },
     "execution_count": 91,
     "metadata": {},
     "output_type": "execute_result"
    }
   ],
   "source": [
    "# tokenize the summary\n",
    "def tokenize_text(text):\n",
    "    return word_tokenize(text)\n",
    "\n",
    "data['Summary'] = data['Summary'].apply(tokenize_text)\n",
    "data.head(2)"
   ]
  },
  {
   "cell_type": "code",
   "execution_count": null,
   "metadata": {
    "colab": {
     "base_uri": "https://localhost:8080/"
    },
    "id": "dkbQnVZzu2_f",
    "outputId": "f43c6a4b-5043-4683-991a-280954c7244e"
   },
   "outputs": [
    {
     "data": {
      "text/plain": [
       "['best', 'budget', '2', 'fit', 'cooler', 'nice', 'cooling']"
      ]
     },
     "execution_count": 92,
     "metadata": {},
     "output_type": "execute_result"
    }
   ],
   "source": [
    "data['Summary'][1]"
   ]
  },
  {
   "cell_type": "code",
   "execution_count": null,
   "metadata": {
    "id": "1aDkmBUiu58B"
   },
   "outputs": [],
   "source": [
    "# lemmatization\n",
    "\n",
    "# Create Lemmatizer and Stemmer.\n",
    "word_lem = WordNetLemmatizer()\n",
    "\n",
    "# function\n",
    "def lem_words(text):\n",
    "    return [word_lem.lemmatize(word) for word in text]"
   ]
  },
  {
   "cell_type": "code",
   "execution_count": null,
   "metadata": {
    "id": "E69StpAC883U"
   },
   "outputs": [],
   "source": [
    "#nltk.download('omw-1.4')\n"
   ]
  },
  {
   "cell_type": "code",
   "execution_count": null,
   "metadata": {
    "colab": {
     "base_uri": "https://localhost:8080/"
    },
    "id": "IBC3J25Fu-Xx",
    "outputId": "785acd8b-7cfb-4e30-ebd3-d23d773be36a"
   },
   "outputs": [
    {
     "data": {
      "text/plain": [
       "0    [great, cooler, excellent, air, flow, price, a...\n",
       "1        [best, budget, 2, fit, cooler, nice, cooling]\n",
       "Name: Summary, dtype: object"
      ]
     },
     "execution_count": 95,
     "metadata": {},
     "output_type": "execute_result"
    }
   ],
   "source": [
    "data['Summary'] = data['Summary'].apply(lem_words)\n",
    "data['Summary'].head(2)"
   ]
  },
  {
   "cell_type": "code",
   "execution_count": null,
   "metadata": {
    "colab": {
     "base_uri": "https://localhost:8080/",
     "height": 206
    },
    "id": "ekBbjV3uvTAX",
    "outputId": "11fdd2cc-4bad-47b9-ebce-8b0700665990"
   },
   "outputs": [
    {
     "data": {
      "text/html": [
       "\n",
       "\n",
       "  <div id=\"df-f4f81f73-d200-4381-9a50-fa623e842f66\">\n",
       "    <div class=\"colab-df-container\">\n",
       "      <div>\n",
       "<style scoped>\n",
       "    .dataframe tbody tr th:only-of-type {\n",
       "        vertical-align: middle;\n",
       "    }\n",
       "\n",
       "    .dataframe tbody tr th {\n",
       "        vertical-align: top;\n",
       "    }\n",
       "\n",
       "    .dataframe thead th {\n",
       "        text-align: right;\n",
       "    }\n",
       "</style>\n",
       "<table border=\"1\" class=\"dataframe\">\n",
       "  <thead>\n",
       "    <tr style=\"text-align: right;\">\n",
       "      <th></th>\n",
       "      <th>Summary</th>\n",
       "      <th>product_sentiment</th>\n",
       "    </tr>\n",
       "  </thead>\n",
       "  <tbody>\n",
       "    <tr>\n",
       "      <th>0</th>\n",
       "      <td>[great, cooler, excellent, air, flow, price, a...</td>\n",
       "      <td>1</td>\n",
       "    </tr>\n",
       "    <tr>\n",
       "      <th>1</th>\n",
       "      <td>[best, budget, 2, fit, cooler, nice, cooling]</td>\n",
       "      <td>1</td>\n",
       "    </tr>\n",
       "    <tr>\n",
       "      <th>2</th>\n",
       "      <td>[quality, good, power, air, decent]</td>\n",
       "      <td>1</td>\n",
       "    </tr>\n",
       "    <tr>\n",
       "      <th>3</th>\n",
       "      <td>[bad, product, fan]</td>\n",
       "      <td>0</td>\n",
       "    </tr>\n",
       "    <tr>\n",
       "      <th>4</th>\n",
       "      <td>[ok, ok, product]</td>\n",
       "      <td>1</td>\n",
       "    </tr>\n",
       "  </tbody>\n",
       "</table>\n",
       "</div>\n",
       "      <button class=\"colab-df-convert\" onclick=\"convertToInteractive('df-f4f81f73-d200-4381-9a50-fa623e842f66')\"\n",
       "              title=\"Convert this dataframe to an interactive table.\"\n",
       "              style=\"display:none;\">\n",
       "\n",
       "  <svg xmlns=\"http://www.w3.org/2000/svg\" height=\"24px\"viewBox=\"0 0 24 24\"\n",
       "       width=\"24px\">\n",
       "    <path d=\"M0 0h24v24H0V0z\" fill=\"none\"/>\n",
       "    <path d=\"M18.56 5.44l.94 2.06.94-2.06 2.06-.94-2.06-.94-.94-2.06-.94 2.06-2.06.94zm-11 1L8.5 8.5l.94-2.06 2.06-.94-2.06-.94L8.5 2.5l-.94 2.06-2.06.94zm10 10l.94 2.06.94-2.06 2.06-.94-2.06-.94-.94-2.06-.94 2.06-2.06.94z\"/><path d=\"M17.41 7.96l-1.37-1.37c-.4-.4-.92-.59-1.43-.59-.52 0-1.04.2-1.43.59L10.3 9.45l-7.72 7.72c-.78.78-.78 2.05 0 2.83L4 21.41c.39.39.9.59 1.41.59.51 0 1.02-.2 1.41-.59l7.78-7.78 2.81-2.81c.8-.78.8-2.07 0-2.86zM5.41 20L4 18.59l7.72-7.72 1.47 1.35L5.41 20z\"/>\n",
       "  </svg>\n",
       "      </button>\n",
       "\n",
       "\n",
       "\n",
       "    <div id=\"df-d9426847-d6de-406b-82c6-95cee43fd897\">\n",
       "      <button class=\"colab-df-quickchart\" onclick=\"quickchart('df-d9426847-d6de-406b-82c6-95cee43fd897')\"\n",
       "              title=\"Suggest charts.\"\n",
       "              style=\"display:none;\">\n",
       "\n",
       "<svg xmlns=\"http://www.w3.org/2000/svg\" height=\"24px\"viewBox=\"0 0 24 24\"\n",
       "     width=\"24px\">\n",
       "    <g>\n",
       "        <path d=\"M19 3H5c-1.1 0-2 .9-2 2v14c0 1.1.9 2 2 2h14c1.1 0 2-.9 2-2V5c0-1.1-.9-2-2-2zM9 17H7v-7h2v7zm4 0h-2V7h2v10zm4 0h-2v-4h2v4z\"/>\n",
       "    </g>\n",
       "</svg>\n",
       "      </button>\n",
       "    </div>\n",
       "\n",
       "<style>\n",
       "  .colab-df-quickchart {\n",
       "    background-color: #E8F0FE;\n",
       "    border: none;\n",
       "    border-radius: 50%;\n",
       "    cursor: pointer;\n",
       "    display: none;\n",
       "    fill: #1967D2;\n",
       "    height: 32px;\n",
       "    padding: 0 0 0 0;\n",
       "    width: 32px;\n",
       "  }\n",
       "\n",
       "  .colab-df-quickchart:hover {\n",
       "    background-color: #E2EBFA;\n",
       "    box-shadow: 0px 1px 2px rgba(60, 64, 67, 0.3), 0px 1px 3px 1px rgba(60, 64, 67, 0.15);\n",
       "    fill: #174EA6;\n",
       "  }\n",
       "\n",
       "  [theme=dark] .colab-df-quickchart {\n",
       "    background-color: #3B4455;\n",
       "    fill: #D2E3FC;\n",
       "  }\n",
       "\n",
       "  [theme=dark] .colab-df-quickchart:hover {\n",
       "    background-color: #434B5C;\n",
       "    box-shadow: 0px 1px 3px 1px rgba(0, 0, 0, 0.15);\n",
       "    filter: drop-shadow(0px 1px 2px rgba(0, 0, 0, 0.3));\n",
       "    fill: #FFFFFF;\n",
       "  }\n",
       "</style>\n",
       "\n",
       "    <script>\n",
       "      async function quickchart(key) {\n",
       "        const containerElement = document.querySelector('#' + key);\n",
       "        const charts = await google.colab.kernel.invokeFunction(\n",
       "            'suggestCharts', [key], {});\n",
       "      }\n",
       "    </script>\n",
       "\n",
       "      <script>\n",
       "\n",
       "function displayQuickchartButton(domScope) {\n",
       "  let quickchartButtonEl =\n",
       "    domScope.querySelector('#df-d9426847-d6de-406b-82c6-95cee43fd897 button.colab-df-quickchart');\n",
       "  quickchartButtonEl.style.display =\n",
       "    google.colab.kernel.accessAllowed ? 'block' : 'none';\n",
       "}\n",
       "\n",
       "        displayQuickchartButton(document);\n",
       "      </script>\n",
       "      <style>\n",
       "    .colab-df-container {\n",
       "      display:flex;\n",
       "      flex-wrap:wrap;\n",
       "      gap: 12px;\n",
       "    }\n",
       "\n",
       "    .colab-df-convert {\n",
       "      background-color: #E8F0FE;\n",
       "      border: none;\n",
       "      border-radius: 50%;\n",
       "      cursor: pointer;\n",
       "      display: none;\n",
       "      fill: #1967D2;\n",
       "      height: 32px;\n",
       "      padding: 0 0 0 0;\n",
       "      width: 32px;\n",
       "    }\n",
       "\n",
       "    .colab-df-convert:hover {\n",
       "      background-color: #E2EBFA;\n",
       "      box-shadow: 0px 1px 2px rgba(60, 64, 67, 0.3), 0px 1px 3px 1px rgba(60, 64, 67, 0.15);\n",
       "      fill: #174EA6;\n",
       "    }\n",
       "\n",
       "    [theme=dark] .colab-df-convert {\n",
       "      background-color: #3B4455;\n",
       "      fill: #D2E3FC;\n",
       "    }\n",
       "\n",
       "    [theme=dark] .colab-df-convert:hover {\n",
       "      background-color: #434B5C;\n",
       "      box-shadow: 0px 1px 3px 1px rgba(0, 0, 0, 0.15);\n",
       "      filter: drop-shadow(0px 1px 2px rgba(0, 0, 0, 0.3));\n",
       "      fill: #FFFFFF;\n",
       "    }\n",
       "  </style>\n",
       "\n",
       "      <script>\n",
       "        const buttonEl =\n",
       "          document.querySelector('#df-f4f81f73-d200-4381-9a50-fa623e842f66 button.colab-df-convert');\n",
       "        buttonEl.style.display =\n",
       "          google.colab.kernel.accessAllowed ? 'block' : 'none';\n",
       "\n",
       "        async function convertToInteractive(key) {\n",
       "          const element = document.querySelector('#df-f4f81f73-d200-4381-9a50-fa623e842f66');\n",
       "          const dataTable =\n",
       "            await google.colab.kernel.invokeFunction('convertToInteractive',\n",
       "                                                     [key], {});\n",
       "          if (!dataTable) return;\n",
       "\n",
       "          const docLinkHtml = 'Like what you see? Visit the ' +\n",
       "            '<a target=\"_blank\" href=https://colab.research.google.com/notebooks/data_table.ipynb>data table notebook</a>'\n",
       "            + ' to learn more about interactive tables.';\n",
       "          element.innerHTML = '';\n",
       "          dataTable['output_type'] = 'display_data';\n",
       "          await google.colab.output.renderOutput(dataTable, element);\n",
       "          const docLink = document.createElement('div');\n",
       "          docLink.innerHTML = docLinkHtml;\n",
       "          element.appendChild(docLink);\n",
       "        }\n",
       "      </script>\n",
       "    </div>\n",
       "  </div>\n"
      ],
      "text/plain": [
       "                                             Summary product_sentiment\n",
       "0  [great, cooler, excellent, air, flow, price, a...                 1\n",
       "1      [best, budget, 2, fit, cooler, nice, cooling]                 1\n",
       "2                [quality, good, power, air, decent]                 1\n",
       "3                                [bad, product, fan]                 0\n",
       "4                                  [ok, ok, product]                 1"
      ]
     },
     "execution_count": 96,
     "metadata": {},
     "output_type": "execute_result"
    }
   ],
   "source": [
    "data.drop(columns =['ProductName', 'Price', 'Rate', 'Review', 'polarity'], inplace=True)\n",
    "data.head()"
   ]
  },
  {
   "cell_type": "markdown",
   "metadata": {
    "id": "7wmlkqh1JQuE"
   },
   "source": [
    "# Modelling"
   ]
  },
  {
   "cell_type": "code",
   "execution_count": null,
   "metadata": {
    "id": "8UUc2gTQJQuE"
   },
   "outputs": [],
   "source": [
    "from sklearn.model_selection import train_test_split\n",
    "from sklearn.preprocessing import StandardScaler\n",
    "from sklearn.linear_model import LogisticRegression\n",
    "from sklearn.metrics import classification_report\n",
    "from imblearn.pipeline import Pipeline\n",
    "from imblearn.over_sampling import SMOTE"
   ]
  },
  {
   "cell_type": "markdown",
   "metadata": {
    "id": "l1M07QCyJQuF"
   },
   "source": [
    "## Count Vectorization"
   ]
  },
  {
   "cell_type": "code",
   "execution_count": null,
   "metadata": {
    "id": "DXQfPerA883W"
   },
   "outputs": [],
   "source": [
    "# create instance 1 vectorizer\n",
    "from sklearn.feature_extraction.text import CountVectorizer, TfidfVectorizer\n",
    "bow = CountVectorizer()\n",
    "data['lemmatized_summary'] = data['Summary'].str.join(\" \")\n",
    "X = bow.fit_transform(data['lemmatized_summary'])\n",
    "y = data['product_sentiment']"
   ]
  },
  {
   "cell_type": "markdown",
   "metadata": {
    "id": "VOi_JaI0JQuF"
   },
   "source": [
    "## Train Test Split of the data\n",
    "#### Splitting the data into training, and test test.\n",
    "\n",
    "We shall then split the data and maintain a test size of 0.2, meaning 25% of our data will be used for testing and 75% will be used for training.\n",
    "\n",
    "The random state will be maintained at 42 to ensure that the random splitting of the data will be reproducible."
   ]
  },
  {
   "cell_type": "code",
   "execution_count": null,
   "metadata": {
    "id": "FUN_W7tMJQuF"
   },
   "outputs": [],
   "source": [
    "#split the data into train and test\n",
    "X_train, X_test, y_train, y_test = train_test_split(X, y, test_size=0.2, random_state=42)"
   ]
  },
  {
   "cell_type": "code",
   "execution_count": null,
   "metadata": {
    "colab": {
     "base_uri": "https://localhost:8080/"
    },
    "id": "JRpCskX5883X",
    "outputId": "23a3d1f3-f562-4e4b-8461-ea33e194a59d"
   },
   "outputs": [
    {
     "data": {
      "text/plain": [
       "1    124565\n",
       "0     20658\n",
       "2     17731\n",
       "Name: product_sentiment, dtype: int64"
      ]
     },
     "execution_count": 100,
     "metadata": {},
     "output_type": "execute_result"
    }
   ],
   "source": [
    "y.value_counts()"
   ]
  },
  {
   "cell_type": "code",
   "execution_count": null,
   "metadata": {
    "colab": {
     "base_uri": "https://localhost:8080/"
    },
    "id": "OZutKjGjJQuG",
    "outputId": "d2029fb3-5d99-45e8-9ddf-77c9498e9c2f"
   },
   "outputs": [
    {
     "name": "stdout",
     "output_type": "stream",
     "text": [
      "  (0, 30366)\t1\n",
      "  (0, 16736)\t2\n",
      "  (0, 11481)\t1\n",
      "  (0, 15455)\t1\n",
      "  (0, 33487)\t1\n",
      "  (0, 37034)\t1\n"
     ]
    }
   ],
   "source": [
    "# Verify the vectorized data\n",
    "print(X_train[0])\n"
   ]
  },
  {
   "cell_type": "code",
   "execution_count": null,
   "metadata": {
    "colab": {
     "base_uri": "https://localhost:8080/"
    },
    "id": "vvWYfdG2wZYw",
    "outputId": "7209b00f-0994-4200-a3d2-68db48547cd9"
   },
   "outputs": [
    {
     "data": {
      "text/plain": [
       "((130363, 41666), (130363,))"
      ]
     },
     "execution_count": 102,
     "metadata": {},
     "output_type": "execute_result"
    }
   ],
   "source": [
    "X_train.shape, y_train.shape"
   ]
  },
  {
   "cell_type": "markdown",
   "metadata": {
    "id": "5zCykqYjJQuI"
   },
   "source": [
    "# Building the Models"
   ]
  },
  {
   "cell_type": "markdown",
   "metadata": {
    "id": "WE-NKS0pJQuI"
   },
   "source": [
    "To keep track of the capabilities of these models, I will append them onto the list, models. I will be using the resampled models as they have taking into account the class imbalance present in the data"
   ]
  },
  {
   "cell_type": "markdown",
   "metadata": {
    "id": "jc0vaVpq7GwH"
   },
   "source": [
    "## Multi Classification"
   ]
  },
  {
   "cell_type": "markdown",
   "metadata": {
    "id": "eseszVKM7jgN"
   },
   "source": [
    "## Naives Bayes"
   ]
  },
  {
   "cell_type": "code",
   "execution_count": null,
   "metadata": {
    "id": "CbFU-zFX6DE8"
   },
   "outputs": [],
   "source": [
    "from sklearn.naive_bayes import MultinomialNB\n",
    "\n",
    "# instantiating Multinomial NB\n",
    "nbc = MultinomialNB()\n",
    "\n",
    "#Fitting\n",
    "nbc.fit(X_train, y_train)\n",
    "\n",
    "#Predicting\n",
    "y_pred_nbc = nbc.predict(X_test)\n"
   ]
  },
  {
   "cell_type": "markdown",
   "metadata": {
    "id": "Czvgrgp_8CDt"
   },
   "source": [
    "#### Evaluating the Naives Bayes"
   ]
  },
  {
   "cell_type": "code",
   "execution_count": null,
   "metadata": {
    "colab": {
     "base_uri": "https://localhost:8080/"
    },
    "id": "Ga-gLXMk8Bl8",
    "outputId": "8eca1d1c-f3a9-435b-e892-c5f897102c91"
   },
   "outputs": [
    {
     "name": "stdout",
     "output_type": "stream",
     "text": [
      "Accuracy on training set: 0.8858878669561149\n",
      "Accuracy on test set: 0.8688288177717775\n"
     ]
    }
   ],
   "source": [
    "# Calculate and print the accuracy on the training and test sets\n",
    "print('Accuracy on training set:', nbc.score(X_train, y_train))\n",
    "print('Accuracy on test set:', nbc.score(X_test, y_test))"
   ]
  },
  {
   "cell_type": "markdown",
   "metadata": {
    "id": "k4t8mj9v8aNb"
   },
   "source": [
    "#### Rationale why MultiNomial modeling was implemented.\n",
    "While simpler forms of modeling can do , they may not be able to work with multi-class datasets.\n",
    "##### Results.\n",
    ">* Training accuracy: 88.5%\n",
    "* Testing accuracy: 86.8%\n",
    "\n",
    "* The accuracy means that the model can predict with an accuracy of 86.8% whether a review is positive, neutral or negative.\n",
    "\n",
    "* The current model is fit for prediction since it is generalizing well to new data even with high accuracy.\n",
    "\n",
    "##### Limitations of binary model.\n",
    "* The current model is not fit for prediction since it is not generalizing well to new data even with high accuracy. The model is overfitting."
   ]
  },
  {
   "cell_type": "markdown",
   "metadata": {
    "id": "Je3tRnPE883a"
   },
   "source": [
    "## Handling class imbalance issues"
   ]
  },
  {
   "cell_type": "code",
   "execution_count": null,
   "metadata": {
    "id": "cZkViCSO883a"
   },
   "outputs": [],
   "source": [
    "# initializing SMOTE\n",
    "sm = SMOTE(random_state=42)\n",
    "X_res, y_res = sm.fit_resample(X, y)"
   ]
  },
  {
   "cell_type": "code",
   "execution_count": null,
   "metadata": {
    "id": "mD4avpVY883b"
   },
   "outputs": [],
   "source": [
    "X_train_res, X_test_res, y_train_res, y_test_res = train_test_split(X_res, y_res, test_size=0.2, random_state=42)"
   ]
  },
  {
   "cell_type": "markdown",
   "metadata": {
    "id": "9qleVPuX9Cjh"
   },
   "source": [
    "## Gradient Boosting\n",
    "\n"
   ]
  },
  {
   "cell_type": "code",
   "execution_count": null,
   "metadata": {
    "id": "wiRipEb38U1l"
   },
   "outputs": [],
   "source": [
    "import xgboost as xgb\n",
    "\n",
    "# Create an XGBoost classifier instance\n",
    "boost = xgb.XGBClassifier()\n",
    "\n",
    "# Fit the model on the training data\n",
    "boost.fit(X_train_res, y_train_res)\n",
    "\n",
    "# Make predictions on the testing data\n",
    "#predictions = xgb_classifier.predict(test_x)\n",
    "y_pred_xgb =  boost.predict(X_test_res)\n",
    "y_train_pred_xgb =  boost.predict(X_train_res)"
   ]
  },
  {
   "cell_type": "markdown",
   "metadata": {
    "id": "T5SNlDNe95oV"
   },
   "source": [
    "#### Evaluating the XGBoost"
   ]
  },
  {
   "cell_type": "code",
   "execution_count": null,
   "metadata": {
    "colab": {
     "base_uri": "https://localhost:8080/"
    },
    "id": "bWu3AMCx9-Zo",
    "outputId": "0c9f5067-3bce-422d-ee77-31ddc2eb9eb7"
   },
   "outputs": [
    {
     "name": "stdout",
     "output_type": "stream",
     "text": [
      "Accuracy on training set: 0.9075616478679137\n",
      "Accuracy on test set: 0.9049893629831814\n"
     ]
    }
   ],
   "source": [
    "# Calculate and print the accuracy on the training and test sets\n",
    "print('Accuracy on training set:', boost.score(X_train_res, y_train_res))\n",
    "print('Accuracy on test set:', boost.score(X_test_res, y_test_res))"
   ]
  },
  {
   "cell_type": "markdown",
   "metadata": {
    "id": "1_4S8p4x-t33"
   },
   "source": [
    "##### Rationale why ensemble modeling will be implemented.\n",
    "While simpler forms of data analysis, such as descriptive statistics or basic data visualization, can provide initial insights, they are not sufficient for complex problems or large datasets such as this one. Ensemble models leverages advanced algorithms to uncover hidden patterns, make accurate predictions.\n",
    "##### Results.\n",
    ">* Accuracy on the training set: 90.7%\n",
    "* Accuracy on the testing set: 90.4%\n",
    "\n",
    "The accuracy means that the model can predict with an accuracy of 90.4% whether a review falls within the specified labels.\n",
    "\n",
    "#### Limitations.\n",
    "The current model is not fit for prediction since it is overfitting.\n",
    "This we see from the difference between train and test accuracy."
   ]
  },
  {
   "cell_type": "markdown",
   "metadata": {
    "id": "62dMKY0P883d"
   },
   "source": [
    "## Random forest\n"
   ]
  },
  {
   "cell_type": "code",
   "execution_count": null,
   "metadata": {
    "colab": {
     "base_uri": "https://localhost:8080/"
    },
    "id": "gHrkVJjt883d",
    "outputId": "2f4813c1-3fb3-4017-8b5f-63866b62ba78"
   },
   "outputs": [
    {
     "name": "stdout",
     "output_type": "stream",
     "text": [
      "Accuracy on training set: 0.9281432719196135\n",
      "Accuracy on test set: 0.8994233265095867\n"
     ]
    }
   ],
   "source": [
    "forest = RandomForestClassifier()\n",
    "\n",
    "forest.fit(X_train_res,y_train_res)\n",
    "y_pred_forest = forest.predict(X_test_res)\n",
    "\n",
    "print('Accuracy on training set:',forest.score(X_train_res,y_train_res))\n",
    "print('Accuracy on test set:',forest.score(X_test_res,y_test_res))"
   ]
  },
  {
   "cell_type": "markdown",
   "metadata": {},
   "source": [
    "#### Evaluating Random Forest\n",
    "\n",
    "##### Rationale why Random Forest modeling will be implemented.\n",
    "The Random Forest model was implemented as:\n",
    "\n",
    "1. It can handle high-dimensional datasets with a large number of features while avoiding overfitting. By aggregating predictions from multiple decision trees, Random Forest effectively reduces the risk of overfitting and provides better generalization to unseen data.\n",
    "2. It is capable of handling both numerical and categorical features without requiring extensive data preprocessing or feature scaling. This allows for straightforward integration of different types of variables into the model. \n",
    "3. The training process of Random Forest can be easily parallelized, enabling faster training times and scalability to large datasets.\n",
    "\n",
    "The accuracy means that the model can predict with an accuracy of 89% whether a sentiment falls within the specified labels."
   ]
  },
  {
   "cell_type": "markdown",
   "metadata": {
    "id": "ia0zm5Bl883i"
   },
   "source": [
    "## Final note on modelling\n",
    "In summary, each of the three modeling approaches, Naive Bayes, Gradient Boosting, and Random Forest, offers unique strengths and considerations.\n",
    "\n",
    "Naive Bayes is a simple and efficient algorithm that performs well in text classification tasks. It assumes independence between features and can handle large feature spaces. It is particularly useful when dealing with textual data and can provide quick and interpretable predictions.\n",
    "\n",
    "Gradient Boosting is a powerful ensemble learning technique that excels in handling complex datasets and capturing nonlinear relationships. It sequentially builds an ensemble of weak learners, resulting in strong predictive performance. It requires careful hyperparameter tuning but can handle mixed data types and imbalanced classes effectively.\n",
    "\n",
    "Random Forest, another ensemble learning method, is versatile and robust. It handles high-dimensional datasets, avoids overfitting, and provides feature importance measures for interpretability. It is suitable for various data types and can be parallelized for faster training.\n",
    "\n",
    "The gradient boost model was chosen based on its high accuracy on both the training set 90.7% and the test set 90.5%. \n",
    "\n",
    "The model's ability to accurately predict the sentiment of the products on both the data it was trained on and new, unseen data suggests that it has learned the underlying patterns and relationships in the dataset effectively. This indicates that the model has good generalization capability and can provide reliable predictions for sentiment classification tasks. Therefore, the high accuracy achieved by the gradient boost model makes it a strong choice for sentiment analysis in this scenario."
   ]
  },
  {
   "cell_type": "markdown",
   "metadata": {},
   "source": [
    "## Challenges\n",
    "\n",
    "- Class imbalance. The dataset had a significantly high positive sentiments compared to negative and neutral.\n",
    "- Long runtime when training our models especially random forest which took nearly an hour,"
   ]
  },
  {
   "cell_type": "markdown",
   "metadata": {},
   "source": [
    "### Recommendations\n",
    "\n",
    "Flipkart can benefit from the following recommendations based on the sentiment analysis findings:\n",
    "\n",
    "1. **Improve Product Curation:** Utilize the insights from sentiment analysis to identify the key features and aspects of products that receive positive sentiment. This information can be used to curate and prioritize products with similar attributes, ensuring that they align with customer preferences and generate positive experiences and satisfaction.\n",
    "\n",
    "2. **Enhance Customer Reviews and Ratings:** Encourage customers to provide detailed and honest reviews by implementing incentives or rewards. It is essential to ensure the authenticity of reviews by implementing mechanisms to verify them, thereby maintaining trust and credibility. Provide guidance to customers on leaving informative and constructive feedback, helping potential buyers make well-informed decisions.\n",
    "\n",
    "3. **Offer Personalized Recommendations:** Leverage the sentiment analysis results to develop personalized product recommendations for individual customers. Utilize the data on customer sentiment and preferences to offer tailored suggestions that align with their tastes. This approach enhances the likelihood of customer satisfaction and encourages repeat purchases.\n",
    "\n",
    "4. **Address Negative Sentiments:** Pay close attention to products receiving negative sentiment and take immediate actions to address the underlying issues. Proactively engage with customers, resolve their concerns, and consider offering suitable remedies such as refunds, replacements, or compensation. By doing so, Flipkart showcases a commitment to customer satisfaction and ensures the quality of its products and services.\n",
    "\n",
    "5. **Promote Positive Sentiment:** Capitalize on positive sentiment generated by satisfied customers to enhance Flipkart's brand reputation and attract new customers. Encourage customers to share their positive experiences on social media or provide testimonials. Highlight these positive sentiments prominently on the website and through marketing campaigns to build trust, credibility, and create a positive brand image.\n",
    "\n",
    "6. **Monitor Competitor Sentiment:** Extend the sentiment analysis to include competitor products and analyze customer sentiment towards them. Gain insights into the strengths and weaknesses of competitors and identify opportunities for Flipkart to differentiate its offerings based on customer preferences and sentiment trends. This analysis helps Flipkart stay competitive in the market.\n",
    "\n",
    "By implementing these recommendations, Flipkart can enhance its product offerings, improve customer satisfaction, strengthen its brand reputation, and maintain a competitive edge in the e-commerce industry."
   ]
  },
  {
   "cell_type": "markdown",
   "metadata": {},
   "source": [
    "### Conclusions\n",
    "\n",
    "1. **Sentiment Analysis Accuracy:** The Gradient Boosting model achieved a high accuracy on both the training and test sets, indicating its effectiveness in predicting sentiment. This suggests that the model can reliably classify product sentiments based on the provided textual data.\n",
    "\n",
    "2. **Feature Importance:** By utilizing the Gradient Boosting model, you can identify the key features or words that contribute significantly to the sentiment classification. This insight can provide valuable information about the factors that influence customers' sentiment towards products and guide decision-making for product development, marketing, and customer engagement strategies.\n",
    "\n",
    "3. **Price Influence on Sentiment:** From the analysis, it was observed that the price of a product had little influence on its sentiment. This implies that other factors, such as product quality, features, or customer experience, may have a more substantial impact on how customers perceive and evaluate products.\n",
    "\n",
    "4. **Negative Sentiment Impact:** The analysis indicated that negative sentiment significantly affected the ratings given to products, irrespective of their price range. This highlights the importance of addressing and mitigating negative sentiment promptly to avoid negative impacts on customer ratings, overall customer satisfaction, and brand reputation.\n",
    "\n",
    "5. **Text Preprocessing and Feature Engineering:** The use of text preprocessing techniques, such as lowercasing, removing punctuation, and tokenization, along with feature engineering, provided a refined representation of the textual data for sentiment analysis. These steps were crucial in capturing the essence of the product reviews and enabling effective sentiment classification.\n",
    "\n",
    "6. **Potential for Improvement:** While the project has provided insights into sentiment analysis, there are always opportunities for further enhancement. This may involve exploring additional models, ensembling techniques, or refining the feature engineering process to extract more meaningful insights from the textual data."
   ]
  },
  {
   "cell_type": "markdown",
   "metadata": {
    "id": "dIBMaK6F883i"
   },
   "source": [
    "## Deployment"
   ]
  },
  {
   "cell_type": "code",
   "execution_count": null,
   "metadata": {
    "colab": {
     "base_uri": "https://localhost:8080/",
     "height": 35
    },
    "id": "lOTAeftT883j",
    "outputId": "871358db-a58a-4100-ac31-8e28ff61eeb1"
   },
   "outputs": [
    {
     "data": {
      "application/vnd.google.colaboratory.intrinsic+json": {
       "type": "string"
      },
      "text/plain": [
       "\"with open('vectorizer.pkl', 'wb') as file:\\n    pickle.dump(bow, file)\\n\\nwith open('xgboost.pkl', 'wb') as file:\\n    pickle.dump(boost, file)\""
      ]
     },
     "execution_count": 110,
     "metadata": {},
     "output_type": "execute_result"
    }
   ],
   "source": [
    "# Saving files to pickle file\n",
    "\n",
    "'''with open('vectorizer.pkl', 'wb') as file:\n",
    "    pickle.dump(bow, file)\n",
    "\n",
    "with open('xgboost.pkl', 'wb') as file:\n",
    "    pickle.dump(boost, file)'''"
   ]
  },
  {
   "cell_type": "code",
   "execution_count": null,
   "metadata": {
    "id": "xGQMlTJ9883j"
   },
   "outputs": [],
   "source": [
    "https://flipkart-capstone-project-zudlnc7o57n.streamlit.app/"
   ]
  }
 ],
 "metadata": {
  "accelerator": "TPU",
  "colab": {
   "gpuType": "T4",
   "provenance": []
  },
  "kernelspec": {
   "display_name": "Python 3",
   "language": "python",
   "name": "python3"
  },
  "language_info": {
   "codemirror_mode": {
    "name": "ipython",
    "version": 3
   },
   "file_extension": ".py",
   "mimetype": "text/x-python",
   "name": "python",
   "nbconvert_exporter": "python",
   "pygments_lexer": "ipython3",
   "version": "3.8.5"
  }
 },
 "nbformat": 4,
 "nbformat_minor": 1
}
