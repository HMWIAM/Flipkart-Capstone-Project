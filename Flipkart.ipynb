{
 "cells": [
  {
   "cell_type": "markdown",
   "metadata": {},
   "source": [
    "# FLIPKART CUSTOMER SENTIMENT PROJECT\n",
    "\n",
    "**Presented by:**(Pauline Ndungu, Samuel Mbugua Igecha, Leonard Rotich, Samwel Muiru, Maureen Anduuru, Henry Wamunyu)"
   ]
  },
  {
   "cell_type": "markdown",
   "metadata": {},
   "source": [
    "# Business Understanding / Overview \n",
    "\n",
    "Flipkart are an indian e-commerce company and like many others in the e-commerce industry its important to understand customer sentiments towards the products sold on their sites. "
   ]
  },
  {
   "cell_type": "markdown",
   "metadata": {},
   "source": [
    "## Problem Statement\n",
    "In the Online market, it is crucial for businesses to understand the sentiments expressed by customers towards their products.\n",
    "\n",
    "By uncovering public sentiment , Flipkart can make data-driven decisions, that are relevant to the customers needs, this will then improve their market positioning and enhance customer satisfaction.\n",
    "\n",
    "The aim of this project will be to generate a sentiment analysis model using Natural Language Processing procedures to precisely classify the sentiment (positive or negative) of product reviews on Flipkart.com based on the review text and summary."
   ]
  },
  {
   "cell_type": "markdown",
   "metadata": {},
   "source": [
    "# Objectives\n",
    "\n",
    "1. Gain valuable insights into customer sentiment, public opinion, and brand perception, empowering flipkart to make informed decisions, enhance customer satisfaction, and improve overall reputation of the company.\n",
    "2. Develop an NLP Application that will allow users to input new product reviews and deploy the sentiment analysis model in a production environment to classify the sentiment of reviews in real time.\n",
    "3. Analyze customer sentiments and feedback regarding pricing on Flipkart. The objective could be to understand how customers perceive the value for money of different products, identify price-sensitive segments, and optimize pricing strategies to maximize sales and profitability."
   ]
  },
  {
   "cell_type": "markdown",
   "metadata": {},
   "source": [
    "# DataUnderstanding\n",
    "\n",
    "The Dataset contains 189,874 rows and 5 columns. The column names include;\n",
    "\n",
    "**ProductName:** Name of products\n",
    "\n",
    "**Price:** the prices of the products(In Indian Rupees)\n",
    "\n",
    "**Rate:** the customers' ratings out of 5\n",
    "\n",
    "**Review:** short customer review of the products\n",
    "\n",
    "**Summary:** more detailed review of the products"
   ]
  },
  {
   "cell_type": "markdown",
   "metadata": {},
   "source": [
    "# Data Preparation"
   ]
  },
  {
   "cell_type": "code",
   "execution_count": 71,
   "metadata": {},
   "outputs": [
    {
     "name": "stderr",
     "output_type": "stream",
     "text": [
      "[nltk_data] Downloading package punkt to\n",
      "[nltk_data]     C:\\Users\\Sam\\AppData\\Roaming\\nltk_data...\n",
      "[nltk_data]   Package punkt is already up-to-date!\n",
      "[nltk_data] Downloading package stopwords to\n",
      "[nltk_data]     C:\\Users\\Sam\\AppData\\Roaming\\nltk_data...\n",
      "[nltk_data]   Package stopwords is already up-to-date!\n",
      "[nltk_data] Downloading package wordnet to\n",
      "[nltk_data]     C:\\Users\\Sam\\AppData\\Roaming\\nltk_data...\n",
      "[nltk_data]   Package wordnet is already up-to-date!\n",
      "[nltk_data] Downloading package vader_lexicon to\n",
      "[nltk_data]     C:\\Users\\Sam\\AppData\\Roaming\\nltk_data...\n",
      "[nltk_data]   Package vader_lexicon is already up-to-date!\n"
     ]
    }
   ],
   "source": [
    "import pandas as pd\n",
    "import matplotlib.pyplot as plt\n",
    "%matplotlib inline\n",
    "import seaborn as sns\n",
    "import re\n",
    "import string\n",
    "\n",
    "# import important libraries\n",
    "import nltk\n",
    "nltk.download('punkt')\n",
    "nltk.download('stopwords')\n",
    "nltk.download('wordnet')\n",
    "nltk.download('vader_lexicon')\n",
    "from nltk.corpus import stopwords\n",
    "from nltk.tokenize import word_tokenize, sent_tokenize\n",
    "from nltk.stem import PorterStemmer, WordNetLemmatizer\n",
    "from wordcloud import WordCloud, STOPWORDS\n",
    "from nltk.sentiment import SentimentIntensityAnalyzer\n",
    "from nltk.probability import FreqDist"
   ]
  },
  {
   "cell_type": "code",
   "execution_count": 72,
   "metadata": {},
   "outputs": [
    {
     "data": {
      "text/html": [
       "<div>\n",
       "<style scoped>\n",
       "    .dataframe tbody tr th:only-of-type {\n",
       "        vertical-align: middle;\n",
       "    }\n",
       "\n",
       "    .dataframe tbody tr th {\n",
       "        vertical-align: top;\n",
       "    }\n",
       "\n",
       "    .dataframe thead th {\n",
       "        text-align: right;\n",
       "    }\n",
       "</style>\n",
       "<table border=\"1\" class=\"dataframe\">\n",
       "  <thead>\n",
       "    <tr style=\"text-align: right;\">\n",
       "      <th></th>\n",
       "      <th>ProductName</th>\n",
       "      <th>Price</th>\n",
       "      <th>Rate</th>\n",
       "      <th>Review</th>\n",
       "      <th>Summary</th>\n",
       "    </tr>\n",
       "  </thead>\n",
       "  <tbody>\n",
       "    <tr>\n",
       "      <th>0</th>\n",
       "      <td>Candes 12 L Room/Personal Air Cooler?ÿ?ÿ(White...</td>\n",
       "      <td>??3,999</td>\n",
       "      <td>5</td>\n",
       "      <td>Super!</td>\n",
       "      <td>Great cooler.. excellent air flow and for this...</td>\n",
       "    </tr>\n",
       "    <tr>\n",
       "      <th>1</th>\n",
       "      <td>Candes 12 L Room/Personal Air Cooler?ÿ?ÿ(White...</td>\n",
       "      <td>??3,999</td>\n",
       "      <td>5</td>\n",
       "      <td>Awesome</td>\n",
       "      <td>Best budget 2 fit cooler. Nice cooling</td>\n",
       "    </tr>\n",
       "    <tr>\n",
       "      <th>2</th>\n",
       "      <td>Candes 12 L Room/Personal Air Cooler?ÿ?ÿ(White...</td>\n",
       "      <td>??3,999</td>\n",
       "      <td>3</td>\n",
       "      <td>Fair</td>\n",
       "      <td>The quality is good but the power of air is de...</td>\n",
       "    </tr>\n",
       "    <tr>\n",
       "      <th>3</th>\n",
       "      <td>Candes 12 L Room/Personal Air Cooler?ÿ?ÿ(White...</td>\n",
       "      <td>??3,999</td>\n",
       "      <td>1</td>\n",
       "      <td>Useless product</td>\n",
       "      <td>Very bad product it's a only a fan</td>\n",
       "    </tr>\n",
       "    <tr>\n",
       "      <th>4</th>\n",
       "      <td>Candes 12 L Room/Personal Air Cooler?ÿ?ÿ(White...</td>\n",
       "      <td>??3,999</td>\n",
       "      <td>3</td>\n",
       "      <td>Fair</td>\n",
       "      <td>Ok ok product</td>\n",
       "    </tr>\n",
       "  </tbody>\n",
       "</table>\n",
       "</div>"
      ],
      "text/plain": [
       "                                         ProductName     Price Rate  \\\n",
       "0  Candes 12 L Room/Personal Air Cooler?ÿ?ÿ(White...  ??3,999    5   \n",
       "1  Candes 12 L Room/Personal Air Cooler?ÿ?ÿ(White...  ??3,999    5   \n",
       "2  Candes 12 L Room/Personal Air Cooler?ÿ?ÿ(White...  ??3,999    3   \n",
       "3  Candes 12 L Room/Personal Air Cooler?ÿ?ÿ(White...  ??3,999    1   \n",
       "4  Candes 12 L Room/Personal Air Cooler?ÿ?ÿ(White...  ??3,999    3   \n",
       "\n",
       "            Review                                            Summary  \n",
       "0           Super!  Great cooler.. excellent air flow and for this...  \n",
       "1          Awesome             Best budget 2 fit cooler. Nice cooling  \n",
       "2             Fair  The quality is good but the power of air is de...  \n",
       "3  Useless product                 Very bad product it's a only a fan  \n",
       "4             Fair                                      Ok ok product  "
      ]
     },
     "execution_count": 72,
     "metadata": {},
     "output_type": "execute_result"
    }
   ],
   "source": [
    "df = pd.read_csv('Data/flipkart_product.csv', encoding='latin-1')\n",
    "df.head()"
   ]
  },
  {
   "cell_type": "markdown",
   "metadata": {},
   "source": [
    "### 1.1 Data Exploration\n",
    "\n",
    "Before any cleaning and analysis takes place, we will first explore our dataset."
   ]
  },
  {
   "cell_type": "code",
   "execution_count": 73,
   "metadata": {},
   "outputs": [
    {
     "name": "stdout",
     "output_type": "stream",
     "text": [
      "Number of rows: 189874\n",
      "Number of columns: 5\n",
      "--------------------------------\n",
      "\n",
      "<class 'pandas.core.frame.DataFrame'>\n",
      "RangeIndex: 189874 entries, 0 to 189873\n",
      "Data columns (total 5 columns):\n",
      " #   Column       Non-Null Count   Dtype \n",
      "---  ------       --------------   ----- \n",
      " 0   ProductName  189874 non-null  object\n",
      " 1   Price        189873 non-null  object\n",
      " 2   Rate         189873 non-null  object\n",
      " 3   Review       189870 non-null  object\n",
      " 4   Summary      189860 non-null  object\n",
      "dtypes: object(5)\n",
      "memory usage: 7.2+ MB\n",
      "info:\n",
      " None\n",
      "--------------------------------\n",
      "\n",
      "Missing values:\n",
      " ProductName     0\n",
      "Price           1\n",
      "Rate            1\n",
      "Review          4\n",
      "Summary        14\n",
      "dtype: int64\n",
      "------------------------------------------\n",
      "\n",
      "Percentage of Missing values:\n",
      " ProductName    0.000000\n",
      "Price          0.000527\n",
      "Rate           0.000527\n",
      "Review         0.002107\n",
      "Summary        0.007373\n",
      "dtype: float64\n",
      "------------------------------------------\n",
      "\n",
      "No. of duplicated values: 24861\n",
      "------------------------------------------\n",
      "\n",
      "duplicated values:\n",
      "                                               ProductName     Price Rate  \\\n",
      "150     MAHARAJA WHITELINE 65 L Desert Air Cooler?ÿ?ÿ(...  ??7,999    4   \n",
      "154     MAHARAJA WHITELINE 65 L Desert Air Cooler?ÿ?ÿ(...  ??7,999    5   \n",
      "248     MAHARAJA WHITELINE 65 L Desert Air Cooler?ÿ?ÿ(...  ??7,999    5   \n",
      "288     MAHARAJA WHITELINE 65 L Desert Air Cooler?ÿ?ÿ(...  ??7,999    4   \n",
      "338     MAHARAJA WHITELINE 65 L Desert Air Cooler?ÿ?ÿ(...  ??7,999    5   \n",
      "...                                                   ...       ...  ...   \n",
      "189864  NIVEA Soft Light Moisturizer for Face, Hand & ...    â¹142    4   \n",
      "189868  NIVEA Soft Light Moisturizer for Face, Hand & ...    â¹142    5   \n",
      "189870  NIVEA Soft Light Moisturizer for Face, Hand & ...    â¹142    5   \n",
      "189871  NIVEA Soft Light Moisturizer for Face, Hand & ...    â¹142    5   \n",
      "189872  NIVEA Soft Light Moisturizer for Face, Hand & ...    â¹142    4   \n",
      "\n",
      "                       Review          Summary  \n",
      "150               Really Nice     Good product  \n",
      "154        Highly recommended          Awesome  \n",
      "248     Mind-blowing purchase  Awesome product  \n",
      "288                 Wonderful             good  \n",
      "338                 Fabulous!             Good  \n",
      "...                       ...              ...  \n",
      "189864            Pretty good        Good ð  \n",
      "189868               Terrific             Good  \n",
      "189870               Terrific             Good  \n",
      "189871              Just wow!            Super  \n",
      "189872        Worth the money             Good  \n",
      "\n",
      "[24861 rows x 5 columns]\n",
      "------------------------------------------\n",
      "\n",
      "Ratings Value counts:\n",
      " 5                                                              108694\n",
      "4                                                               39653\n",
      "1                                                               19607\n",
      "3                                                               15681\n",
      "2                                                                6234\n",
      "Nova Plus Amaze NI 10 1100 W Dry Iron?ÿ?ÿ(Grey & Turquoise)         1\n",
      "Pigeon Favourite Electric Kettle?ÿ?ÿ(1.5 L, Silver, Black)          1\n",
      "s                                                                   1\n",
      "Bajaj DX 2 L/W Dry Iron                                             1\n",
      "Name: Rate, dtype: int64\n",
      "------------------------------------------\n",
      "\n"
     ]
    }
   ],
   "source": [
    "# Function to explore our dataset\n",
    "def explore_data(df):\n",
    " '''\n",
    " Print some basic statistics and information about the DataFrame\n",
    " '''\n",
    " print(f\"Number of rows: {df.shape[0]}\")\n",
    " print(f\"Number of columns: {df.shape[1]}\")\n",
    " print(\"--------------------------------\\n\")\n",
    " print(\"info:\\n\", df.info())\n",
    " print(\"--------------------------------\\n\")\n",
    "\n",
    "\n",
    "explore_data(df)\n",
    "\n",
    "\n",
    "# function to identify missing and duplicate values\n",
    "def clean_data(df):\n",
    "    print(\"Missing values:\\n\", df.isnull().sum())\n",
    "    print(\"------------------------------------------\\n\")\n",
    "    print(\"Percentage of Missing values:\\n\", df.isnull().sum()/len(df)*100)\n",
    "    print(\"------------------------------------------\\n\")\n",
    "    print(\"No. of duplicated values:\", df.duplicated().sum())\n",
    "    print(\"------------------------------------------\\n\")\n",
    "    print(\"duplicated values:\\n\",  df[df.duplicated()])\n",
    "    print(\"------------------------------------------\\n\")\n",
    "    print(\"Ratings Value counts:\\n\",  df.Rate.value_counts())\n",
    "    print(\"------------------------------------------\\n\")\n",
    "    \n",
    "\n",
    "clean_data(df)\n"
   ]
  },
  {
   "cell_type": "markdown",
   "metadata": {},
   "source": [
    "### 1.2 Data Cleaning\n",
    "\n",
    "Our dataset is messy, so we shall clean it by dropping Null values and duplicates. We shall also deal with the inconsistencies like removing symbols, punctuations, strings from our numeric data(Price, Rate columns) then will change the datatypes of Price and Rate columns from string to numeric"
   ]
  },
  {
   "cell_type": "code",
   "execution_count": 74,
   "metadata": {},
   "outputs": [],
   "source": [
    "# Drop the string values in the 'Rate' column\n",
    "df = df[pd.to_numeric(df['Rate'], errors='coerce').notnull()]"
   ]
  },
  {
   "cell_type": "code",
   "execution_count": 75,
   "metadata": {},
   "outputs": [
    {
     "data": {
      "text/plain": [
       "5    108694\n",
       "4     39653\n",
       "1     19607\n",
       "3     15681\n",
       "2      6234\n",
       "Name: Rate, dtype: int64"
      ]
     },
     "execution_count": 75,
     "metadata": {},
     "output_type": "execute_result"
    }
   ],
   "source": [
    "df.Rate.value_counts()"
   ]
  },
  {
   "cell_type": "markdown",
   "metadata": {},
   "source": [
    "- Rows containing string values from the Rate column have been confirmed to be dropped."
   ]
  },
  {
   "cell_type": "code",
   "execution_count": 76,
   "metadata": {},
   "outputs": [],
   "source": [
    "# drop null values\n",
    "df = df.dropna()"
   ]
  },
  {
   "cell_type": "code",
   "execution_count": 77,
   "metadata": {},
   "outputs": [
    {
     "data": {
      "text/plain": [
       "ProductName    0\n",
       "Price          0\n",
       "Rate           0\n",
       "Review         0\n",
       "Summary        0\n",
       "dtype: int64"
      ]
     },
     "execution_count": 77,
     "metadata": {},
     "output_type": "execute_result"
    }
   ],
   "source": [
    "df.isnull().sum()"
   ]
  },
  {
   "cell_type": "code",
   "execution_count": 78,
   "metadata": {},
   "outputs": [],
   "source": [
    "# drop duplicates\n",
    "df = df.drop_duplicates()"
   ]
  },
  {
   "cell_type": "code",
   "execution_count": 79,
   "metadata": {},
   "outputs": [
    {
     "data": {
      "text/plain": [
       "0"
      ]
     },
     "execution_count": 79,
     "metadata": {},
     "output_type": "execute_result"
    }
   ],
   "source": [
    "df.duplicated().sum()"
   ]
  },
  {
   "cell_type": "markdown",
   "metadata": {},
   "source": [
    "- duplicates have been confirmed to be dropped"
   ]
  },
  {
   "cell_type": "code",
   "execution_count": 80,
   "metadata": {},
   "outputs": [
    {
     "data": {
      "text/plain": [
       "(165000, 5)"
      ]
     },
     "execution_count": 80,
     "metadata": {},
     "output_type": "execute_result"
    }
   ],
   "source": [
    "df.shape"
   ]
  },
  {
   "cell_type": "markdown",
   "metadata": {},
   "source": [
    "- There's now 165,000 rows remaining in our dataset after dropping a few rows from the dataset"
   ]
  },
  {
   "cell_type": "markdown",
   "metadata": {},
   "source": [
    "Now will remove punctuations, symbols, characters from price, productname columns using the regular expression(\"re\") module. Then change datatypes of our columns as well"
   ]
  },
  {
   "cell_type": "code",
   "execution_count": 81,
   "metadata": {},
   "outputs": [],
   "source": [
    "# function to remove punctuation\n",
    "def rmv_punc(text):\n",
    "    punct = string.punctuation\n",
    "    return text.translate(str.maketrans('', '', punct))"
   ]
  },
  {
   "cell_type": "code",
   "execution_count": 82,
   "metadata": {},
   "outputs": [],
   "source": [
    "# remove punctuations from price column\n",
    "df['Price'] = df['Price'].apply(lambda x: rmv_punc(x))\n",
    "df['Review'] = df['Review'].apply(lambda x: rmv_punc(x))"
   ]
  },
  {
   "cell_type": "code",
   "execution_count": 83,
   "metadata": {},
   "outputs": [],
   "source": [
    "# remove characters\n",
    "def rmv_char(text):\n",
    "    text = re.sub('[^a-zA-Z0-9(/)]',' ', text)\n",
    "    text = re.sub('\\s+',' ', text) #remove whitespace\n",
    "    return text\n",
    "# remove characters from product & Price columns\n",
    "df['Price'] = df['Price'].apply(lambda x: rmv_char(x).lower())\n",
    "df['ProductName']=df['ProductName'].apply(lambda x:rmv_char(x))"
   ]
  },
  {
   "cell_type": "code",
   "execution_count": 84,
   "metadata": {},
   "outputs": [],
   "source": [
    "# Convert datatypes\n",
    "df['Price'] = df['Price'].astype(float)\n",
    "df['Rate'] = df['Rate'].astype(float)"
   ]
  },
  {
   "cell_type": "code",
   "execution_count": 85,
   "metadata": {},
   "outputs": [
    {
     "name": "stdout",
     "output_type": "stream",
     "text": [
      "<class 'pandas.core.frame.DataFrame'>\n",
      "Int64Index: 165000 entries, 0 to 189869\n",
      "Data columns (total 5 columns):\n",
      " #   Column       Non-Null Count   Dtype  \n",
      "---  ------       --------------   -----  \n",
      " 0   ProductName  165000 non-null  object \n",
      " 1   Price        165000 non-null  float64\n",
      " 2   Rate         165000 non-null  float64\n",
      " 3   Review       165000 non-null  object \n",
      " 4   Summary      165000 non-null  object \n",
      "dtypes: float64(2), object(3)\n",
      "memory usage: 7.6+ MB\n"
     ]
    }
   ],
   "source": [
    "df.info()"
   ]
  },
  {
   "cell_type": "markdown",
   "metadata": {},
   "source": [
    "- We can confirm above that the datatypes of the Price and Rate column have changed to numeric."
   ]
  },
  {
   "cell_type": "code",
   "execution_count": 86,
   "metadata": {},
   "outputs": [
    {
     "data": {
      "text/html": [
       "<div>\n",
       "<style scoped>\n",
       "    .dataframe tbody tr th:only-of-type {\n",
       "        vertical-align: middle;\n",
       "    }\n",
       "\n",
       "    .dataframe tbody tr th {\n",
       "        vertical-align: top;\n",
       "    }\n",
       "\n",
       "    .dataframe thead th {\n",
       "        text-align: right;\n",
       "    }\n",
       "</style>\n",
       "<table border=\"1\" class=\"dataframe\">\n",
       "  <thead>\n",
       "    <tr style=\"text-align: right;\">\n",
       "      <th></th>\n",
       "      <th>ProductName</th>\n",
       "      <th>Price</th>\n",
       "      <th>Rate</th>\n",
       "      <th>Review</th>\n",
       "      <th>Summary</th>\n",
       "    </tr>\n",
       "  </thead>\n",
       "  <tbody>\n",
       "    <tr>\n",
       "      <th>0</th>\n",
       "      <td>Candes 12 L Room/Personal Air Cooler (White Bl...</td>\n",
       "      <td>3999.0</td>\n",
       "      <td>5.0</td>\n",
       "      <td>Super</td>\n",
       "      <td>Great cooler.. excellent air flow and for this...</td>\n",
       "    </tr>\n",
       "    <tr>\n",
       "      <th>1</th>\n",
       "      <td>Candes 12 L Room/Personal Air Cooler (White Bl...</td>\n",
       "      <td>3999.0</td>\n",
       "      <td>5.0</td>\n",
       "      <td>Awesome</td>\n",
       "      <td>Best budget 2 fit cooler. Nice cooling</td>\n",
       "    </tr>\n",
       "    <tr>\n",
       "      <th>2</th>\n",
       "      <td>Candes 12 L Room/Personal Air Cooler (White Bl...</td>\n",
       "      <td>3999.0</td>\n",
       "      <td>3.0</td>\n",
       "      <td>Fair</td>\n",
       "      <td>The quality is good but the power of air is de...</td>\n",
       "    </tr>\n",
       "    <tr>\n",
       "      <th>3</th>\n",
       "      <td>Candes 12 L Room/Personal Air Cooler (White Bl...</td>\n",
       "      <td>3999.0</td>\n",
       "      <td>1.0</td>\n",
       "      <td>Useless product</td>\n",
       "      <td>Very bad product it's a only a fan</td>\n",
       "    </tr>\n",
       "    <tr>\n",
       "      <th>4</th>\n",
       "      <td>Candes 12 L Room/Personal Air Cooler (White Bl...</td>\n",
       "      <td>3999.0</td>\n",
       "      <td>3.0</td>\n",
       "      <td>Fair</td>\n",
       "      <td>Ok ok product</td>\n",
       "    </tr>\n",
       "  </tbody>\n",
       "</table>\n",
       "</div>"
      ],
      "text/plain": [
       "                                         ProductName   Price  Rate  \\\n",
       "0  Candes 12 L Room/Personal Air Cooler (White Bl...  3999.0   5.0   \n",
       "1  Candes 12 L Room/Personal Air Cooler (White Bl...  3999.0   5.0   \n",
       "2  Candes 12 L Room/Personal Air Cooler (White Bl...  3999.0   3.0   \n",
       "3  Candes 12 L Room/Personal Air Cooler (White Bl...  3999.0   1.0   \n",
       "4  Candes 12 L Room/Personal Air Cooler (White Bl...  3999.0   3.0   \n",
       "\n",
       "            Review                                            Summary  \n",
       "0            Super  Great cooler.. excellent air flow and for this...  \n",
       "1          Awesome             Best budget 2 fit cooler. Nice cooling  \n",
       "2             Fair  The quality is good but the power of air is de...  \n",
       "3  Useless product                 Very bad product it's a only a fan  \n",
       "4             Fair                                      Ok ok product  "
      ]
     },
     "execution_count": 86,
     "metadata": {},
     "output_type": "execute_result"
    }
   ],
   "source": [
    "# Display cleaned dataset\n",
    "df.head()"
   ]
  },
  {
   "cell_type": "markdown",
   "metadata": {},
   "source": [
    "### 1.3 Text Preprocessing\n",
    "\n",
    "We will do some text preprocessing to clean our text data(Summary). To do this we'll change it to lowercase, remove stop words, punctuation, We'll also tokenize & lemmatize our texts."
   ]
  },
  {
   "cell_type": "code",
   "execution_count": 87,
   "metadata": {},
   "outputs": [],
   "source": [
    "stop_words = set(stopwords.words('english'))\n",
    "\n",
    "def remove_stopwords(Summary):\n",
    "    # Use list comprehension for efficient list creation\n",
    "    new_Summary = [word for word in Summary.split() if word not in stop_words]\n",
    "    return \" \".join(new_Summary)\n",
    "\n",
    "# Apply the function to the 'Summary' column\n",
    "df['Summary'] = df['Summary'].apply(remove_stopwords)"
   ]
  },
  {
   "cell_type": "code",
   "execution_count": 88,
   "metadata": {},
   "outputs": [
    {
     "data": {
      "text/html": [
       "<div>\n",
       "<style scoped>\n",
       "    .dataframe tbody tr th:only-of-type {\n",
       "        vertical-align: middle;\n",
       "    }\n",
       "\n",
       "    .dataframe tbody tr th {\n",
       "        vertical-align: top;\n",
       "    }\n",
       "\n",
       "    .dataframe thead th {\n",
       "        text-align: right;\n",
       "    }\n",
       "</style>\n",
       "<table border=\"1\" class=\"dataframe\">\n",
       "  <thead>\n",
       "    <tr style=\"text-align: right;\">\n",
       "      <th></th>\n",
       "      <th>ProductName</th>\n",
       "      <th>Price</th>\n",
       "      <th>Rate</th>\n",
       "      <th>Review</th>\n",
       "      <th>Summary</th>\n",
       "    </tr>\n",
       "  </thead>\n",
       "  <tbody>\n",
       "    <tr>\n",
       "      <th>0</th>\n",
       "      <td>Candes 12 L Room/Personal Air Cooler (White Bl...</td>\n",
       "      <td>3999.0</td>\n",
       "      <td>5.0</td>\n",
       "      <td>Super</td>\n",
       "      <td>[Great, cooler, .., excellent, air, flow, pric...</td>\n",
       "    </tr>\n",
       "    <tr>\n",
       "      <th>1</th>\n",
       "      <td>Candes 12 L Room/Personal Air Cooler (White Bl...</td>\n",
       "      <td>3999.0</td>\n",
       "      <td>5.0</td>\n",
       "      <td>Awesome</td>\n",
       "      <td>[Best, budget, 2, fit, cooler, ., Nice, cooling]</td>\n",
       "    </tr>\n",
       "    <tr>\n",
       "      <th>2</th>\n",
       "      <td>Candes 12 L Room/Personal Air Cooler (White Bl...</td>\n",
       "      <td>3999.0</td>\n",
       "      <td>3.0</td>\n",
       "      <td>Fair</td>\n",
       "      <td>[The, quality, good, power, air, decent]</td>\n",
       "    </tr>\n",
       "    <tr>\n",
       "      <th>3</th>\n",
       "      <td>Candes 12 L Room/Personal Air Cooler (White Bl...</td>\n",
       "      <td>3999.0</td>\n",
       "      <td>1.0</td>\n",
       "      <td>Useless product</td>\n",
       "      <td>[Very, bad, product, fan]</td>\n",
       "    </tr>\n",
       "    <tr>\n",
       "      <th>4</th>\n",
       "      <td>Candes 12 L Room/Personal Air Cooler (White Bl...</td>\n",
       "      <td>3999.0</td>\n",
       "      <td>3.0</td>\n",
       "      <td>Fair</td>\n",
       "      <td>[Ok, ok, product]</td>\n",
       "    </tr>\n",
       "  </tbody>\n",
       "</table>\n",
       "</div>"
      ],
      "text/plain": [
       "                                         ProductName   Price  Rate  \\\n",
       "0  Candes 12 L Room/Personal Air Cooler (White Bl...  3999.0   5.0   \n",
       "1  Candes 12 L Room/Personal Air Cooler (White Bl...  3999.0   5.0   \n",
       "2  Candes 12 L Room/Personal Air Cooler (White Bl...  3999.0   3.0   \n",
       "3  Candes 12 L Room/Personal Air Cooler (White Bl...  3999.0   1.0   \n",
       "4  Candes 12 L Room/Personal Air Cooler (White Bl...  3999.0   3.0   \n",
       "\n",
       "            Review                                            Summary  \n",
       "0            Super  [Great, cooler, .., excellent, air, flow, pric...  \n",
       "1          Awesome   [Best, budget, 2, fit, cooler, ., Nice, cooling]  \n",
       "2             Fair           [The, quality, good, power, air, decent]  \n",
       "3  Useless product                          [Very, bad, product, fan]  \n",
       "4             Fair                                  [Ok, ok, product]  "
      ]
     },
     "execution_count": 88,
     "metadata": {},
     "output_type": "execute_result"
    }
   ],
   "source": [
    "# tokenize the Summary text\n",
    "df['Summary'] = df.apply(lambda row: nltk.word_tokenize(row['Summary']), axis=1)\n",
    "df.head()"
   ]
  },
  {
   "cell_type": "code",
   "execution_count": 89,
   "metadata": {},
   "outputs": [
    {
     "data": {
      "text/html": [
       "<div>\n",
       "<style scoped>\n",
       "    .dataframe tbody tr th:only-of-type {\n",
       "        vertical-align: middle;\n",
       "    }\n",
       "\n",
       "    .dataframe tbody tr th {\n",
       "        vertical-align: top;\n",
       "    }\n",
       "\n",
       "    .dataframe thead th {\n",
       "        text-align: right;\n",
       "    }\n",
       "</style>\n",
       "<table border=\"1\" class=\"dataframe\">\n",
       "  <thead>\n",
       "    <tr style=\"text-align: right;\">\n",
       "      <th></th>\n",
       "      <th>ProductName</th>\n",
       "      <th>Price</th>\n",
       "      <th>Rate</th>\n",
       "      <th>Review</th>\n",
       "      <th>Summary</th>\n",
       "    </tr>\n",
       "  </thead>\n",
       "  <tbody>\n",
       "    <tr>\n",
       "      <th>0</th>\n",
       "      <td>Candes 12 L Room/Personal Air Cooler (White Bl...</td>\n",
       "      <td>3999.0</td>\n",
       "      <td>5.0</td>\n",
       "      <td>Super</td>\n",
       "      <td>great cooler excellent air flow price it s ama...</td>\n",
       "    </tr>\n",
       "    <tr>\n",
       "      <th>1</th>\n",
       "      <td>Candes 12 L Room/Personal Air Cooler (White Bl...</td>\n",
       "      <td>3999.0</td>\n",
       "      <td>5.0</td>\n",
       "      <td>Awesome</td>\n",
       "      <td>best budget 2 fit cooler nice cool</td>\n",
       "    </tr>\n",
       "    <tr>\n",
       "      <th>2</th>\n",
       "      <td>Candes 12 L Room/Personal Air Cooler (White Bl...</td>\n",
       "      <td>3999.0</td>\n",
       "      <td>3.0</td>\n",
       "      <td>Fair</td>\n",
       "      <td>the quality good power air decent</td>\n",
       "    </tr>\n",
       "    <tr>\n",
       "      <th>3</th>\n",
       "      <td>Candes 12 L Room/Personal Air Cooler (White Bl...</td>\n",
       "      <td>3999.0</td>\n",
       "      <td>1.0</td>\n",
       "      <td>Useless product</td>\n",
       "      <td>very bad product fan</td>\n",
       "    </tr>\n",
       "    <tr>\n",
       "      <th>4</th>\n",
       "      <td>Candes 12 L Room/Personal Air Cooler (White Bl...</td>\n",
       "      <td>3999.0</td>\n",
       "      <td>3.0</td>\n",
       "      <td>Fair</td>\n",
       "      <td>ok ok product</td>\n",
       "    </tr>\n",
       "  </tbody>\n",
       "</table>\n",
       "</div>"
      ],
      "text/plain": [
       "                                         ProductName   Price  Rate  \\\n",
       "0  Candes 12 L Room/Personal Air Cooler (White Bl...  3999.0   5.0   \n",
       "1  Candes 12 L Room/Personal Air Cooler (White Bl...  3999.0   5.0   \n",
       "2  Candes 12 L Room/Personal Air Cooler (White Bl...  3999.0   3.0   \n",
       "3  Candes 12 L Room/Personal Air Cooler (White Bl...  3999.0   1.0   \n",
       "4  Candes 12 L Room/Personal Air Cooler (White Bl...  3999.0   3.0   \n",
       "\n",
       "            Review                                            Summary  \n",
       "0            Super  great cooler excellent air flow price it s ama...  \n",
       "1          Awesome                 best budget 2 fit cooler nice cool  \n",
       "2             Fair                  the quality good power air decent  \n",
       "3  Useless product                               very bad product fan  \n",
       "4             Fair                                      ok ok product  "
      ]
     },
     "execution_count": 89,
     "metadata": {},
     "output_type": "execute_result"
    }
   ],
   "source": [
    "lemmatizer = WordNetLemmatizer()\n",
    "\n",
    "def to_lowercase(words):\n",
    "    \"\"\"Convert all characters to lowercase from a list of tokenized words\"\"\"\n",
    "    new_words = []\n",
    "    for word in words:\n",
    "        new_word = word.lower()\n",
    "        new_words.append(new_word)\n",
    "    return new_words\n",
    "\n",
    "def remove_punctuation(words):\n",
    "    \"\"\"Remove punctuation from a list of tokenized words\"\"\"\n",
    "    new_words = []\n",
    "    for word in words:\n",
    "        new_word = re.sub(r'[^\\w\\s]', '', word)\n",
    "        if new_word != '':\n",
    "            new_words.append(new_word)\n",
    "    return new_words\n",
    "\n",
    "def lemmatize_list(words):\n",
    "    \"\"\"Lemmatize a list of words using WordNet lemmatizer\"\"\"\n",
    "    new_words = []\n",
    "    for word in words:\n",
    "        new_words.append(lemmatizer.lemmatize(word, pos='v'))\n",
    "    return new_words\n",
    "\n",
    "def normalize(words):\n",
    "    \"\"\"Normalize a list of words by applying lowercase conversion, punctuation removal, and lemmatization\"\"\"\n",
    "    words = to_lowercase(words)\n",
    "    words = remove_punctuation(words)\n",
    "    words = lemmatize_list(words)\n",
    "    return ' '.join(words)\n",
    "\n",
    "# Apply normalization to the 'Summary' column of the DataFrame\n",
    "df['Summary'] = df.apply(lambda row: normalize(row['Summary']), axis=1)\n",
    "\n",
    "# Display the updated DataFrame\n",
    "df.head()"
   ]
  },
  {
   "cell_type": "markdown",
   "metadata": {},
   "source": [
    "# Exploratory Data Analysis\n",
    "\n",
    "We will conduct an EDA of the sentiments and ratings by creating visualizations. Then also preprocess the text data."
   ]
  },
  {
   "cell_type": "code",
   "execution_count": 90,
   "metadata": {},
   "outputs": [
    {
     "data": {
      "image/png": "[encoded data removed]",
      "text/plain": [
       "<Figure size 720x360 with 1 Axes>"
      ]
     },
     "metadata": {
      "needs_background": "light"
     },
     "output_type": "display_data"
    }
   ],
   "source": [
    "# Check number of reviews by stars\n",
    "ax = df['Rate'].value_counts().sort_index() \\\n",
    "     .plot(kind='bar', title ='Count Of Reviews By Stars',\n",
    "                  figsize=(10,5))\n",
    "\n",
    "ax.set_xlabel('Review Stars')\n",
    "plt.show()"
   ]
  },
  {
   "cell_type": "markdown",
   "metadata": {},
   "source": [
    "- From the bar plot above it's indicated that there was far more 5 star reviews of products in our dataset indicating higher positive sentiments"
   ]
  },
  {
   "cell_type": "markdown",
   "metadata": {},
   "source": [
    "For further analysis we will do some feature engineering to extract the polarity scores from the reviews with the sentiments. A polarity score of 0 indicates neutral sentiment where as above 0 indicates positive sentiment and below 0 indicates negative sentiment.\n",
    "\n",
    "Once we do this then we'll know for sure that the dataset we are exploring contains reviews with high positive sentiments. Star ratings are not a reliable metric when examining customer sentiments."
   ]
  },
  {
   "cell_type": "code",
   "execution_count": 91,
   "metadata": {},
   "outputs": [
    {
     "data": {
      "text/html": [
       "<div>\n",
       "<style scoped>\n",
       "    .dataframe tbody tr th:only-of-type {\n",
       "        vertical-align: middle;\n",
       "    }\n",
       "\n",
       "    .dataframe tbody tr th {\n",
       "        vertical-align: top;\n",
       "    }\n",
       "\n",
       "    .dataframe thead th {\n",
       "        text-align: right;\n",
       "    }\n",
       "</style>\n",
       "<table border=\"1\" class=\"dataframe\">\n",
       "  <thead>\n",
       "    <tr style=\"text-align: right;\">\n",
       "      <th></th>\n",
       "      <th>ProductName</th>\n",
       "      <th>Price</th>\n",
       "      <th>Rate</th>\n",
       "      <th>Review</th>\n",
       "      <th>Summary</th>\n",
       "      <th>sentiment</th>\n",
       "      <th>product_sentiment</th>\n",
       "    </tr>\n",
       "  </thead>\n",
       "  <tbody>\n",
       "    <tr>\n",
       "      <th>0</th>\n",
       "      <td>Candes 12 L Room/Personal Air Cooler (White Bl...</td>\n",
       "      <td>3999.0</td>\n",
       "      <td>5.0</td>\n",
       "      <td>Super</td>\n",
       "      <td>great cooler excellent air flow price it s ama...</td>\n",
       "      <td>0.5994</td>\n",
       "      <td>Positive</td>\n",
       "    </tr>\n",
       "    <tr>\n",
       "      <th>1</th>\n",
       "      <td>Candes 12 L Room/Personal Air Cooler (White Bl...</td>\n",
       "      <td>3999.0</td>\n",
       "      <td>5.0</td>\n",
       "      <td>Awesome</td>\n",
       "      <td>best budget 2 fit cooler nice cool</td>\n",
       "      <td>0.6249</td>\n",
       "      <td>Positive</td>\n",
       "    </tr>\n",
       "    <tr>\n",
       "      <th>2</th>\n",
       "      <td>Candes 12 L Room/Personal Air Cooler (White Bl...</td>\n",
       "      <td>3999.0</td>\n",
       "      <td>3.0</td>\n",
       "      <td>Fair</td>\n",
       "      <td>the quality good power air decent</td>\n",
       "      <td>0.3182</td>\n",
       "      <td>Positive</td>\n",
       "    </tr>\n",
       "    <tr>\n",
       "      <th>3</th>\n",
       "      <td>Candes 12 L Room/Personal Air Cooler (White Bl...</td>\n",
       "      <td>3999.0</td>\n",
       "      <td>1.0</td>\n",
       "      <td>Useless product</td>\n",
       "      <td>very bad product fan</td>\n",
       "      <td>-0.4215</td>\n",
       "      <td>Negative</td>\n",
       "    </tr>\n",
       "    <tr>\n",
       "      <th>4</th>\n",
       "      <td>Candes 12 L Room/Personal Air Cooler (White Bl...</td>\n",
       "      <td>3999.0</td>\n",
       "      <td>3.0</td>\n",
       "      <td>Fair</td>\n",
       "      <td>ok ok product</td>\n",
       "      <td>0.3182</td>\n",
       "      <td>Positive</td>\n",
       "    </tr>\n",
       "    <tr>\n",
       "      <th>...</th>\n",
       "      <td>...</td>\n",
       "      <td>...</td>\n",
       "      <td>...</td>\n",
       "      <td>...</td>\n",
       "      <td>...</td>\n",
       "      <td>...</td>\n",
       "      <td>...</td>\n",
       "    </tr>\n",
       "    <tr>\n",
       "      <th>189862</th>\n",
       "      <td>NIVEA Soft Light Moisturizer for Face Hand Bod...</td>\n",
       "      <td>142.0</td>\n",
       "      <td>4.0</td>\n",
       "      <td>Pretty good</td>\n",
       "      <td>best winter</td>\n",
       "      <td>0.7269</td>\n",
       "      <td>Positive</td>\n",
       "    </tr>\n",
       "    <tr>\n",
       "      <th>189865</th>\n",
       "      <td>NIVEA Soft Light Moisturizer for Face Hand Bod...</td>\n",
       "      <td>142.0</td>\n",
       "      <td>5.0</td>\n",
       "      <td>Worth every penny</td>\n",
       "      <td>very nice cream</td>\n",
       "      <td>0.2263</td>\n",
       "      <td>Positive</td>\n",
       "    </tr>\n",
       "    <tr>\n",
       "      <th>189866</th>\n",
       "      <td>NIVEA Soft Light Moisturizer for Face Hand Bod...</td>\n",
       "      <td>142.0</td>\n",
       "      <td>5.0</td>\n",
       "      <td>Great product</td>\n",
       "      <td>it s nice product thank much flipcart speedy s...</td>\n",
       "      <td>0.6249</td>\n",
       "      <td>Positive</td>\n",
       "    </tr>\n",
       "    <tr>\n",
       "      <th>189867</th>\n",
       "      <td>NIVEA Soft Light Moisturizer for Face Hand Bod...</td>\n",
       "      <td>142.0</td>\n",
       "      <td>5.0</td>\n",
       "      <td>Best in the market</td>\n",
       "      <td>thank âï</td>\n",
       "      <td>0.6369</td>\n",
       "      <td>Positive</td>\n",
       "    </tr>\n",
       "    <tr>\n",
       "      <th>189869</th>\n",
       "      <td>NIVEA Soft Light Moisturizer for Face Hand Bod...</td>\n",
       "      <td>142.0</td>\n",
       "      <td>5.0</td>\n",
       "      <td>Terrific</td>\n",
       "      <td>thank</td>\n",
       "      <td>0.4767</td>\n",
       "      <td>Positive</td>\n",
       "    </tr>\n",
       "  </tbody>\n",
       "</table>\n",
       "<p>165000 rows × 7 columns</p>\n",
       "</div>"
      ],
      "text/plain": [
       "                                              ProductName   Price  Rate  \\\n",
       "0       Candes 12 L Room/Personal Air Cooler (White Bl...  3999.0   5.0   \n",
       "1       Candes 12 L Room/Personal Air Cooler (White Bl...  3999.0   5.0   \n",
       "2       Candes 12 L Room/Personal Air Cooler (White Bl...  3999.0   3.0   \n",
       "3       Candes 12 L Room/Personal Air Cooler (White Bl...  3999.0   1.0   \n",
       "4       Candes 12 L Room/Personal Air Cooler (White Bl...  3999.0   3.0   \n",
       "...                                                   ...     ...   ...   \n",
       "189862  NIVEA Soft Light Moisturizer for Face Hand Bod...   142.0   4.0   \n",
       "189865  NIVEA Soft Light Moisturizer for Face Hand Bod...   142.0   5.0   \n",
       "189866  NIVEA Soft Light Moisturizer for Face Hand Bod...   142.0   5.0   \n",
       "189867  NIVEA Soft Light Moisturizer for Face Hand Bod...   142.0   5.0   \n",
       "189869  NIVEA Soft Light Moisturizer for Face Hand Bod...   142.0   5.0   \n",
       "\n",
       "                    Review                                            Summary  \\\n",
       "0                    Super  great cooler excellent air flow price it s ama...   \n",
       "1                  Awesome                 best budget 2 fit cooler nice cool   \n",
       "2                     Fair                  the quality good power air decent   \n",
       "3          Useless product                               very bad product fan   \n",
       "4                     Fair                                      ok ok product   \n",
       "...                    ...                                                ...   \n",
       "189862         Pretty good                                        best winter   \n",
       "189865   Worth every penny                                    very nice cream   \n",
       "189866       Great product  it s nice product thank much flipcart speedy s...   \n",
       "189867  Best in the market                                           thank âï   \n",
       "189869            Terrific                                              thank   \n",
       "\n",
       "        sentiment product_sentiment  \n",
       "0          0.5994          Positive  \n",
       "1          0.6249          Positive  \n",
       "2          0.3182          Positive  \n",
       "3         -0.4215          Negative  \n",
       "4          0.3182          Positive  \n",
       "...           ...               ...  \n",
       "189862     0.7269          Positive  \n",
       "189865     0.2263          Positive  \n",
       "189866     0.6249          Positive  \n",
       "189867     0.6369          Positive  \n",
       "189869     0.4767          Positive  \n",
       "\n",
       "[165000 rows x 7 columns]"
      ]
     },
     "execution_count": 91,
     "metadata": {},
     "output_type": "execute_result"
    }
   ],
   "source": [
    "# Initialize the sentiment analyzer\n",
    "sia = SentimentIntensityAnalyzer()\n",
    "\n",
    "# Extract polarity scores from the Review column\n",
    "df['sentiment'] = df['Review'].apply(lambda x: sia.polarity_scores(x)['compound'])\n",
    "\n",
    "# Classify sentiments as positive, negative, or neutral\n",
    "df['product_sentiment'] = pd.cut(df['sentiment'], bins=[-1, -0.1, 0.1, 1], labels=['Negative', 'Neutral', 'Positive'])\n",
    "\n",
    "# Check the updated DataFrame\n",
    "df"
   ]
  },
  {
   "cell_type": "code",
   "execution_count": 92,
   "metadata": {},
   "outputs": [
    {
     "data": {
      "text/plain": [
       "Positive    114314\n",
       "Neutral      36374\n",
       "Negative     14312\n",
       "Name: product_sentiment, dtype: int64"
      ]
     },
     "execution_count": 92,
     "metadata": {},
     "output_type": "execute_result"
    }
   ],
   "source": [
    "# No of reviews per sentiments\n",
    "df.product_sentiment.value_counts()"
   ]
  },
  {
   "cell_type": "code",
   "execution_count": 93,
   "metadata": {},
   "outputs": [
    {
     "name": "stdout",
     "output_type": "stream",
     "text": [
      "Positive    69.281212\n",
      "Neutral     22.044848\n",
      "Negative     8.673939\n",
      "Name: product_sentiment, dtype: float64\n"
     ]
    }
   ],
   "source": [
    "# Percentage of reviews per sentiment\n",
    "percentage = df['product_sentiment'].value_counts(normalize=True)\n",
    "print(percentage * 100)"
   ]
  },
  {
   "cell_type": "code",
   "execution_count": 94,
   "metadata": {
    "scrolled": true
   },
   "outputs": [
    {
     "data": {
      "image/png": "[encoded data removed]",
      "text/plain": [
       "<Figure size 432x288 with 1 Axes>"
      ]
     },
     "metadata": {
      "needs_background": "light"
     },
     "output_type": "display_data"
    }
   ],
   "source": [
    "# Visualization of target variable/product sentiment\n",
    "ax = sns.countplot(x = \"product_sentiment\", data = df)"
   ]
  },
  {
   "cell_type": "markdown",
   "metadata": {},
   "source": [
    "- Upon closer inspection, it's confirmed there was far more positive sentiment at 69% followed by neutral sentiment at 22% and negative sentiment at 8%"
   ]
  },
  {
   "cell_type": "code",
   "execution_count": 95,
   "metadata": {},
   "outputs": [
    {
     "data": {
      "image/png": "[encoded data removed]",
      "text/plain": [
       "<Figure size 720x576 with 1 Axes>"
      ]
     },
     "metadata": {
      "needs_background": "light"
     },
     "output_type": "display_data"
    }
   ],
   "source": [
    "price = df['Price']\n",
    "polarity_scores = df['sentiment']\n",
    "\n",
    "plt.figure(figsize=(10, 8))\n",
    "\n",
    "# Plot scatterplot\n",
    "plt.scatter(price, polarity_scores)\n",
    "plt.xlabel('Price')\n",
    "plt.ylabel('Polarity Scores')\n",
    "plt.title('Relationship between Price and Polarity Scores')\n",
    "plt.show()"
   ]
  },
  {
   "cell_type": "markdown",
   "metadata": {},
   "source": [
    "- There's no relationship between Price and Polarity/Customer Sentiments. It makes sense because someone could buy products of higher or lower prices and it wouldn't be a factor for positive or negative sentiments. It could all come down to other factors like quality or wait times for delivery etc."
   ]
  },
  {
   "cell_type": "code",
   "execution_count": null,
   "metadata": {},
   "outputs": [],
   "source": []
  },
  {
   "cell_type": "code",
   "execution_count": null,
   "metadata": {},
   "outputs": [],
   "source": []
  }
 ],
 "metadata": {
  "kernelspec": {
   "display_name": "Python 3",
   "language": "python",
   "name": "python3"
  },
  "language_info": {
   "codemirror_mode": {
    "name": "ipython",
    "version": 3
   },
   "file_extension": ".py",
   "mimetype": "text/x-python",
   "name": "python",
   "nbconvert_exporter": "python",
   "pygments_lexer": "ipython3",
   "version": "3.8.5"
  }
 },
 "nbformat": 4,
 "nbformat_minor": 5
}
