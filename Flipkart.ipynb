{
 "cells": [
  {
   "cell_type": "markdown",
   "metadata": {},
   "source": [
    "# FLIPKART CUSTOMER SENTIMENT PROJECT\n",
    "\n",
    "**Presented by:**(Pauline Ndungu, Samuel Mbugua Igecha, Leonard Rotich, Samwel Muiru, Maureen Anduuru, Henry Wamunyu)"
   ]
  },
  {
   "cell_type": "markdown",
   "metadata": {},
   "source": [
    "# Business Understanding / Overview \n",
    "Flipkart are an indian e-commerce company and like many others in the e-commerce industry its important to understand customer sentiments towards the products sold on their sites.\n",
    "\n",
    "The aim of this project will be to generate a sentiment analysis model using Natural Language Processing procedures to precisely classify the sentiment (positive or negative) of product reviews on Flipkart.com based on the review text and summary."
   ]
  },
  {
   "cell_type": "markdown",
   "metadata": {},
   "source": [
    "# Objectives\n",
    "\n",
    "1. Gain valuable insights into customer sentiment, public opinion, and brand perception, empowering flipkart to make informed decisions, enhance customer satisfaction, and improve overall reputation of the company.\n",
    "2. Develop an NLP Application that will allow users to input new product reviews and deploy the sentiment analysis model in a production environment to classify the sentiment of reviews in real time.\n",
    "3. Analyze customer sentiments and feedback regarding pricing on Flipkart. The objective could be to understand how customers perceive the value for money of different products, identify price-sensitive segments, and optimize pricing strategies to maximize sales and profitability."
   ]
  },
  {
   "cell_type": "markdown",
   "metadata": {},
   "source": [
    "# DataUnderstanding\n",
    "\n",
    "- This Dataset contains information of Products Name, Price, Review, Rate, Summary for the Sentiment Analysis Purpose. \n",
    "- The dataset will be used for Sentiment Analysis. This dataset contains total 104 types of different products on flipkart.com.\n",
    "- This dataset contains 189874 rows and 5 columns \n"
   ]
  },
  {
   "cell_type": "markdown",
   "metadata": {},
   "source": [
    "# Data Preparation"
   ]
  },
  {
   "cell_type": "code",
   "execution_count": 1,
   "metadata": {},
   "outputs": [],
   "source": [
    "import pandas as pd\n",
    "import matplotlib.pyplot as plt\n",
    "%matplotlib inline\n",
    "import seaborn as sns"
   ]
  },
  {
   "cell_type": "code",
   "execution_count": 2,
   "metadata": {},
   "outputs": [
    {
     "data": {
      "text/html": [
       "<div>\n",
       "<style scoped>\n",
       "    .dataframe tbody tr th:only-of-type {\n",
       "        vertical-align: middle;\n",
       "    }\n",
       "\n",
       "    .dataframe tbody tr th {\n",
       "        vertical-align: top;\n",
       "    }\n",
       "\n",
       "    .dataframe thead th {\n",
       "        text-align: right;\n",
       "    }\n",
       "</style>\n",
       "<table border=\"1\" class=\"dataframe\">\n",
       "  <thead>\n",
       "    <tr style=\"text-align: right;\">\n",
       "      <th></th>\n",
       "      <th>ProductName</th>\n",
       "      <th>Price</th>\n",
       "      <th>Rate</th>\n",
       "      <th>Review</th>\n",
       "      <th>Summary</th>\n",
       "    </tr>\n",
       "  </thead>\n",
       "  <tbody>\n",
       "    <tr>\n",
       "      <th>0</th>\n",
       "      <td>Candes 12 L Room/Personal Air Cooler?ÿ?ÿ(White...</td>\n",
       "      <td>??3,999</td>\n",
       "      <td>5</td>\n",
       "      <td>Super!</td>\n",
       "      <td>Great cooler.. excellent air flow and for this...</td>\n",
       "    </tr>\n",
       "    <tr>\n",
       "      <th>1</th>\n",
       "      <td>Candes 12 L Room/Personal Air Cooler?ÿ?ÿ(White...</td>\n",
       "      <td>??3,999</td>\n",
       "      <td>5</td>\n",
       "      <td>Awesome</td>\n",
       "      <td>Best budget 2 fit cooler. Nice cooling</td>\n",
       "    </tr>\n",
       "    <tr>\n",
       "      <th>2</th>\n",
       "      <td>Candes 12 L Room/Personal Air Cooler?ÿ?ÿ(White...</td>\n",
       "      <td>??3,999</td>\n",
       "      <td>3</td>\n",
       "      <td>Fair</td>\n",
       "      <td>The quality is good but the power of air is de...</td>\n",
       "    </tr>\n",
       "    <tr>\n",
       "      <th>3</th>\n",
       "      <td>Candes 12 L Room/Personal Air Cooler?ÿ?ÿ(White...</td>\n",
       "      <td>??3,999</td>\n",
       "      <td>1</td>\n",
       "      <td>Useless product</td>\n",
       "      <td>Very bad product it's a only a fan</td>\n",
       "    </tr>\n",
       "    <tr>\n",
       "      <th>4</th>\n",
       "      <td>Candes 12 L Room/Personal Air Cooler?ÿ?ÿ(White...</td>\n",
       "      <td>??3,999</td>\n",
       "      <td>3</td>\n",
       "      <td>Fair</td>\n",
       "      <td>Ok ok product</td>\n",
       "    </tr>\n",
       "  </tbody>\n",
       "</table>\n",
       "</div>"
      ],
      "text/plain": [
       "                                         ProductName     Price Rate  \\\n",
       "0  Candes 12 L Room/Personal Air Cooler?ÿ?ÿ(White...  ??3,999    5   \n",
       "1  Candes 12 L Room/Personal Air Cooler?ÿ?ÿ(White...  ??3,999    5   \n",
       "2  Candes 12 L Room/Personal Air Cooler?ÿ?ÿ(White...  ??3,999    3   \n",
       "3  Candes 12 L Room/Personal Air Cooler?ÿ?ÿ(White...  ??3,999    1   \n",
       "4  Candes 12 L Room/Personal Air Cooler?ÿ?ÿ(White...  ??3,999    3   \n",
       "\n",
       "            Review                                            Summary  \n",
       "0           Super!  Great cooler.. excellent air flow and for this...  \n",
       "1          Awesome             Best budget 2 fit cooler. Nice cooling  \n",
       "2             Fair  The quality is good but the power of air is de...  \n",
       "3  Useless product                 Very bad product it's a only a fan  \n",
       "4             Fair                                      Ok ok product  "
      ]
     },
     "execution_count": 2,
     "metadata": {},
     "output_type": "execute_result"
    }
   ],
   "source": [
    "df = pd.read_csv('flipkart_product.csv', encoding='latin-1')\n",
    "df.head()"
   ]
  },
  {
   "cell_type": "code",
   "execution_count": 10,
   "metadata": {},
   "outputs": [
    {
     "name": "stdout",
     "output_type": "stream",
     "text": [
      "Number of rows: 189874\n",
      "Number of columns: 5\n",
      "--------------------------------\n",
      "\n",
      "<class 'pandas.core.frame.DataFrame'>\n",
      "RangeIndex: 189874 entries, 0 to 189873\n",
      "Data columns (total 5 columns):\n",
      " #   Column       Non-Null Count   Dtype \n",
      "---  ------       --------------   ----- \n",
      " 0   ProductName  189874 non-null  object\n",
      " 1   Price        189873 non-null  object\n",
      " 2   Rate         189873 non-null  object\n",
      " 3   Review       189870 non-null  object\n",
      " 4   Summary      189860 non-null  object\n",
      "dtypes: object(5)\n",
      "memory usage: 7.2+ MB\n",
      "info:\n",
      " None\n",
      "--------------------------------\n",
      "\n",
      "Missing values:\n",
      " ProductName     0\n",
      "Price           1\n",
      "Rate            1\n",
      "Review          4\n",
      "Summary        14\n",
      "dtype: int64\n",
      "------------------------------------------\n",
      "\n",
      "Percentage of Missing values\n",
      ": ProductName    0.000000\n",
      "Price          0.000527\n",
      "Rate           0.000527\n",
      "Review         0.002107\n",
      "Summary        0.007373\n",
      "dtype: float64\n",
      "------------------------------------------\n",
      "\n",
      "No. of duplicated values: 24861\n",
      "------------------------------------------\n",
      "\n",
      "duplicated values:\n",
      "                                               ProductName     Price Rate  \\\n",
      "150     MAHARAJA WHITELINE 65 L Desert Air Cooler?ÿ?ÿ(...  ??7,999    4   \n",
      "154     MAHARAJA WHITELINE 65 L Desert Air Cooler?ÿ?ÿ(...  ??7,999    5   \n",
      "248     MAHARAJA WHITELINE 65 L Desert Air Cooler?ÿ?ÿ(...  ??7,999    5   \n",
      "288     MAHARAJA WHITELINE 65 L Desert Air Cooler?ÿ?ÿ(...  ??7,999    4   \n",
      "338     MAHARAJA WHITELINE 65 L Desert Air Cooler?ÿ?ÿ(...  ??7,999    5   \n",
      "...                                                   ...       ...  ...   \n",
      "189864  NIVEA Soft Light Moisturizer for Face, Hand & ...    â¹142    4   \n",
      "189868  NIVEA Soft Light Moisturizer for Face, Hand & ...    â¹142    5   \n",
      "189870  NIVEA Soft Light Moisturizer for Face, Hand & ...    â¹142    5   \n",
      "189871  NIVEA Soft Light Moisturizer for Face, Hand & ...    â¹142    5   \n",
      "189872  NIVEA Soft Light Moisturizer for Face, Hand & ...    â¹142    4   \n",
      "\n",
      "                       Review          Summary  \n",
      "150               Really Nice     Good product  \n",
      "154        Highly recommended          Awesome  \n",
      "248     Mind-blowing purchase  Awesome product  \n",
      "288                 Wonderful             good  \n",
      "338                 Fabulous!             Good  \n",
      "...                       ...              ...  \n",
      "189864            Pretty good        Good ð  \n",
      "189868               Terrific             Good  \n",
      "189870               Terrific             Good  \n",
      "189871              Just wow!            Super  \n",
      "189872        Worth the money             Good  \n",
      "\n",
      "[24861 rows x 5 columns]\n",
      "------------------------------------------\n",
      "\n",
      "Ratings Value counts:\n",
      " 5                                                              108694\n",
      "4                                                               39653\n",
      "1                                                               19607\n",
      "3                                                               15681\n",
      "2                                                                6234\n",
      "Nova Plus Amaze NI 10 1100 W Dry Iron?ÿ?ÿ(Grey & Turquoise)         1\n",
      "Bajaj DX 2 L/W Dry Iron                                             1\n",
      "s                                                                   1\n",
      "Pigeon Favourite Electric Kettle?ÿ?ÿ(1.5 L, Silver, Black)          1\n",
      "Name: Rate, dtype: int64\n",
      "------------------------------------------\n",
      "\n"
     ]
    }
   ],
   "source": [
    "# Function to explore our dataset\n",
    "def explore_data(df):\n",
    " '''\n",
    " Print some basic statistics and information about the DataFrame\n",
    " '''\n",
    " print(f\"Number of rows: {df.shape[0]}\")\n",
    " print(f\"Number of columns: {df.shape[1]}\")\n",
    " print(\"--------------------------------\\n\")\n",
    " print(\"info:\\n\", df.info())\n",
    " print(\"--------------------------------\\n\")\n",
    "\n",
    "\n",
    "explore_data(df)\n",
    "\n",
    "\n",
    "# function to identify missing and duplicate values\n",
    "def clean_data(df):\n",
    "    print(\"Missing values:\\n\", df.isnull().sum())\n",
    "    print(\"------------------------------------------\\n\")\n",
    "    print(\"Percentage of Missing values:\\n\", df.isnull().sum()/len(df)*100)\n",
    "    print(\"------------------------------------------\\n\")\n",
    "    print(\"No. of duplicated values:\", df.duplicated().sum())\n",
    "    print(\"------------------------------------------\\n\")\n",
    "    print(\"duplicated values:\\n\",  df[df.duplicated()])\n",
    "    print(\"------------------------------------------\\n\")\n",
    "    print(\"Ratings Value counts:\\n\",  df.Rate.value_counts())\n",
    "    print(\"------------------------------------------\\n\")\n",
    "    \n",
    "\n",
    "clean_data(df)\n"
   ]
  },
  {
   "cell_type": "code",
   "execution_count": 29,
   "metadata": {},
   "outputs": [],
   "source": [
    "# drop null values\n",
    "df = df.dropna()"
   ]
  },
  {
   "cell_type": "code",
   "execution_count": 31,
   "metadata": {},
   "outputs": [
    {
     "data": {
      "text/plain": [
       "ProductName    0\n",
       "Price          0\n",
       "Rate           0\n",
       "Review         0\n",
       "Summary        0\n",
       "dtype: int64"
      ]
     },
     "execution_count": 31,
     "metadata": {},
     "output_type": "execute_result"
    }
   ],
   "source": [
    "df.isnull().sum()"
   ]
  },
  {
   "cell_type": "code",
   "execution_count": 33,
   "metadata": {},
   "outputs": [],
   "source": [
    "# drop duplicates\n",
    "df = df.drop_duplicates()"
   ]
  },
  {
   "cell_type": "code",
   "execution_count": 35,
   "metadata": {},
   "outputs": [
    {
     "data": {
      "text/plain": [
       "0"
      ]
     },
     "execution_count": 35,
     "metadata": {},
     "output_type": "execute_result"
    }
   ],
   "source": [
    "df.duplicated().sum()"
   ]
  },
  {
   "cell_type": "code",
   "execution_count": null,
   "metadata": {},
   "outputs": [],
   "source": []
  }
 ],
 "metadata": {
  "kernelspec": {
   "display_name": "Python 3",
   "language": "python",
   "name": "python3"
  },
  "language_info": {
   "codemirror_mode": {
    "name": "ipython",
    "version": 3
   },
   "file_extension": ".py",
   "mimetype": "text/x-python",
   "name": "python",
   "nbconvert_exporter": "python",
   "pygments_lexer": "ipython3",
   "version": "3.8.5"
  }
 },
 "nbformat": 4,
 "nbformat_minor": 5
}
